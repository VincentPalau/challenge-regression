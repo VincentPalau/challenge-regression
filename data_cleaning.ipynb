{
 "cells": [
  {
   "cell_type": "markdown",
   "metadata": {},
   "source": [
    "# Import modules"
   ]
  },
  {
   "cell_type": "code",
   "execution_count": 2,
   "metadata": {},
   "outputs": [],
   "source": [
    "import pandas as pd\n",
    "import numpy as np"
   ]
  },
  {
   "cell_type": "markdown",
   "metadata": {},
   "source": [
    "# Create dataframe"
   ]
  },
  {
   "cell_type": "code",
   "execution_count": 3,
   "metadata": {},
   "outputs": [
    {
     "data": {
      "text/html": [
       "<div>\n",
       "<style scoped>\n",
       "    .dataframe tbody tr th:only-of-type {\n",
       "        vertical-align: middle;\n",
       "    }\n",
       "\n",
       "    .dataframe tbody tr th {\n",
       "        vertical-align: top;\n",
       "    }\n",
       "\n",
       "    .dataframe thead th {\n",
       "        text-align: right;\n",
       "    }\n",
       "</style>\n",
       "<table border=\"1\" class=\"dataframe\">\n",
       "  <thead>\n",
       "    <tr style=\"text-align: right;\">\n",
       "      <th></th>\n",
       "      <th>Locality</th>\n",
       "      <th>Price</th>\n",
       "      <th>Bedrooms</th>\n",
       "      <th>Living area</th>\n",
       "      <th>Kitchen type</th>\n",
       "      <th>Furnished</th>\n",
       "      <th>Terrace surface</th>\n",
       "      <th>Garden surface</th>\n",
       "      <th>Surface of the plot</th>\n",
       "      <th>Number of frontages</th>\n",
       "      <th>Swimming pool</th>\n",
       "      <th>Building condition</th>\n",
       "      <th>Type of property</th>\n",
       "    </tr>\n",
       "  </thead>\n",
       "  <tbody>\n",
       "    <tr>\n",
       "      <th>0</th>\n",
       "      <td>bruxelles</td>\n",
       "      <td>500,000</td>\n",
       "      <td>2</td>\n",
       "      <td>90</td>\n",
       "      <td>USA uninstalled</td>\n",
       "      <td>0</td>\n",
       "      <td>12</td>\n",
       "      <td>None</td>\n",
       "      <td>None</td>\n",
       "      <td>2</td>\n",
       "      <td>0</td>\n",
       "      <td>As new</td>\n",
       "      <td>apartment</td>\n",
       "    </tr>\n",
       "    <tr>\n",
       "      <th>1</th>\n",
       "      <td>oupeye</td>\n",
       "      <td>84,000</td>\n",
       "      <td>1</td>\n",
       "      <td>89</td>\n",
       "      <td>Not installed</td>\n",
       "      <td>1</td>\n",
       "      <td>None</td>\n",
       "      <td>125</td>\n",
       "      <td>167</td>\n",
       "      <td>2</td>\n",
       "      <td>None</td>\n",
       "      <td>To renovate</td>\n",
       "      <td>house</td>\n",
       "    </tr>\n",
       "    <tr>\n",
       "      <th>2</th>\n",
       "      <td>laeken</td>\n",
       "      <td>475,000</td>\n",
       "      <td>3</td>\n",
       "      <td>163</td>\n",
       "      <td>USA hyper equipped</td>\n",
       "      <td>0</td>\n",
       "      <td>8</td>\n",
       "      <td>None</td>\n",
       "      <td>None</td>\n",
       "      <td>3</td>\n",
       "      <td>None</td>\n",
       "      <td>As new</td>\n",
       "      <td>duplex</td>\n",
       "    </tr>\n",
       "    <tr>\n",
       "      <th>3</th>\n",
       "      <td>boutersem</td>\n",
       "      <td>425,000</td>\n",
       "      <td>5</td>\n",
       "      <td>190</td>\n",
       "      <td>Semi equipped</td>\n",
       "      <td>0</td>\n",
       "      <td>None</td>\n",
       "      <td>None</td>\n",
       "      <td>1520</td>\n",
       "      <td>4</td>\n",
       "      <td>0</td>\n",
       "      <td>To renovate</td>\n",
       "      <td>house</td>\n",
       "    </tr>\n",
       "    <tr>\n",
       "      <th>4</th>\n",
       "      <td>ixelles</td>\n",
       "      <td>2,700,000</td>\n",
       "      <td>5</td>\n",
       "      <td>557</td>\n",
       "      <td>Hyper equipped</td>\n",
       "      <td>None</td>\n",
       "      <td>50</td>\n",
       "      <td>60</td>\n",
       "      <td>None</td>\n",
       "      <td>2</td>\n",
       "      <td>None</td>\n",
       "      <td>As new</td>\n",
       "      <td>duplex</td>\n",
       "    </tr>\n",
       "    <tr>\n",
       "      <th>5</th>\n",
       "      <td>forest</td>\n",
       "      <td>137,500</td>\n",
       "      <td>None</td>\n",
       "      <td>45</td>\n",
       "      <td>None</td>\n",
       "      <td>0</td>\n",
       "      <td>None</td>\n",
       "      <td>None</td>\n",
       "      <td>None</td>\n",
       "      <td>None</td>\n",
       "      <td>None</td>\n",
       "      <td>To renovate</td>\n",
       "      <td>flat-studio</td>\n",
       "    </tr>\n",
       "    <tr>\n",
       "      <th>6</th>\n",
       "      <td>bruxelles</td>\n",
       "      <td>450,000</td>\n",
       "      <td>2</td>\n",
       "      <td>125</td>\n",
       "      <td>Hyper equipped</td>\n",
       "      <td>0</td>\n",
       "      <td>10</td>\n",
       "      <td>None</td>\n",
       "      <td>None</td>\n",
       "      <td>None</td>\n",
       "      <td>0</td>\n",
       "      <td>As new</td>\n",
       "      <td>apartment</td>\n",
       "    </tr>\n",
       "    <tr>\n",
       "      <th>7</th>\n",
       "      <td>koksijde</td>\n",
       "      <td>349,000</td>\n",
       "      <td>2</td>\n",
       "      <td>87</td>\n",
       "      <td>Hyper equipped</td>\n",
       "      <td>1</td>\n",
       "      <td>2</td>\n",
       "      <td>None</td>\n",
       "      <td>None</td>\n",
       "      <td>None</td>\n",
       "      <td>0</td>\n",
       "      <td>Good</td>\n",
       "      <td>duplex</td>\n",
       "    </tr>\n",
       "    <tr>\n",
       "      <th>8</th>\n",
       "      <td>waterloo</td>\n",
       "      <td>299,000</td>\n",
       "      <td>2</td>\n",
       "      <td>80</td>\n",
       "      <td>Installed</td>\n",
       "      <td>0</td>\n",
       "      <td>16</td>\n",
       "      <td>None</td>\n",
       "      <td>None</td>\n",
       "      <td>None</td>\n",
       "      <td>None</td>\n",
       "      <td>To renovate</td>\n",
       "      <td>apartment</td>\n",
       "    </tr>\n",
       "    <tr>\n",
       "      <th>9</th>\n",
       "      <td>tervuren</td>\n",
       "      <td>4,950,000</td>\n",
       "      <td>6</td>\n",
       "      <td>750</td>\n",
       "      <td>Hyper equipped</td>\n",
       "      <td>None</td>\n",
       "      <td>150</td>\n",
       "      <td>None</td>\n",
       "      <td>20000</td>\n",
       "      <td>4</td>\n",
       "      <td>1</td>\n",
       "      <td>Good</td>\n",
       "      <td>villa</td>\n",
       "    </tr>\n",
       "  </tbody>\n",
       "</table>\n",
       "</div>"
      ],
      "text/plain": [
       "    Locality      Price Bedrooms Living area        Kitchen type Furnished  \\\n",
       "0  bruxelles    500,000        2          90     USA uninstalled         0   \n",
       "1     oupeye     84,000        1          89       Not installed         1   \n",
       "2     laeken    475,000        3         163  USA hyper equipped         0   \n",
       "3  boutersem    425,000        5         190       Semi equipped         0   \n",
       "4    ixelles  2,700,000        5         557      Hyper equipped      None   \n",
       "5     forest    137,500     None          45                None         0   \n",
       "6  bruxelles    450,000        2         125      Hyper equipped         0   \n",
       "7   koksijde    349,000        2          87      Hyper equipped         1   \n",
       "8   waterloo    299,000        2          80           Installed         0   \n",
       "9   tervuren  4,950,000        6         750      Hyper equipped      None   \n",
       "\n",
       "  Terrace surface Garden surface Surface of the plot Number of frontages  \\\n",
       "0              12           None                None                   2   \n",
       "1            None            125                 167                   2   \n",
       "2               8           None                None                   3   \n",
       "3            None           None                1520                   4   \n",
       "4              50             60                None                   2   \n",
       "5            None           None                None                None   \n",
       "6              10           None                None                None   \n",
       "7               2           None                None                None   \n",
       "8              16           None                None                None   \n",
       "9             150           None               20000                   4   \n",
       "\n",
       "  Swimming pool Building condition Type of property  \n",
       "0             0             As new        apartment  \n",
       "1          None        To renovate            house  \n",
       "2          None             As new           duplex  \n",
       "3             0        To renovate            house  \n",
       "4          None             As new           duplex  \n",
       "5          None        To renovate      flat-studio  \n",
       "6             0             As new        apartment  \n",
       "7             0               Good           duplex  \n",
       "8          None        To renovate        apartment  \n",
       "9             1               Good            villa  "
      ]
     },
     "execution_count": 3,
     "metadata": {},
     "output_type": "execute_result"
    }
   ],
   "source": [
    "df = pd.read_csv(\"C:/Users/vpala/Artificial Intelligence/BeCode/challenge-collecting-data/utils/properties.csv\")\n",
    "df.head(10)"
   ]
  },
  {
   "cell_type": "code",
   "execution_count": 4,
   "metadata": {},
   "outputs": [
    {
     "data": {
      "text/plain": [
       "new-real-estate-project-apartments    552\n",
       "flat-studio                           135\n",
       "new-real-estate-project-houses        105\n",
       "mixed-use-building                     18\n",
       "apartment-block                        16\n",
       "house                                   8\n",
       "apartment                               8\n",
       "kot                                     2\n",
       "service-flat                            1\n",
       "mansion                                 1\n",
       "country-cottage                         1\n",
       "penthouse                               1\n",
       "villa                                   1\n",
       "Name: Type of property, dtype: int64"
      ]
     },
     "execution_count": 4,
     "metadata": {},
     "output_type": "execute_result"
    }
   ],
   "source": [
    "df[df[\"Bedrooms\"] == \"None\"][\"Type of property\"].value_counts()"
   ]
  },
  {
   "cell_type": "markdown",
   "metadata": {},
   "source": [
    "# Remove new real estate projects"
   ]
  },
  {
   "cell_type": "code",
   "execution_count": 5,
   "metadata": {},
   "outputs": [],
   "source": [
    "df.drop(df[df[\"Type of property\"] == \"new-real-estate-project-apartments\"].index, inplace=True)"
   ]
  },
  {
   "cell_type": "code",
   "execution_count": 6,
   "metadata": {},
   "outputs": [],
   "source": [
    "df.drop(df[df[\"Type of property\"] == \"new-real-estate-project-houses\"].index, inplace=True)"
   ]
  },
  {
   "cell_type": "markdown",
   "metadata": {},
   "source": [
    "# Clean column \"Bedrooms\""
   ]
  },
  {
   "cell_type": "markdown",
   "metadata": {},
   "source": [
    "### Subset dataframe for studios"
   ]
  },
  {
   "cell_type": "code",
   "execution_count": 7,
   "metadata": {},
   "outputs": [],
   "source": [
    "df_studio = df[df[\"Type of property\"] == \"flat-studio\"]"
   ]
  },
  {
   "cell_type": "markdown",
   "metadata": {},
   "source": [
    "### Set number of rooms in studios to zero"
   ]
  },
  {
   "cell_type": "code",
   "execution_count": 8,
   "metadata": {},
   "outputs": [
    {
     "name": "stderr",
     "output_type": "stream",
     "text": [
      "C:\\Users\\vpala\\AppData\\Local\\Programs\\Python\\Python310\\lib\\site-packages\\pandas\\core\\generic.py:6619: SettingWithCopyWarning: \n",
      "A value is trying to be set on a copy of a slice from a DataFrame\n",
      "\n",
      "See the caveats in the documentation: https://pandas.pydata.org/pandas-docs/stable/user_guide/indexing.html#returning-a-view-versus-a-copy\n",
      "  return self._update_inplace(result)\n"
     ]
    }
   ],
   "source": [
    "df_studio[\"Bedrooms\"].replace({\"None\":0, \"1\":0}, inplace=True)"
   ]
  },
  {
   "cell_type": "code",
   "execution_count": 9,
   "metadata": {},
   "outputs": [
    {
     "data": {
      "text/plain": [
       "Bedrooms\n",
       "0           179\n",
       "dtype: int64"
      ]
     },
     "execution_count": 9,
     "metadata": {},
     "output_type": "execute_result"
    }
   ],
   "source": [
    "df_studio[[\"Bedrooms\"]].value_counts()"
   ]
  },
  {
   "cell_type": "markdown",
   "metadata": {},
   "source": [
    "### Merge dataframes"
   ]
  },
  {
   "cell_type": "code",
   "execution_count": 10,
   "metadata": {},
   "outputs": [],
   "source": [
    "df.drop(df[df[\"Type of property\"] == \"flat-studio\"].index, inplace=True)"
   ]
  },
  {
   "cell_type": "code",
   "execution_count": 11,
   "metadata": {},
   "outputs": [],
   "source": [
    "df = pd.concat([df, df_studio])"
   ]
  },
  {
   "cell_type": "code",
   "execution_count": 12,
   "metadata": {},
   "outputs": [
    {
     "data": {
      "text/plain": [
       "Bedrooms\n",
       "0           179\n",
       "dtype: int64"
      ]
     },
     "execution_count": 12,
     "metadata": {},
     "output_type": "execute_result"
    }
   ],
   "source": [
    "df[df[\"Type of property\"] == \"flat-studio\"][[\"Bedrooms\"]].value_counts()"
   ]
  },
  {
   "cell_type": "markdown",
   "metadata": {},
   "source": [
    "### Remove remaining properties with \"Bedrooms\" equal to \"None\""
   ]
  },
  {
   "cell_type": "code",
   "execution_count": 13,
   "metadata": {},
   "outputs": [
    {
     "data": {
      "text/plain": [
       "57"
      ]
     },
     "execution_count": 13,
     "metadata": {},
     "output_type": "execute_result"
    }
   ],
   "source": [
    "df[df[\"Bedrooms\"] == \"None\"].value_counts().sum()"
   ]
  },
  {
   "cell_type": "code",
   "execution_count": 14,
   "metadata": {},
   "outputs": [],
   "source": [
    "df.drop(df[df[\"Bedrooms\"] == \"None\"].index, inplace=True)"
   ]
  },
  {
   "cell_type": "markdown",
   "metadata": {},
   "source": [
    "### Convert \"Bedrooms\" to integer"
   ]
  },
  {
   "cell_type": "code",
   "execution_count": 15,
   "metadata": {},
   "outputs": [],
   "source": [
    "df.Bedrooms = df.Bedrooms.apply(lambda x : int(x))"
   ]
  },
  {
   "cell_type": "code",
   "execution_count": 16,
   "metadata": {},
   "outputs": [
    {
     "data": {
      "text/plain": [
       "dtype('int64')"
      ]
     },
     "execution_count": 16,
     "metadata": {},
     "output_type": "execute_result"
    }
   ],
   "source": [
    "df.Bedrooms.dtype"
   ]
  },
  {
   "cell_type": "markdown",
   "metadata": {},
   "source": [
    "### Look for outliers"
   ]
  },
  {
   "cell_type": "code",
   "execution_count": 17,
   "metadata": {},
   "outputs": [
    {
     "data": {
      "text/plain": [
       "1282    94\n",
       "5248    27\n",
       "6071    26\n",
       "6565    23\n",
       "1181    22\n",
       "Name: Bedrooms, dtype: int64"
      ]
     },
     "execution_count": 17,
     "metadata": {},
     "output_type": "execute_result"
    }
   ],
   "source": [
    "df.Bedrooms.sort_values(ascending=False).head()"
   ]
  },
  {
   "cell_type": "code",
   "execution_count": 18,
   "metadata": {},
   "outputs": [
    {
     "data": {
      "text/plain": [
       "Locality                         dison\n",
       "Price                        3,699,000\n",
       "Bedrooms                            94\n",
       "Living area                       3189\n",
       "Kitchen type                 Installed\n",
       "Furnished                            0\n",
       "Terrace surface                    220\n",
       "Garden surface                     778\n",
       "Surface of the plot               3699\n",
       "Number of frontages                  4\n",
       "Swimming pool                        0\n",
       "Building condition                Good\n",
       "Type of property       apartment-block\n",
       "Name: 1282, dtype: object"
      ]
     },
     "execution_count": 18,
     "metadata": {},
     "output_type": "execute_result"
    }
   ],
   "source": [
    "df.loc[1282]"
   ]
  },
  {
   "cell_type": "markdown",
   "metadata": {},
   "source": [
    "### Remove the one outlier"
   ]
  },
  {
   "cell_type": "code",
   "execution_count": 19,
   "metadata": {},
   "outputs": [],
   "source": [
    "df.drop(1282, inplace=True)"
   ]
  },
  {
   "cell_type": "markdown",
   "metadata": {},
   "source": [
    "# Clean column \"Living area\""
   ]
  },
  {
   "cell_type": "markdown",
   "metadata": {},
   "source": [
    "### Remove properties with \"Living area\" equal to \"None\""
   ]
  },
  {
   "cell_type": "code",
   "execution_count": 20,
   "metadata": {},
   "outputs": [
    {
     "data": {
      "text/plain": [
       "273"
      ]
     },
     "execution_count": 20,
     "metadata": {},
     "output_type": "execute_result"
    }
   ],
   "source": [
    "df[df[\"Living area\"] == \"None\"].value_counts().sum()"
   ]
  },
  {
   "cell_type": "code",
   "execution_count": 21,
   "metadata": {},
   "outputs": [],
   "source": [
    "df.drop(df[df[\"Living area\"] == \"None\"].index, inplace=True)"
   ]
  },
  {
   "cell_type": "markdown",
   "metadata": {},
   "source": [
    "### Convert \"Living area\" to integer"
   ]
  },
  {
   "cell_type": "code",
   "execution_count": 22,
   "metadata": {},
   "outputs": [],
   "source": [
    "df[\"Living area\"] = df[\"Living area\"].apply(lambda x: int(x))"
   ]
  },
  {
   "cell_type": "code",
   "execution_count": 23,
   "metadata": {},
   "outputs": [
    {
     "data": {
      "text/plain": [
       "0        90\n",
       "1        89\n",
       "2       163\n",
       "3       190\n",
       "4       557\n",
       "       ... \n",
       "9862     24\n",
       "9945     21\n",
       "9969     24\n",
       "9976     53\n",
       "9990     30\n",
       "Name: Living area, Length: 9015, dtype: int64"
      ]
     },
     "execution_count": 23,
     "metadata": {},
     "output_type": "execute_result"
    }
   ],
   "source": [
    "df[\"Living area\"]"
   ]
  },
  {
   "cell_type": "code",
   "execution_count": 24,
   "metadata": {},
   "outputs": [
    {
     "data": {
      "text/plain": [
       "15"
      ]
     },
     "execution_count": 24,
     "metadata": {},
     "output_type": "execute_result"
    }
   ],
   "source": [
    "# Smallest living area\n",
    "df[\"Living area\"].min()"
   ]
  },
  {
   "cell_type": "markdown",
   "metadata": {},
   "source": [
    "# Clean column \"Price\""
   ]
  },
  {
   "cell_type": "code",
   "execution_count": 25,
   "metadata": {},
   "outputs": [
    {
     "data": {
      "text/html": [
       "<div>\n",
       "<style scoped>\n",
       "    .dataframe tbody tr th:only-of-type {\n",
       "        vertical-align: middle;\n",
       "    }\n",
       "\n",
       "    .dataframe tbody tr th {\n",
       "        vertical-align: top;\n",
       "    }\n",
       "\n",
       "    .dataframe thead th {\n",
       "        text-align: right;\n",
       "    }\n",
       "</style>\n",
       "<table border=\"1\" class=\"dataframe\">\n",
       "  <thead>\n",
       "    <tr style=\"text-align: right;\">\n",
       "      <th></th>\n",
       "      <th>Locality</th>\n",
       "      <th>Price</th>\n",
       "      <th>Bedrooms</th>\n",
       "      <th>Living area</th>\n",
       "      <th>Kitchen type</th>\n",
       "      <th>Furnished</th>\n",
       "      <th>Terrace surface</th>\n",
       "      <th>Garden surface</th>\n",
       "      <th>Surface of the plot</th>\n",
       "      <th>Number of frontages</th>\n",
       "      <th>Swimming pool</th>\n",
       "      <th>Building condition</th>\n",
       "      <th>Type of property</th>\n",
       "    </tr>\n",
       "  </thead>\n",
       "  <tbody>\n",
       "    <tr>\n",
       "      <th>293</th>\n",
       "      <td>sint-eloois-vijve</td>\n",
       "      <td>None</td>\n",
       "      <td>4</td>\n",
       "      <td>184</td>\n",
       "      <td>Installed</td>\n",
       "      <td>None</td>\n",
       "      <td>None</td>\n",
       "      <td>None</td>\n",
       "      <td>358</td>\n",
       "      <td>2</td>\n",
       "      <td>None</td>\n",
       "      <td>Good</td>\n",
       "      <td>house</td>\n",
       "    </tr>\n",
       "    <tr>\n",
       "      <th>544</th>\n",
       "      <td>sint-niklaas</td>\n",
       "      <td>None</td>\n",
       "      <td>4</td>\n",
       "      <td>223</td>\n",
       "      <td>Installed</td>\n",
       "      <td>None</td>\n",
       "      <td>None</td>\n",
       "      <td>None</td>\n",
       "      <td>170</td>\n",
       "      <td>2</td>\n",
       "      <td>None</td>\n",
       "      <td>To renovate</td>\n",
       "      <td>house</td>\n",
       "    </tr>\n",
       "    <tr>\n",
       "      <th>565</th>\n",
       "      <td>seraing</td>\n",
       "      <td>None</td>\n",
       "      <td>1</td>\n",
       "      <td>70</td>\n",
       "      <td>Installed</td>\n",
       "      <td>None</td>\n",
       "      <td>None</td>\n",
       "      <td>None</td>\n",
       "      <td>None</td>\n",
       "      <td>None</td>\n",
       "      <td>None</td>\n",
       "      <td>Good</td>\n",
       "      <td>apartment</td>\n",
       "    </tr>\n",
       "    <tr>\n",
       "      <th>586</th>\n",
       "      <td>liezele</td>\n",
       "      <td>None</td>\n",
       "      <td>3</td>\n",
       "      <td>206</td>\n",
       "      <td>Installed</td>\n",
       "      <td>0</td>\n",
       "      <td>None</td>\n",
       "      <td>None</td>\n",
       "      <td>820</td>\n",
       "      <td>4</td>\n",
       "      <td>None</td>\n",
       "      <td>None</td>\n",
       "      <td>house</td>\n",
       "    </tr>\n",
       "    <tr>\n",
       "      <th>730</th>\n",
       "      <td>ombret</td>\n",
       "      <td>None</td>\n",
       "      <td>3</td>\n",
       "      <td>95</td>\n",
       "      <td>Installed</td>\n",
       "      <td>None</td>\n",
       "      <td>None</td>\n",
       "      <td>None</td>\n",
       "      <td>476</td>\n",
       "      <td>2</td>\n",
       "      <td>None</td>\n",
       "      <td>As new</td>\n",
       "      <td>house</td>\n",
       "    </tr>\n",
       "    <tr>\n",
       "      <th>...</th>\n",
       "      <td>...</td>\n",
       "      <td>...</td>\n",
       "      <td>...</td>\n",
       "      <td>...</td>\n",
       "      <td>...</td>\n",
       "      <td>...</td>\n",
       "      <td>...</td>\n",
       "      <td>...</td>\n",
       "      <td>...</td>\n",
       "      <td>...</td>\n",
       "      <td>...</td>\n",
       "      <td>...</td>\n",
       "      <td>...</td>\n",
       "    </tr>\n",
       "    <tr>\n",
       "      <th>9625</th>\n",
       "      <td>heldergem</td>\n",
       "      <td>None</td>\n",
       "      <td>2</td>\n",
       "      <td>131</td>\n",
       "      <td>None</td>\n",
       "      <td>None</td>\n",
       "      <td>None</td>\n",
       "      <td>None</td>\n",
       "      <td>390</td>\n",
       "      <td>2</td>\n",
       "      <td>None</td>\n",
       "      <td>Good</td>\n",
       "      <td>house</td>\n",
       "    </tr>\n",
       "    <tr>\n",
       "      <th>9814</th>\n",
       "      <td>andenne</td>\n",
       "      <td>None</td>\n",
       "      <td>3</td>\n",
       "      <td>98</td>\n",
       "      <td>Installed</td>\n",
       "      <td>0</td>\n",
       "      <td>None</td>\n",
       "      <td>None</td>\n",
       "      <td>None</td>\n",
       "      <td>3</td>\n",
       "      <td>0</td>\n",
       "      <td>Good</td>\n",
       "      <td>apartment</td>\n",
       "    </tr>\n",
       "    <tr>\n",
       "      <th>9826</th>\n",
       "      <td>bornem</td>\n",
       "      <td>None</td>\n",
       "      <td>3</td>\n",
       "      <td>216</td>\n",
       "      <td>Installed</td>\n",
       "      <td>0</td>\n",
       "      <td>None</td>\n",
       "      <td>None</td>\n",
       "      <td>820</td>\n",
       "      <td>4</td>\n",
       "      <td>None</td>\n",
       "      <td>None</td>\n",
       "      <td>villa</td>\n",
       "    </tr>\n",
       "    <tr>\n",
       "      <th>9880</th>\n",
       "      <td>heusy</td>\n",
       "      <td>None</td>\n",
       "      <td>8</td>\n",
       "      <td>351</td>\n",
       "      <td>Installed</td>\n",
       "      <td>None</td>\n",
       "      <td>None</td>\n",
       "      <td>None</td>\n",
       "      <td>965</td>\n",
       "      <td>4</td>\n",
       "      <td>None</td>\n",
       "      <td>To be done up</td>\n",
       "      <td>villa</td>\n",
       "    </tr>\n",
       "    <tr>\n",
       "      <th>9966</th>\n",
       "      <td>woluwe-saint-lambert</td>\n",
       "      <td>None</td>\n",
       "      <td>3</td>\n",
       "      <td>236</td>\n",
       "      <td>Installed</td>\n",
       "      <td>None</td>\n",
       "      <td>None</td>\n",
       "      <td>None</td>\n",
       "      <td>None</td>\n",
       "      <td>None</td>\n",
       "      <td>None</td>\n",
       "      <td>Good</td>\n",
       "      <td>penthouse</td>\n",
       "    </tr>\n",
       "  </tbody>\n",
       "</table>\n",
       "<p>84 rows × 13 columns</p>\n",
       "</div>"
      ],
      "text/plain": [
       "                  Locality Price  Bedrooms  Living area Kitchen type  \\\n",
       "293      sint-eloois-vijve  None         4          184    Installed   \n",
       "544           sint-niklaas  None         4          223    Installed   \n",
       "565                seraing  None         1           70    Installed   \n",
       "586                liezele  None         3          206    Installed   \n",
       "730                 ombret  None         3           95    Installed   \n",
       "...                    ...   ...       ...          ...          ...   \n",
       "9625             heldergem  None         2          131         None   \n",
       "9814               andenne  None         3           98    Installed   \n",
       "9826                bornem  None         3          216    Installed   \n",
       "9880                 heusy  None         8          351    Installed   \n",
       "9966  woluwe-saint-lambert  None         3          236    Installed   \n",
       "\n",
       "     Furnished Terrace surface Garden surface Surface of the plot  \\\n",
       "293       None            None           None                 358   \n",
       "544       None            None           None                 170   \n",
       "565       None            None           None                None   \n",
       "586          0            None           None                 820   \n",
       "730       None            None           None                 476   \n",
       "...        ...             ...            ...                 ...   \n",
       "9625      None            None           None                 390   \n",
       "9814         0            None           None                None   \n",
       "9826         0            None           None                 820   \n",
       "9880      None            None           None                 965   \n",
       "9966      None            None           None                None   \n",
       "\n",
       "     Number of frontages Swimming pool Building condition Type of property  \n",
       "293                    2          None               Good            house  \n",
       "544                    2          None        To renovate            house  \n",
       "565                 None          None               Good        apartment  \n",
       "586                    4          None               None            house  \n",
       "730                    2          None             As new            house  \n",
       "...                  ...           ...                ...              ...  \n",
       "9625                   2          None               Good            house  \n",
       "9814                   3             0               Good        apartment  \n",
       "9826                   4          None               None            villa  \n",
       "9880                   4          None      To be done up            villa  \n",
       "9966                None          None               Good        penthouse  \n",
       "\n",
       "[84 rows x 13 columns]"
      ]
     },
     "execution_count": 25,
     "metadata": {},
     "output_type": "execute_result"
    }
   ],
   "source": [
    "df[df[\"Price\"] == \"None\"]"
   ]
  },
  {
   "cell_type": "markdown",
   "metadata": {},
   "source": [
    "### Remove properties with \"Price\" equal to \"None\""
   ]
  },
  {
   "cell_type": "code",
   "execution_count": 26,
   "metadata": {},
   "outputs": [],
   "source": [
    "df.drop(df[df[\"Price\"] == \"None\"].index, inplace=True)"
   ]
  },
  {
   "cell_type": "markdown",
   "metadata": {},
   "source": [
    "### Convert \"Price\" to integer"
   ]
  },
  {
   "cell_type": "code",
   "execution_count": 27,
   "metadata": {},
   "outputs": [],
   "source": [
    "df.Price = df.Price.apply(lambda x: int(x.replace(\",\", \"\")))"
   ]
  },
  {
   "cell_type": "code",
   "execution_count": 28,
   "metadata": {},
   "outputs": [
    {
     "data": {
      "text/plain": [
       "dtype('int64')"
      ]
     },
     "execution_count": 28,
     "metadata": {},
     "output_type": "execute_result"
    }
   ],
   "source": [
    "df.Price.dtype"
   ]
  },
  {
   "cell_type": "markdown",
   "metadata": {},
   "source": [
    "# Remove useless columns"
   ]
  },
  {
   "cell_type": "code",
   "execution_count": 29,
   "metadata": {},
   "outputs": [
    {
     "data": {
      "text/plain": [
       "Index(['Locality', 'Price', 'Bedrooms', 'Living area', 'Kitchen type',\n",
       "       'Furnished', 'Terrace surface', 'Garden surface', 'Surface of the plot',\n",
       "       'Number of frontages', 'Swimming pool', 'Building condition',\n",
       "       'Type of property'],\n",
       "      dtype='object')"
      ]
     },
     "execution_count": 29,
     "metadata": {},
     "output_type": "execute_result"
    }
   ],
   "source": [
    "df.columns"
   ]
  },
  {
   "cell_type": "code",
   "execution_count": 30,
   "metadata": {},
   "outputs": [],
   "source": [
    "df.drop([\"Surface of the plot\", \"Number of frontages\", \"Building condition\"], axis=1, inplace=True)"
   ]
  },
  {
   "cell_type": "code",
   "execution_count": 31,
   "metadata": {},
   "outputs": [
    {
     "data": {
      "text/html": [
       "<div>\n",
       "<style scoped>\n",
       "    .dataframe tbody tr th:only-of-type {\n",
       "        vertical-align: middle;\n",
       "    }\n",
       "\n",
       "    .dataframe tbody tr th {\n",
       "        vertical-align: top;\n",
       "    }\n",
       "\n",
       "    .dataframe thead th {\n",
       "        text-align: right;\n",
       "    }\n",
       "</style>\n",
       "<table border=\"1\" class=\"dataframe\">\n",
       "  <thead>\n",
       "    <tr style=\"text-align: right;\">\n",
       "      <th></th>\n",
       "      <th>Locality</th>\n",
       "      <th>Price</th>\n",
       "      <th>Bedrooms</th>\n",
       "      <th>Living area</th>\n",
       "      <th>Kitchen type</th>\n",
       "      <th>Furnished</th>\n",
       "      <th>Terrace surface</th>\n",
       "      <th>Garden surface</th>\n",
       "      <th>Swimming pool</th>\n",
       "      <th>Type of property</th>\n",
       "    </tr>\n",
       "  </thead>\n",
       "  <tbody>\n",
       "    <tr>\n",
       "      <th>0</th>\n",
       "      <td>bruxelles</td>\n",
       "      <td>500000</td>\n",
       "      <td>2</td>\n",
       "      <td>90</td>\n",
       "      <td>USA uninstalled</td>\n",
       "      <td>0</td>\n",
       "      <td>12</td>\n",
       "      <td>None</td>\n",
       "      <td>0</td>\n",
       "      <td>apartment</td>\n",
       "    </tr>\n",
       "    <tr>\n",
       "      <th>1</th>\n",
       "      <td>oupeye</td>\n",
       "      <td>84000</td>\n",
       "      <td>1</td>\n",
       "      <td>89</td>\n",
       "      <td>Not installed</td>\n",
       "      <td>1</td>\n",
       "      <td>None</td>\n",
       "      <td>125</td>\n",
       "      <td>None</td>\n",
       "      <td>house</td>\n",
       "    </tr>\n",
       "    <tr>\n",
       "      <th>2</th>\n",
       "      <td>laeken</td>\n",
       "      <td>475000</td>\n",
       "      <td>3</td>\n",
       "      <td>163</td>\n",
       "      <td>USA hyper equipped</td>\n",
       "      <td>0</td>\n",
       "      <td>8</td>\n",
       "      <td>None</td>\n",
       "      <td>None</td>\n",
       "      <td>duplex</td>\n",
       "    </tr>\n",
       "    <tr>\n",
       "      <th>3</th>\n",
       "      <td>boutersem</td>\n",
       "      <td>425000</td>\n",
       "      <td>5</td>\n",
       "      <td>190</td>\n",
       "      <td>Semi equipped</td>\n",
       "      <td>0</td>\n",
       "      <td>None</td>\n",
       "      <td>None</td>\n",
       "      <td>0</td>\n",
       "      <td>house</td>\n",
       "    </tr>\n",
       "    <tr>\n",
       "      <th>4</th>\n",
       "      <td>ixelles</td>\n",
       "      <td>2700000</td>\n",
       "      <td>5</td>\n",
       "      <td>557</td>\n",
       "      <td>Hyper equipped</td>\n",
       "      <td>None</td>\n",
       "      <td>50</td>\n",
       "      <td>60</td>\n",
       "      <td>None</td>\n",
       "      <td>duplex</td>\n",
       "    </tr>\n",
       "  </tbody>\n",
       "</table>\n",
       "</div>"
      ],
      "text/plain": [
       "    Locality    Price  Bedrooms  Living area        Kitchen type Furnished  \\\n",
       "0  bruxelles   500000         2           90     USA uninstalled         0   \n",
       "1     oupeye    84000         1           89       Not installed         1   \n",
       "2     laeken   475000         3          163  USA hyper equipped         0   \n",
       "3  boutersem   425000         5          190       Semi equipped         0   \n",
       "4    ixelles  2700000         5          557      Hyper equipped      None   \n",
       "\n",
       "  Terrace surface Garden surface Swimming pool Type of property  \n",
       "0              12           None             0        apartment  \n",
       "1            None            125          None            house  \n",
       "2               8           None          None           duplex  \n",
       "3            None           None             0            house  \n",
       "4              50             60          None           duplex  "
      ]
     },
     "execution_count": 31,
     "metadata": {},
     "output_type": "execute_result"
    }
   ],
   "source": [
    "df.head()"
   ]
  },
  {
   "cell_type": "markdown",
   "metadata": {},
   "source": [
    "# Clean \"Kitchen type\""
   ]
  },
  {
   "cell_type": "code",
   "execution_count": 32,
   "metadata": {},
   "outputs": [],
   "source": [
    "# not equipped, semi-equipped, equipped or super-equipped\n",
    "df[\"Kitchen type\"].replace({\n",
    "    \"Installed\":\"equipped\",\n",
    "    \"Hyper equipped\":\"super-equipped\",\n",
    "    \"None\":\"not equipped\",\n",
    "    \"Semi equipped\":\"semi-equipped\",\n",
    "    \"USA hyper equipped\":\"super-equipped\",\n",
    "    \"Not installed\":\"not equipped\",\n",
    "    \"USA installed\":\"equipped\",\n",
    "    \"USA semi equipped\":\"semi-equipped\",\n",
    "    \"USA uninstalled\":\"not equipped\",\n",
    "    }, inplace=True)"
   ]
  },
  {
   "cell_type": "code",
   "execution_count": 33,
   "metadata": {},
   "outputs": [
    {
     "data": {
      "text/plain": [
       "equipped          3569\n",
       "super-equipped    2571\n",
       "not equipped      1659\n",
       "semi-equipped     1132\n",
       "Name: Kitchen type, dtype: int64"
      ]
     },
     "execution_count": 33,
     "metadata": {},
     "output_type": "execute_result"
    }
   ],
   "source": [
    "df[\"Kitchen type\"].value_counts()"
   ]
  },
  {
   "cell_type": "markdown",
   "metadata": {},
   "source": [
    "# Convert remaining \"None\" to zeros"
   ]
  },
  {
   "cell_type": "code",
   "execution_count": 34,
   "metadata": {},
   "outputs": [],
   "source": [
    "df.replace(\"None\", 0, inplace=True)"
   ]
  },
  {
   "cell_type": "code",
   "execution_count": 35,
   "metadata": {},
   "outputs": [
    {
     "data": {
      "text/html": [
       "<div>\n",
       "<style scoped>\n",
       "    .dataframe tbody tr th:only-of-type {\n",
       "        vertical-align: middle;\n",
       "    }\n",
       "\n",
       "    .dataframe tbody tr th {\n",
       "        vertical-align: top;\n",
       "    }\n",
       "\n",
       "    .dataframe thead th {\n",
       "        text-align: right;\n",
       "    }\n",
       "</style>\n",
       "<table border=\"1\" class=\"dataframe\">\n",
       "  <thead>\n",
       "    <tr style=\"text-align: right;\">\n",
       "      <th></th>\n",
       "      <th>Locality</th>\n",
       "      <th>Price</th>\n",
       "      <th>Bedrooms</th>\n",
       "      <th>Living area</th>\n",
       "      <th>Kitchen type</th>\n",
       "      <th>Furnished</th>\n",
       "      <th>Terrace surface</th>\n",
       "      <th>Garden surface</th>\n",
       "      <th>Swimming pool</th>\n",
       "      <th>Type of property</th>\n",
       "    </tr>\n",
       "  </thead>\n",
       "  <tbody>\n",
       "    <tr>\n",
       "      <th>0</th>\n",
       "      <td>bruxelles</td>\n",
       "      <td>500000</td>\n",
       "      <td>2</td>\n",
       "      <td>90</td>\n",
       "      <td>not equipped</td>\n",
       "      <td>0</td>\n",
       "      <td>12</td>\n",
       "      <td>0</td>\n",
       "      <td>0</td>\n",
       "      <td>apartment</td>\n",
       "    </tr>\n",
       "    <tr>\n",
       "      <th>1</th>\n",
       "      <td>oupeye</td>\n",
       "      <td>84000</td>\n",
       "      <td>1</td>\n",
       "      <td>89</td>\n",
       "      <td>not equipped</td>\n",
       "      <td>1</td>\n",
       "      <td>0</td>\n",
       "      <td>125</td>\n",
       "      <td>0</td>\n",
       "      <td>house</td>\n",
       "    </tr>\n",
       "    <tr>\n",
       "      <th>2</th>\n",
       "      <td>laeken</td>\n",
       "      <td>475000</td>\n",
       "      <td>3</td>\n",
       "      <td>163</td>\n",
       "      <td>super-equipped</td>\n",
       "      <td>0</td>\n",
       "      <td>8</td>\n",
       "      <td>0</td>\n",
       "      <td>0</td>\n",
       "      <td>duplex</td>\n",
       "    </tr>\n",
       "    <tr>\n",
       "      <th>3</th>\n",
       "      <td>boutersem</td>\n",
       "      <td>425000</td>\n",
       "      <td>5</td>\n",
       "      <td>190</td>\n",
       "      <td>semi-equipped</td>\n",
       "      <td>0</td>\n",
       "      <td>0</td>\n",
       "      <td>0</td>\n",
       "      <td>0</td>\n",
       "      <td>house</td>\n",
       "    </tr>\n",
       "    <tr>\n",
       "      <th>4</th>\n",
       "      <td>ixelles</td>\n",
       "      <td>2700000</td>\n",
       "      <td>5</td>\n",
       "      <td>557</td>\n",
       "      <td>super-equipped</td>\n",
       "      <td>0</td>\n",
       "      <td>50</td>\n",
       "      <td>60</td>\n",
       "      <td>0</td>\n",
       "      <td>duplex</td>\n",
       "    </tr>\n",
       "  </tbody>\n",
       "</table>\n",
       "</div>"
      ],
      "text/plain": [
       "    Locality    Price  Bedrooms  Living area    Kitchen type Furnished  \\\n",
       "0  bruxelles   500000         2           90    not equipped         0   \n",
       "1     oupeye    84000         1           89    not equipped         1   \n",
       "2     laeken   475000         3          163  super-equipped         0   \n",
       "3  boutersem   425000         5          190   semi-equipped         0   \n",
       "4    ixelles  2700000         5          557  super-equipped         0   \n",
       "\n",
       "  Terrace surface Garden surface Swimming pool Type of property  \n",
       "0              12              0             0        apartment  \n",
       "1               0            125             0            house  \n",
       "2               8              0             0           duplex  \n",
       "3               0              0             0            house  \n",
       "4              50             60             0           duplex  "
      ]
     },
     "execution_count": 35,
     "metadata": {},
     "output_type": "execute_result"
    }
   ],
   "source": [
    "df.head()"
   ]
  },
  {
   "cell_type": "markdown",
   "metadata": {},
   "source": [
    "# Simple linear regression"
   ]
  },
  {
   "cell_type": "code",
   "execution_count": 119,
   "metadata": {},
   "outputs": [
    {
     "data": {
      "text/html": [
       "<div>\n",
       "<style scoped>\n",
       "    .dataframe tbody tr th:only-of-type {\n",
       "        vertical-align: middle;\n",
       "    }\n",
       "\n",
       "    .dataframe tbody tr th {\n",
       "        vertical-align: top;\n",
       "    }\n",
       "\n",
       "    .dataframe thead th {\n",
       "        text-align: right;\n",
       "    }\n",
       "</style>\n",
       "<table border=\"1\" class=\"dataframe\">\n",
       "  <thead>\n",
       "    <tr style=\"text-align: right;\">\n",
       "      <th></th>\n",
       "      <th>Price</th>\n",
       "      <th>Bedrooms</th>\n",
       "      <th>Living area</th>\n",
       "    </tr>\n",
       "  </thead>\n",
       "  <tbody>\n",
       "    <tr>\n",
       "      <th>Price</th>\n",
       "      <td>1.000000</td>\n",
       "      <td>0.416134</td>\n",
       "      <td>0.593956</td>\n",
       "    </tr>\n",
       "    <tr>\n",
       "      <th>Bedrooms</th>\n",
       "      <td>0.416134</td>\n",
       "      <td>1.000000</td>\n",
       "      <td>0.690171</td>\n",
       "    </tr>\n",
       "    <tr>\n",
       "      <th>Living area</th>\n",
       "      <td>0.593956</td>\n",
       "      <td>0.690171</td>\n",
       "      <td>1.000000</td>\n",
       "    </tr>\n",
       "  </tbody>\n",
       "</table>\n",
       "</div>"
      ],
      "text/plain": [
       "                Price  Bedrooms  Living area\n",
       "Price        1.000000  0.416134     0.593956\n",
       "Bedrooms     0.416134  1.000000     0.690171\n",
       "Living area  0.593956  0.690171     1.000000"
      ]
     },
     "execution_count": 119,
     "metadata": {},
     "output_type": "execute_result"
    }
   ],
   "source": [
    "df.corr()"
   ]
  },
  {
   "cell_type": "markdown",
   "metadata": {},
   "source": [
    "### Define target variable"
   ]
  },
  {
   "cell_type": "code",
   "execution_count": 120,
   "metadata": {},
   "outputs": [
    {
     "name": "stdout",
     "output_type": "stream",
     "text": [
      "<class 'numpy.ndarray'>\n"
     ]
    }
   ],
   "source": [
    "y = df[\"Price\"]\n",
    "y = np.array(y)\n",
    "print(type(y))"
   ]
  },
  {
   "cell_type": "markdown",
   "metadata": {},
   "source": [
    "### Define feature"
   ]
  },
  {
   "cell_type": "code",
   "execution_count": 121,
   "metadata": {},
   "outputs": [
    {
     "data": {
      "text/plain": [
       "numpy.ndarray"
      ]
     },
     "execution_count": 121,
     "metadata": {},
     "output_type": "execute_result"
    }
   ],
   "source": [
    "x = np.array(df[\"Living area\"])\n",
    "type(x)"
   ]
  },
  {
   "cell_type": "markdown",
   "metadata": {},
   "source": [
    "### Visualize data"
   ]
  },
  {
   "cell_type": "code",
   "execution_count": 122,
   "metadata": {},
   "outputs": [
    {
     "data": {
      "image/png": "[encoded data removed]",
      "text/plain": [
       "<Figure size 432x288 with 1 Axes>"
      ]
     },
     "metadata": {
      "needs_background": "light"
     },
     "output_type": "display_data"
    }
   ],
   "source": [
    "import matplotlib.pyplot as plt\n",
    "\n",
    "plt.scatter(x=x, y=y)\n",
    "plt.xlabel(\"Living area\")\n",
    "plt.ylabel(\"Price\")\n",
    "plt.show()"
   ]
  },
  {
   "cell_type": "markdown",
   "metadata": {},
   "source": [
    "### Train model"
   ]
  },
  {
   "cell_type": "code",
   "execution_count": 135,
   "metadata": {},
   "outputs": [
    {
     "data": {
      "text/plain": [
       "0.37090850946704346"
      ]
     },
     "execution_count": 135,
     "metadata": {},
     "output_type": "execute_result"
    }
   ],
   "source": [
    "from sklearn.model_selection import train_test_split\n",
    "from sklearn.linear_model import LinearRegression\n",
    "\n",
    "X_train, X_test, y_train, y_test = train_test_split(x, y, test_size=0.30, random_state=1)\n",
    "X_train = X_train.reshape(-1, 1)\n",
    "y_train = y_train.reshape(-1, 1)\n",
    "regressor = LinearRegression().fit(X_train, y_train)\n",
    "regressor.score(X_train, y_train)"
   ]
  },
  {
   "cell_type": "code",
   "execution_count": 136,
   "metadata": {},
   "outputs": [
    {
     "data": {
      "image/png": "[encoded data removed]",
      "text/plain": [
       "<Figure size 432x288 with 1 Axes>"
      ]
     },
     "metadata": {
      "needs_background": "light"
     },
     "output_type": "display_data"
    }
   ],
   "source": [
    "plt.scatter(X_train, y_train)\n",
    "plt.plot(X_train, regressor.predict(X_train), color=\"r\")\n",
    "plt.title(\"Price vs living area (Training set)\")\n",
    "plt.xlabel(\"Living area\")\n",
    "plt.ylabel(\"Price\")\n",
    "plt.show()"
   ]
  },
  {
   "cell_type": "markdown",
   "metadata": {},
   "source": [
    "### Test model"
   ]
  },
  {
   "cell_type": "code",
   "execution_count": 140,
   "metadata": {},
   "outputs": [
    {
     "data": {
      "text/plain": [
       "0.31223999924897383"
      ]
     },
     "execution_count": 140,
     "metadata": {},
     "output_type": "execute_result"
    }
   ],
   "source": [
    "X_test = X_test.reshape(-1, 1)\n",
    "regressor.predict(X_test)\n",
    "regressor.score(X_test, y_test)"
   ]
  },
  {
   "cell_type": "code",
   "execution_count": 139,
   "metadata": {},
   "outputs": [
    {
     "data": {
      "image/png": "[encoded data removed]",
      "text/plain": [
       "<Figure size 432x288 with 1 Axes>"
      ]
     },
     "metadata": {
      "needs_background": "light"
     },
     "output_type": "display_data"
    }
   ],
   "source": [
    "plt.scatter(X_test, y_test)\n",
    "plt.plot(X_test, regressor.predict(X_test), color=\"r\")\n",
    "plt.title(\"Price vs living area (Training set\")\n",
    "plt.xlabel(\"Living area\")\n",
    "plt.ylabel(\"Price\")\n",
    "plt.show()"
   ]
  }
 ],
 "metadata": {
  "interpreter": {
   "hash": "64ad74572713e1424aba17af2f2fec00dd5a333d38ecaeb2e72657fb56da8a81"
  },
  "kernelspec": {
   "display_name": "Python 3.10.0 64-bit",
   "language": "python",
   "name": "python3"
  },
  "language_info": {
   "codemirror_mode": {
    "name": "ipython",
    "version": 3
   },
   "file_extension": ".py",
   "mimetype": "text/x-python",
   "name": "python",
   "nbconvert_exporter": "python",
   "pygments_lexer": "ipython3",
   "version": "3.10.0"
  },
  "orig_nbformat": 4
 },
 "nbformat": 4,
 "nbformat_minor": 2
}
