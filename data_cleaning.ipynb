{
 "cells": [
  {
   "cell_type": "markdown",
   "metadata": {},
   "source": [
    "# Import modules"
   ]
  },
  {
   "cell_type": "code",
   "execution_count": 1,
   "metadata": {},
   "outputs": [],
   "source": [
    "import pandas as pd\n",
    "import numpy as np"
   ]
  },
  {
   "cell_type": "markdown",
   "metadata": {},
   "source": [
    "# Create dataframe"
   ]
  },
  {
   "cell_type": "code",
   "execution_count": 33,
   "metadata": {},
   "outputs": [
    {
     "data": {
      "text/html": [
       "<div>\n",
       "<style scoped>\n",
       "    .dataframe tbody tr th:only-of-type {\n",
       "        vertical-align: middle;\n",
       "    }\n",
       "\n",
       "    .dataframe tbody tr th {\n",
       "        vertical-align: top;\n",
       "    }\n",
       "\n",
       "    .dataframe thead th {\n",
       "        text-align: right;\n",
       "    }\n",
       "</style>\n",
       "<table border=\"1\" class=\"dataframe\">\n",
       "  <thead>\n",
       "    <tr style=\"text-align: right;\">\n",
       "      <th></th>\n",
       "      <th>Locality</th>\n",
       "      <th>Price</th>\n",
       "      <th>Bedrooms</th>\n",
       "      <th>Living area</th>\n",
       "      <th>Kitchen type</th>\n",
       "      <th>Furnished</th>\n",
       "      <th>Terrace surface</th>\n",
       "      <th>Garden surface</th>\n",
       "      <th>Surface of the plot</th>\n",
       "      <th>Number of frontages</th>\n",
       "      <th>Swimming pool</th>\n",
       "      <th>Building condition</th>\n",
       "      <th>Type of property</th>\n",
       "    </tr>\n",
       "  </thead>\n",
       "  <tbody>\n",
       "    <tr>\n",
       "      <th>0</th>\n",
       "      <td>bruxelles</td>\n",
       "      <td>500,000</td>\n",
       "      <td>2</td>\n",
       "      <td>90</td>\n",
       "      <td>USA uninstalled</td>\n",
       "      <td>0</td>\n",
       "      <td>12</td>\n",
       "      <td>None</td>\n",
       "      <td>None</td>\n",
       "      <td>2</td>\n",
       "      <td>0</td>\n",
       "      <td>As new</td>\n",
       "      <td>apartment</td>\n",
       "    </tr>\n",
       "    <tr>\n",
       "      <th>1</th>\n",
       "      <td>oupeye</td>\n",
       "      <td>84,000</td>\n",
       "      <td>1</td>\n",
       "      <td>89</td>\n",
       "      <td>Not installed</td>\n",
       "      <td>1</td>\n",
       "      <td>None</td>\n",
       "      <td>125</td>\n",
       "      <td>167</td>\n",
       "      <td>2</td>\n",
       "      <td>None</td>\n",
       "      <td>To renovate</td>\n",
       "      <td>house</td>\n",
       "    </tr>\n",
       "    <tr>\n",
       "      <th>2</th>\n",
       "      <td>laeken</td>\n",
       "      <td>475,000</td>\n",
       "      <td>3</td>\n",
       "      <td>163</td>\n",
       "      <td>USA hyper equipped</td>\n",
       "      <td>0</td>\n",
       "      <td>8</td>\n",
       "      <td>None</td>\n",
       "      <td>None</td>\n",
       "      <td>3</td>\n",
       "      <td>None</td>\n",
       "      <td>As new</td>\n",
       "      <td>duplex</td>\n",
       "    </tr>\n",
       "    <tr>\n",
       "      <th>3</th>\n",
       "      <td>boutersem</td>\n",
       "      <td>425,000</td>\n",
       "      <td>5</td>\n",
       "      <td>190</td>\n",
       "      <td>Semi equipped</td>\n",
       "      <td>0</td>\n",
       "      <td>None</td>\n",
       "      <td>None</td>\n",
       "      <td>1520</td>\n",
       "      <td>4</td>\n",
       "      <td>0</td>\n",
       "      <td>To renovate</td>\n",
       "      <td>house</td>\n",
       "    </tr>\n",
       "    <tr>\n",
       "      <th>4</th>\n",
       "      <td>ixelles</td>\n",
       "      <td>2,700,000</td>\n",
       "      <td>5</td>\n",
       "      <td>557</td>\n",
       "      <td>Hyper equipped</td>\n",
       "      <td>None</td>\n",
       "      <td>50</td>\n",
       "      <td>60</td>\n",
       "      <td>None</td>\n",
       "      <td>2</td>\n",
       "      <td>None</td>\n",
       "      <td>As new</td>\n",
       "      <td>duplex</td>\n",
       "    </tr>\n",
       "    <tr>\n",
       "      <th>5</th>\n",
       "      <td>forest</td>\n",
       "      <td>137,500</td>\n",
       "      <td>None</td>\n",
       "      <td>45</td>\n",
       "      <td>None</td>\n",
       "      <td>0</td>\n",
       "      <td>None</td>\n",
       "      <td>None</td>\n",
       "      <td>None</td>\n",
       "      <td>None</td>\n",
       "      <td>None</td>\n",
       "      <td>To renovate</td>\n",
       "      <td>flat-studio</td>\n",
       "    </tr>\n",
       "    <tr>\n",
       "      <th>6</th>\n",
       "      <td>bruxelles</td>\n",
       "      <td>450,000</td>\n",
       "      <td>2</td>\n",
       "      <td>125</td>\n",
       "      <td>Hyper equipped</td>\n",
       "      <td>0</td>\n",
       "      <td>10</td>\n",
       "      <td>None</td>\n",
       "      <td>None</td>\n",
       "      <td>None</td>\n",
       "      <td>0</td>\n",
       "      <td>As new</td>\n",
       "      <td>apartment</td>\n",
       "    </tr>\n",
       "    <tr>\n",
       "      <th>7</th>\n",
       "      <td>koksijde</td>\n",
       "      <td>349,000</td>\n",
       "      <td>2</td>\n",
       "      <td>87</td>\n",
       "      <td>Hyper equipped</td>\n",
       "      <td>1</td>\n",
       "      <td>2</td>\n",
       "      <td>None</td>\n",
       "      <td>None</td>\n",
       "      <td>None</td>\n",
       "      <td>0</td>\n",
       "      <td>Good</td>\n",
       "      <td>duplex</td>\n",
       "    </tr>\n",
       "    <tr>\n",
       "      <th>8</th>\n",
       "      <td>waterloo</td>\n",
       "      <td>299,000</td>\n",
       "      <td>2</td>\n",
       "      <td>80</td>\n",
       "      <td>Installed</td>\n",
       "      <td>0</td>\n",
       "      <td>16</td>\n",
       "      <td>None</td>\n",
       "      <td>None</td>\n",
       "      <td>None</td>\n",
       "      <td>None</td>\n",
       "      <td>To renovate</td>\n",
       "      <td>apartment</td>\n",
       "    </tr>\n",
       "    <tr>\n",
       "      <th>9</th>\n",
       "      <td>tervuren</td>\n",
       "      <td>4,950,000</td>\n",
       "      <td>6</td>\n",
       "      <td>750</td>\n",
       "      <td>Hyper equipped</td>\n",
       "      <td>None</td>\n",
       "      <td>150</td>\n",
       "      <td>None</td>\n",
       "      <td>20000</td>\n",
       "      <td>4</td>\n",
       "      <td>1</td>\n",
       "      <td>Good</td>\n",
       "      <td>villa</td>\n",
       "    </tr>\n",
       "  </tbody>\n",
       "</table>\n",
       "</div>"
      ],
      "text/plain": [
       "    Locality      Price Bedrooms Living area        Kitchen type Furnished  \\\n",
       "0  bruxelles    500,000        2          90     USA uninstalled         0   \n",
       "1     oupeye     84,000        1          89       Not installed         1   \n",
       "2     laeken    475,000        3         163  USA hyper equipped         0   \n",
       "3  boutersem    425,000        5         190       Semi equipped         0   \n",
       "4    ixelles  2,700,000        5         557      Hyper equipped      None   \n",
       "5     forest    137,500     None          45                None         0   \n",
       "6  bruxelles    450,000        2         125      Hyper equipped         0   \n",
       "7   koksijde    349,000        2          87      Hyper equipped         1   \n",
       "8   waterloo    299,000        2          80           Installed         0   \n",
       "9   tervuren  4,950,000        6         750      Hyper equipped      None   \n",
       "\n",
       "  Terrace surface Garden surface Surface of the plot Number of frontages  \\\n",
       "0              12           None                None                   2   \n",
       "1            None            125                 167                   2   \n",
       "2               8           None                None                   3   \n",
       "3            None           None                1520                   4   \n",
       "4              50             60                None                   2   \n",
       "5            None           None                None                None   \n",
       "6              10           None                None                None   \n",
       "7               2           None                None                None   \n",
       "8              16           None                None                None   \n",
       "9             150           None               20000                   4   \n",
       "\n",
       "  Swimming pool Building condition Type of property  \n",
       "0             0             As new        apartment  \n",
       "1          None        To renovate            house  \n",
       "2          None             As new           duplex  \n",
       "3             0        To renovate            house  \n",
       "4          None             As new           duplex  \n",
       "5          None        To renovate      flat-studio  \n",
       "6             0             As new        apartment  \n",
       "7             0               Good           duplex  \n",
       "8          None        To renovate        apartment  \n",
       "9             1               Good            villa  "
      ]
     },
     "execution_count": 33,
     "metadata": {},
     "output_type": "execute_result"
    }
   ],
   "source": [
    "df = pd.read_csv(\"C:/Users/vpala/Artificial Intelligence/BeCode/challenge-collecting-data/utils/properties.csv\")\n",
    "df.head(10)"
   ]
  },
  {
   "cell_type": "code",
   "execution_count": 51,
   "metadata": {},
   "outputs": [
    {
     "data": {
      "text/plain": [
       "mixed-use-building    18\n",
       "apartment-block       16\n",
       "house                  8\n",
       "apartment              8\n",
       "kot                    2\n",
       "service-flat           1\n",
       "mansion                1\n",
       "country-cottage        1\n",
       "penthouse              1\n",
       "villa                  1\n",
       "Name: Type of property, dtype: int64"
      ]
     },
     "execution_count": 51,
     "metadata": {},
     "output_type": "execute_result"
    }
   ],
   "source": [
    "df[df[\"Bedrooms\"] == \"None\"][\"Type of property\"].value_counts()"
   ]
  },
  {
   "cell_type": "markdown",
   "metadata": {},
   "source": [
    "# Remove new real estate projects"
   ]
  },
  {
   "cell_type": "code",
   "execution_count": 35,
   "metadata": {},
   "outputs": [],
   "source": [
    "df.drop(df[df[\"Type of property\"] == \"new-real-estate-project-apartments\"].index, inplace=True)"
   ]
  },
  {
   "cell_type": "code",
   "execution_count": 36,
   "metadata": {},
   "outputs": [],
   "source": [
    "df.drop(df[df[\"Type of property\"] == \"new-real-estate-project-houses\"].index, inplace=True)"
   ]
  },
  {
   "cell_type": "markdown",
   "metadata": {},
   "source": [
    "# Clean column \"Bedrooms\""
   ]
  },
  {
   "cell_type": "markdown",
   "metadata": {},
   "source": [
    "### Subset dataframe for studios"
   ]
  },
  {
   "cell_type": "code",
   "execution_count": 38,
   "metadata": {},
   "outputs": [],
   "source": [
    "df_studio = df[df[\"Type of property\"] == \"flat-studio\"]"
   ]
  },
  {
   "cell_type": "markdown",
   "metadata": {},
   "source": [
    "### Set number of rooms in studios to zero"
   ]
  },
  {
   "cell_type": "code",
   "execution_count": 39,
   "metadata": {},
   "outputs": [
    {
     "name": "stderr",
     "output_type": "stream",
     "text": [
      "C:\\Users\\vpala\\AppData\\Local\\Programs\\Python\\Python310\\lib\\site-packages\\pandas\\core\\generic.py:6619: SettingWithCopyWarning: \n",
      "A value is trying to be set on a copy of a slice from a DataFrame\n",
      "\n",
      "See the caveats in the documentation: https://pandas.pydata.org/pandas-docs/stable/user_guide/indexing.html#returning-a-view-versus-a-copy\n",
      "  return self._update_inplace(result)\n"
     ]
    }
   ],
   "source": [
    "df_studio[\"Bedrooms\"].replace({\"None\":0, \"1\":0}, inplace=True)"
   ]
  },
  {
   "cell_type": "code",
   "execution_count": 40,
   "metadata": {},
   "outputs": [
    {
     "data": {
      "text/plain": [
       "Bedrooms\n",
       "0           179\n",
       "dtype: int64"
      ]
     },
     "execution_count": 40,
     "metadata": {},
     "output_type": "execute_result"
    }
   ],
   "source": [
    "df_studio[[\"Bedrooms\"]].value_counts()"
   ]
  },
  {
   "cell_type": "markdown",
   "metadata": {},
   "source": [
    "### Merge dataframes"
   ]
  },
  {
   "cell_type": "code",
   "execution_count": 41,
   "metadata": {},
   "outputs": [],
   "source": [
    "df.drop(df[df[\"Type of property\"] == \"flat-studio\"].index, inplace=True)"
   ]
  },
  {
   "cell_type": "code",
   "execution_count": 43,
   "metadata": {},
   "outputs": [],
   "source": [
    "df = pd.concat([df, df_studio])"
   ]
  },
  {
   "cell_type": "code",
   "execution_count": 45,
   "metadata": {},
   "outputs": [
    {
     "data": {
      "text/plain": [
       "Bedrooms\n",
       "0           179\n",
       "dtype: int64"
      ]
     },
     "execution_count": 45,
     "metadata": {},
     "output_type": "execute_result"
    }
   ],
   "source": [
    "df[df[\"Type of property\"] == \"flat-studio\"][[\"Bedrooms\"]].value_counts()"
   ]
  },
  {
   "cell_type": "markdown",
   "metadata": {},
   "source": [
    "### Remove remaining properties with \"Bedrooms\" equal to \"None\""
   ]
  },
  {
   "cell_type": "code",
   "execution_count": 54,
   "metadata": {},
   "outputs": [
    {
     "data": {
      "text/plain": [
       "57"
      ]
     },
     "execution_count": 54,
     "metadata": {},
     "output_type": "execute_result"
    }
   ],
   "source": [
    "df[df[\"Bedrooms\"] == \"None\"].value_counts().sum()"
   ]
  },
  {
   "cell_type": "code",
   "execution_count": 55,
   "metadata": {},
   "outputs": [],
   "source": [
    "df.drop(df[df[\"Bedrooms\"] == \"None\"].index, inplace=True)"
   ]
  },
  {
   "cell_type": "markdown",
   "metadata": {},
   "source": [
    "### Convert \"Bedrooms\" to integer"
   ]
  },
  {
   "cell_type": "code",
   "execution_count": 102,
   "metadata": {},
   "outputs": [],
   "source": [
    "df.Bedrooms = df.Bedrooms.apply(lambda x : int(x))"
   ]
  },
  {
   "cell_type": "code",
   "execution_count": 104,
   "metadata": {},
   "outputs": [
    {
     "data": {
      "text/plain": [
       "dtype('int64')"
      ]
     },
     "execution_count": 104,
     "metadata": {},
     "output_type": "execute_result"
    }
   ],
   "source": [
    "df.Bedrooms.dtype"
   ]
  },
  {
   "cell_type": "markdown",
   "metadata": {},
   "source": [
    "# Clean column \"Living area\""
   ]
  },
  {
   "cell_type": "markdown",
   "metadata": {},
   "source": [
    "### Remove properties with \"Living area\" equal to \"None\""
   ]
  },
  {
   "cell_type": "code",
   "execution_count": 89,
   "metadata": {},
   "outputs": [
    {
     "data": {
      "text/plain": [
       "273"
      ]
     },
     "execution_count": 89,
     "metadata": {},
     "output_type": "execute_result"
    }
   ],
   "source": [
    "df[df[\"Living area\"] == \"None\"].value_counts().sum()"
   ]
  },
  {
   "cell_type": "code",
   "execution_count": 90,
   "metadata": {},
   "outputs": [],
   "source": [
    "df.drop(df[df[\"Living area\"] == \"None\"].index, inplace=True)"
   ]
  },
  {
   "cell_type": "markdown",
   "metadata": {},
   "source": [
    "### Convert \"Living area\" to integer"
   ]
  },
  {
   "cell_type": "code",
   "execution_count": 105,
   "metadata": {},
   "outputs": [],
   "source": [
    "df[\"Living area\"] = df[\"Living area\"].apply(lambda x: int(x))"
   ]
  },
  {
   "cell_type": "code",
   "execution_count": 106,
   "metadata": {},
   "outputs": [
    {
     "data": {
      "text/plain": [
       "0        90\n",
       "1        89\n",
       "2       163\n",
       "3       190\n",
       "4       557\n",
       "       ... \n",
       "9862     24\n",
       "9945     21\n",
       "9969     24\n",
       "9976     53\n",
       "9990     30\n",
       "Name: Living area, Length: 9016, dtype: int64"
      ]
     },
     "execution_count": 106,
     "metadata": {},
     "output_type": "execute_result"
    }
   ],
   "source": [
    "df[\"Living area\"]"
   ]
  },
  {
   "cell_type": "code",
   "execution_count": 117,
   "metadata": {},
   "outputs": [
    {
     "data": {
      "text/plain": [
       "15"
      ]
     },
     "execution_count": 117,
     "metadata": {},
     "output_type": "execute_result"
    }
   ],
   "source": [
    "# Smallest living area\n",
    "df[\"Living area\"].min()"
   ]
  },
  {
   "cell_type": "markdown",
   "metadata": {},
   "source": [
    "# Clean column \"Price\""
   ]
  },
  {
   "cell_type": "code",
   "execution_count": 146,
   "metadata": {},
   "outputs": [
    {
     "data": {
      "text/html": [
       "<div>\n",
       "<style scoped>\n",
       "    .dataframe tbody tr th:only-of-type {\n",
       "        vertical-align: middle;\n",
       "    }\n",
       "\n",
       "    .dataframe tbody tr th {\n",
       "        vertical-align: top;\n",
       "    }\n",
       "\n",
       "    .dataframe thead th {\n",
       "        text-align: right;\n",
       "    }\n",
       "</style>\n",
       "<table border=\"1\" class=\"dataframe\">\n",
       "  <thead>\n",
       "    <tr style=\"text-align: right;\">\n",
       "      <th></th>\n",
       "      <th>Locality</th>\n",
       "      <th>Price</th>\n",
       "      <th>Bedrooms</th>\n",
       "      <th>Living area</th>\n",
       "      <th>Kitchen type</th>\n",
       "      <th>Furnished</th>\n",
       "      <th>Terrace surface</th>\n",
       "      <th>Garden surface</th>\n",
       "      <th>Surface of the plot</th>\n",
       "      <th>Number of frontages</th>\n",
       "      <th>Swimming pool</th>\n",
       "      <th>Building condition</th>\n",
       "      <th>Type of property</th>\n",
       "    </tr>\n",
       "  </thead>\n",
       "  <tbody>\n",
       "  </tbody>\n",
       "</table>\n",
       "</div>"
      ],
      "text/plain": [
       "Empty DataFrame\n",
       "Columns: [Locality, Price, Bedrooms, Living area, Kitchen type, Furnished, Terrace surface, Garden surface, Surface of the plot, Number of frontages, Swimming pool, Building condition, Type of property]\n",
       "Index: []"
      ]
     },
     "execution_count": 146,
     "metadata": {},
     "output_type": "execute_result"
    }
   ],
   "source": [
    "df[df[\"Price\"] == \"None\"]"
   ]
  },
  {
   "cell_type": "markdown",
   "metadata": {},
   "source": [
    "### Remove properties with \"Price\" equal to \"None\""
   ]
  },
  {
   "cell_type": "code",
   "execution_count": 142,
   "metadata": {},
   "outputs": [],
   "source": [
    "df.drop(df[df[\"Price\"] == \"None\"].index, inplace=True)"
   ]
  },
  {
   "cell_type": "markdown",
   "metadata": {},
   "source": [
    "### Convert \"Price\" to integer"
   ]
  },
  {
   "cell_type": "code",
   "execution_count": 151,
   "metadata": {},
   "outputs": [],
   "source": [
    "df.Price = df.Price.apply(lambda x: int(x.replace(\",\", \"\")))"
   ]
  },
  {
   "cell_type": "markdown",
   "metadata": {},
   "source": [
    "# Remove useless columns"
   ]
  },
  {
   "cell_type": "code",
   "execution_count": 225,
   "metadata": {},
   "outputs": [
    {
     "data": {
      "text/plain": [
       "Index(['Locality', 'Price', 'Bedrooms', 'Living area', 'Kitchen type',\n",
       "       'Furnished', 'Terrace surface', 'Garden surface', 'Swimming pool',\n",
       "       'Type of property'],\n",
       "      dtype='object')"
      ]
     },
     "execution_count": 225,
     "metadata": {},
     "output_type": "execute_result"
    }
   ],
   "source": [
    "df.columns"
   ]
  },
  {
   "cell_type": "code",
   "execution_count": 224,
   "metadata": {},
   "outputs": [],
   "source": [
    "df.drop([\"Surface of the plot\", \"Number of frontages\", \"Building condition\"], axis=1, inplace=True)"
   ]
  },
  {
   "cell_type": "markdown",
   "metadata": {},
   "source": [
    "# Clean \"Kitchen type\""
   ]
  },
  {
   "cell_type": "code",
   "execution_count": 204,
   "metadata": {},
   "outputs": [],
   "source": [
    "# not equipped, semi-equipped, equipped or super-equipped\n",
    "df[\"Kitchen type\"].replace({\n",
    "    \"Installed\":\"equipped\",\n",
    "    \"Hyper equipped\":\"super-equipped\",\n",
    "    \"None\":\"not equipped\",\n",
    "    \"Semi equipped\":\"semi-equipped\",\n",
    "    \"USA hyper equipped\":\"super-equipped\",\n",
    "    \"Not installed\":\"not equipped\",\n",
    "    \"USA installed\":\"equipped\",\n",
    "    \"USA semi equipped\":\"semi-equipped\",\n",
    "    \"USA uninstalled\":\"not equipped\",\n",
    "    }, inplace=True)"
   ]
  },
  {
   "cell_type": "code",
   "execution_count": 212,
   "metadata": {},
   "outputs": [
    {
     "data": {
      "text/plain": [
       "equipped          3570\n",
       "super-equipped    2571\n",
       "not equipped      1659\n",
       "semi-equipped     1132\n",
       "Name: Kitchen type, dtype: int64"
      ]
     },
     "execution_count": 212,
     "metadata": {},
     "output_type": "execute_result"
    }
   ],
   "source": [
    "df[\"Kitchen type\"].value_counts()"
   ]
  },
  {
   "cell_type": "markdown",
   "metadata": {},
   "source": [
    "# Convert remaining \"None\" to zeros"
   ]
  },
  {
   "cell_type": "code",
   "execution_count": 219,
   "metadata": {},
   "outputs": [],
   "source": [
    "df.replace(\"None\", 0, inplace=True)"
   ]
  },
  {
   "cell_type": "code",
   "execution_count": 239,
   "metadata": {},
   "outputs": [
    {
     "data": {
      "text/html": [
       "<div>\n",
       "<style scoped>\n",
       "    .dataframe tbody tr th:only-of-type {\n",
       "        vertical-align: middle;\n",
       "    }\n",
       "\n",
       "    .dataframe tbody tr th {\n",
       "        vertical-align: top;\n",
       "    }\n",
       "\n",
       "    .dataframe thead th {\n",
       "        text-align: right;\n",
       "    }\n",
       "</style>\n",
       "<table border=\"1\" class=\"dataframe\">\n",
       "  <thead>\n",
       "    <tr style=\"text-align: right;\">\n",
       "      <th></th>\n",
       "      <th>Locality</th>\n",
       "      <th>Price</th>\n",
       "      <th>Bedrooms</th>\n",
       "      <th>Living area</th>\n",
       "      <th>Kitchen type</th>\n",
       "      <th>Furnished</th>\n",
       "      <th>Terrace surface</th>\n",
       "      <th>Garden surface</th>\n",
       "      <th>Swimming pool</th>\n",
       "      <th>Type of property</th>\n",
       "    </tr>\n",
       "  </thead>\n",
       "  <tbody>\n",
       "    <tr>\n",
       "      <th>0</th>\n",
       "      <td>bruxelles</td>\n",
       "      <td>500000</td>\n",
       "      <td>2</td>\n",
       "      <td>90</td>\n",
       "      <td>not equipped</td>\n",
       "      <td>0</td>\n",
       "      <td>12</td>\n",
       "      <td>0</td>\n",
       "      <td>0</td>\n",
       "      <td>apartment</td>\n",
       "    </tr>\n",
       "    <tr>\n",
       "      <th>1</th>\n",
       "      <td>oupeye</td>\n",
       "      <td>84000</td>\n",
       "      <td>1</td>\n",
       "      <td>89</td>\n",
       "      <td>not equipped</td>\n",
       "      <td>1</td>\n",
       "      <td>0</td>\n",
       "      <td>125</td>\n",
       "      <td>0</td>\n",
       "      <td>house</td>\n",
       "    </tr>\n",
       "    <tr>\n",
       "      <th>2</th>\n",
       "      <td>laeken</td>\n",
       "      <td>475000</td>\n",
       "      <td>3</td>\n",
       "      <td>163</td>\n",
       "      <td>super-equipped</td>\n",
       "      <td>0</td>\n",
       "      <td>8</td>\n",
       "      <td>0</td>\n",
       "      <td>0</td>\n",
       "      <td>duplex</td>\n",
       "    </tr>\n",
       "    <tr>\n",
       "      <th>3</th>\n",
       "      <td>boutersem</td>\n",
       "      <td>425000</td>\n",
       "      <td>5</td>\n",
       "      <td>190</td>\n",
       "      <td>semi-equipped</td>\n",
       "      <td>0</td>\n",
       "      <td>0</td>\n",
       "      <td>0</td>\n",
       "      <td>0</td>\n",
       "      <td>house</td>\n",
       "    </tr>\n",
       "    <tr>\n",
       "      <th>4</th>\n",
       "      <td>ixelles</td>\n",
       "      <td>2700000</td>\n",
       "      <td>5</td>\n",
       "      <td>557</td>\n",
       "      <td>super-equipped</td>\n",
       "      <td>0</td>\n",
       "      <td>50</td>\n",
       "      <td>60</td>\n",
       "      <td>0</td>\n",
       "      <td>duplex</td>\n",
       "    </tr>\n",
       "    <tr>\n",
       "      <th>6</th>\n",
       "      <td>bruxelles</td>\n",
       "      <td>450000</td>\n",
       "      <td>2</td>\n",
       "      <td>125</td>\n",
       "      <td>super-equipped</td>\n",
       "      <td>0</td>\n",
       "      <td>10</td>\n",
       "      <td>0</td>\n",
       "      <td>0</td>\n",
       "      <td>apartment</td>\n",
       "    </tr>\n",
       "    <tr>\n",
       "      <th>7</th>\n",
       "      <td>koksijde</td>\n",
       "      <td>349000</td>\n",
       "      <td>2</td>\n",
       "      <td>87</td>\n",
       "      <td>super-equipped</td>\n",
       "      <td>1</td>\n",
       "      <td>2</td>\n",
       "      <td>0</td>\n",
       "      <td>0</td>\n",
       "      <td>duplex</td>\n",
       "    </tr>\n",
       "    <tr>\n",
       "      <th>8</th>\n",
       "      <td>waterloo</td>\n",
       "      <td>299000</td>\n",
       "      <td>2</td>\n",
       "      <td>80</td>\n",
       "      <td>equipped</td>\n",
       "      <td>0</td>\n",
       "      <td>16</td>\n",
       "      <td>0</td>\n",
       "      <td>0</td>\n",
       "      <td>apartment</td>\n",
       "    </tr>\n",
       "    <tr>\n",
       "      <th>9</th>\n",
       "      <td>tervuren</td>\n",
       "      <td>4950000</td>\n",
       "      <td>6</td>\n",
       "      <td>750</td>\n",
       "      <td>super-equipped</td>\n",
       "      <td>0</td>\n",
       "      <td>150</td>\n",
       "      <td>0</td>\n",
       "      <td>1</td>\n",
       "      <td>villa</td>\n",
       "    </tr>\n",
       "    <tr>\n",
       "      <th>10</th>\n",
       "      <td>uccle</td>\n",
       "      <td>460000</td>\n",
       "      <td>3</td>\n",
       "      <td>116</td>\n",
       "      <td>semi-equipped</td>\n",
       "      <td>0</td>\n",
       "      <td>9</td>\n",
       "      <td>237</td>\n",
       "      <td>0</td>\n",
       "      <td>apartment</td>\n",
       "    </tr>\n",
       "    <tr>\n",
       "      <th>11</th>\n",
       "      <td>mortroux</td>\n",
       "      <td>230000</td>\n",
       "      <td>3</td>\n",
       "      <td>180</td>\n",
       "      <td>not equipped</td>\n",
       "      <td>0</td>\n",
       "      <td>17</td>\n",
       "      <td>123</td>\n",
       "      <td>0</td>\n",
       "      <td>villa</td>\n",
       "    </tr>\n",
       "    <tr>\n",
       "      <th>12</th>\n",
       "      <td>herstal</td>\n",
       "      <td>359000</td>\n",
       "      <td>3</td>\n",
       "      <td>120</td>\n",
       "      <td>not equipped</td>\n",
       "      <td>0</td>\n",
       "      <td>0</td>\n",
       "      <td>300</td>\n",
       "      <td>0</td>\n",
       "      <td>mixed-use-building</td>\n",
       "    </tr>\n",
       "    <tr>\n",
       "      <th>13</th>\n",
       "      <td>beveren</td>\n",
       "      <td>325000</td>\n",
       "      <td>2</td>\n",
       "      <td>97</td>\n",
       "      <td>super-equipped</td>\n",
       "      <td>0</td>\n",
       "      <td>17</td>\n",
       "      <td>0</td>\n",
       "      <td>0</td>\n",
       "      <td>duplex</td>\n",
       "    </tr>\n",
       "    <tr>\n",
       "      <th>15</th>\n",
       "      <td>montignies-sur-sambre</td>\n",
       "      <td>115000</td>\n",
       "      <td>3</td>\n",
       "      <td>120</td>\n",
       "      <td>not equipped</td>\n",
       "      <td>0</td>\n",
       "      <td>0</td>\n",
       "      <td>119</td>\n",
       "      <td>0</td>\n",
       "      <td>house</td>\n",
       "    </tr>\n",
       "    <tr>\n",
       "      <th>16</th>\n",
       "      <td>braine-lalleud</td>\n",
       "      <td>319500</td>\n",
       "      <td>2</td>\n",
       "      <td>90</td>\n",
       "      <td>super-equipped</td>\n",
       "      <td>0</td>\n",
       "      <td>10</td>\n",
       "      <td>0</td>\n",
       "      <td>0</td>\n",
       "      <td>apartment</td>\n",
       "    </tr>\n",
       "    <tr>\n",
       "      <th>17</th>\n",
       "      <td>ganshoren</td>\n",
       "      <td>210000</td>\n",
       "      <td>2</td>\n",
       "      <td>85</td>\n",
       "      <td>equipped</td>\n",
       "      <td>0</td>\n",
       "      <td>0</td>\n",
       "      <td>0</td>\n",
       "      <td>0</td>\n",
       "      <td>apartment</td>\n",
       "    </tr>\n",
       "    <tr>\n",
       "      <th>18</th>\n",
       "      <td>lasne</td>\n",
       "      <td>2450000</td>\n",
       "      <td>8</td>\n",
       "      <td>730</td>\n",
       "      <td>super-equipped</td>\n",
       "      <td>0</td>\n",
       "      <td>0</td>\n",
       "      <td>0</td>\n",
       "      <td>1</td>\n",
       "      <td>exceptional-property</td>\n",
       "    </tr>\n",
       "    <tr>\n",
       "      <th>19</th>\n",
       "      <td>duffel</td>\n",
       "      <td>229000</td>\n",
       "      <td>5</td>\n",
       "      <td>150</td>\n",
       "      <td>not equipped</td>\n",
       "      <td>0</td>\n",
       "      <td>0</td>\n",
       "      <td>0</td>\n",
       "      <td>0</td>\n",
       "      <td>house</td>\n",
       "    </tr>\n",
       "    <tr>\n",
       "      <th>20</th>\n",
       "      <td>aalst</td>\n",
       "      <td>569000</td>\n",
       "      <td>3</td>\n",
       "      <td>216</td>\n",
       "      <td>super-equipped</td>\n",
       "      <td>1</td>\n",
       "      <td>25</td>\n",
       "      <td>0</td>\n",
       "      <td>0</td>\n",
       "      <td>house</td>\n",
       "    </tr>\n",
       "    <tr>\n",
       "      <th>21</th>\n",
       "      <td>mechelen</td>\n",
       "      <td>276000</td>\n",
       "      <td>2</td>\n",
       "      <td>70</td>\n",
       "      <td>super-equipped</td>\n",
       "      <td>0</td>\n",
       "      <td>3</td>\n",
       "      <td>0</td>\n",
       "      <td>0</td>\n",
       "      <td>apartment</td>\n",
       "    </tr>\n",
       "    <tr>\n",
       "      <th>23</th>\n",
       "      <td>drogenbos</td>\n",
       "      <td>450000</td>\n",
       "      <td>3</td>\n",
       "      <td>125</td>\n",
       "      <td>super-equipped</td>\n",
       "      <td>0</td>\n",
       "      <td>0</td>\n",
       "      <td>0</td>\n",
       "      <td>0</td>\n",
       "      <td>house</td>\n",
       "    </tr>\n",
       "    <tr>\n",
       "      <th>24</th>\n",
       "      <td>uccle</td>\n",
       "      <td>1350000</td>\n",
       "      <td>3</td>\n",
       "      <td>228</td>\n",
       "      <td>super-equipped</td>\n",
       "      <td>0</td>\n",
       "      <td>61</td>\n",
       "      <td>300</td>\n",
       "      <td>0</td>\n",
       "      <td>ground-floor</td>\n",
       "    </tr>\n",
       "    <tr>\n",
       "      <th>25</th>\n",
       "      <td>schaerbeek</td>\n",
       "      <td>275000</td>\n",
       "      <td>1</td>\n",
       "      <td>78</td>\n",
       "      <td>super-equipped</td>\n",
       "      <td>0</td>\n",
       "      <td>0</td>\n",
       "      <td>0</td>\n",
       "      <td>0</td>\n",
       "      <td>apartment</td>\n",
       "    </tr>\n",
       "    <tr>\n",
       "      <th>26</th>\n",
       "      <td>bruxelles-ville</td>\n",
       "      <td>2900000</td>\n",
       "      <td>5</td>\n",
       "      <td>500</td>\n",
       "      <td>super-equipped</td>\n",
       "      <td>0</td>\n",
       "      <td>20</td>\n",
       "      <td>0</td>\n",
       "      <td>0</td>\n",
       "      <td>apartment</td>\n",
       "    </tr>\n",
       "    <tr>\n",
       "      <th>27</th>\n",
       "      <td>boom</td>\n",
       "      <td>329000</td>\n",
       "      <td>3</td>\n",
       "      <td>175</td>\n",
       "      <td>equipped</td>\n",
       "      <td>0</td>\n",
       "      <td>0</td>\n",
       "      <td>0</td>\n",
       "      <td>0</td>\n",
       "      <td>house</td>\n",
       "    </tr>\n",
       "  </tbody>\n",
       "</table>\n",
       "</div>"
      ],
      "text/plain": [
       "                 Locality    Price  Bedrooms  Living area    Kitchen type  \\\n",
       "0               bruxelles   500000         2           90    not equipped   \n",
       "1                  oupeye    84000         1           89    not equipped   \n",
       "2                  laeken   475000         3          163  super-equipped   \n",
       "3               boutersem   425000         5          190   semi-equipped   \n",
       "4                 ixelles  2700000         5          557  super-equipped   \n",
       "6               bruxelles   450000         2          125  super-equipped   \n",
       "7                koksijde   349000         2           87  super-equipped   \n",
       "8                waterloo   299000         2           80        equipped   \n",
       "9                tervuren  4950000         6          750  super-equipped   \n",
       "10                  uccle   460000         3          116   semi-equipped   \n",
       "11               mortroux   230000         3          180    not equipped   \n",
       "12                herstal   359000         3          120    not equipped   \n",
       "13                beveren   325000         2           97  super-equipped   \n",
       "15  montignies-sur-sambre   115000         3          120    not equipped   \n",
       "16         braine-lalleud   319500         2           90  super-equipped   \n",
       "17              ganshoren   210000         2           85        equipped   \n",
       "18                  lasne  2450000         8          730  super-equipped   \n",
       "19                 duffel   229000         5          150    not equipped   \n",
       "20                  aalst   569000         3          216  super-equipped   \n",
       "21               mechelen   276000         2           70  super-equipped   \n",
       "23              drogenbos   450000         3          125  super-equipped   \n",
       "24                  uccle  1350000         3          228  super-equipped   \n",
       "25             schaerbeek   275000         1           78  super-equipped   \n",
       "26        bruxelles-ville  2900000         5          500  super-equipped   \n",
       "27                   boom   329000         3          175        equipped   \n",
       "\n",
       "   Furnished Terrace surface Garden surface Swimming pool  \\\n",
       "0          0              12              0             0   \n",
       "1          1               0            125             0   \n",
       "2          0               8              0             0   \n",
       "3          0               0              0             0   \n",
       "4          0              50             60             0   \n",
       "6          0              10              0             0   \n",
       "7          1               2              0             0   \n",
       "8          0              16              0             0   \n",
       "9          0             150              0             1   \n",
       "10         0               9            237             0   \n",
       "11         0              17            123             0   \n",
       "12         0               0            300             0   \n",
       "13         0              17              0             0   \n",
       "15         0               0            119             0   \n",
       "16         0              10              0             0   \n",
       "17         0               0              0             0   \n",
       "18         0               0              0             1   \n",
       "19         0               0              0             0   \n",
       "20         1              25              0             0   \n",
       "21         0               3              0             0   \n",
       "23         0               0              0             0   \n",
       "24         0              61            300             0   \n",
       "25         0               0              0             0   \n",
       "26         0              20              0             0   \n",
       "27         0               0              0             0   \n",
       "\n",
       "        Type of property  \n",
       "0              apartment  \n",
       "1                  house  \n",
       "2                 duplex  \n",
       "3                  house  \n",
       "4                 duplex  \n",
       "6              apartment  \n",
       "7                 duplex  \n",
       "8              apartment  \n",
       "9                  villa  \n",
       "10             apartment  \n",
       "11                 villa  \n",
       "12    mixed-use-building  \n",
       "13                duplex  \n",
       "15                 house  \n",
       "16             apartment  \n",
       "17             apartment  \n",
       "18  exceptional-property  \n",
       "19                 house  \n",
       "20                 house  \n",
       "21             apartment  \n",
       "23                 house  \n",
       "24          ground-floor  \n",
       "25             apartment  \n",
       "26             apartment  \n",
       "27                 house  "
      ]
     },
     "execution_count": 239,
     "metadata": {},
     "output_type": "execute_result"
    }
   ],
   "source": [
    "df.head(25)"
   ]
  }
 ],
 "metadata": {
  "interpreter": {
   "hash": "64ad74572713e1424aba17af2f2fec00dd5a333d38ecaeb2e72657fb56da8a81"
  },
  "kernelspec": {
   "display_name": "Python 3.10.0 64-bit",
   "language": "python",
   "name": "python3"
  },
  "language_info": {
   "codemirror_mode": {
    "name": "ipython",
    "version": 3
   },
   "file_extension": ".py",
   "mimetype": "text/x-python",
   "name": "python",
   "nbconvert_exporter": "python",
   "pygments_lexer": "ipython3",
   "version": "3.10.0"
  },
  "orig_nbformat": 4
 },
 "nbformat": 4,
 "nbformat_minor": 2
}
