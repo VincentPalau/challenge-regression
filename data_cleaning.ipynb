{
 "cells": [
  {
   "cell_type": "markdown",
   "metadata": {},
   "source": [
    "# Import modules"
   ]
  },
  {
   "cell_type": "code",
   "execution_count": 2,
   "metadata": {},
   "outputs": [],
   "source": [
    "import pandas as pd\n",
    "import numpy as np"
   ]
  },
  {
   "cell_type": "markdown",
   "metadata": {},
   "source": [
    "# Create dataframe"
   ]
  },
  {
   "cell_type": "code",
   "execution_count": 3,
   "metadata": {},
   "outputs": [
    {
     "data": {
      "text/html": [
       "<div>\n",
       "<style scoped>\n",
       "    .dataframe tbody tr th:only-of-type {\n",
       "        vertical-align: middle;\n",
       "    }\n",
       "\n",
       "    .dataframe tbody tr th {\n",
       "        vertical-align: top;\n",
       "    }\n",
       "\n",
       "    .dataframe thead th {\n",
       "        text-align: right;\n",
       "    }\n",
       "</style>\n",
       "<table border=\"1\" class=\"dataframe\">\n",
       "  <thead>\n",
       "    <tr style=\"text-align: right;\">\n",
       "      <th></th>\n",
       "      <th>Locality</th>\n",
       "      <th>Price</th>\n",
       "      <th>Bedrooms</th>\n",
       "      <th>Living area</th>\n",
       "      <th>Kitchen type</th>\n",
       "      <th>Furnished</th>\n",
       "      <th>Terrace surface</th>\n",
       "      <th>Garden surface</th>\n",
       "      <th>Surface of the plot</th>\n",
       "      <th>Number of frontages</th>\n",
       "      <th>Swimming pool</th>\n",
       "      <th>Building condition</th>\n",
       "      <th>Type of property</th>\n",
       "    </tr>\n",
       "  </thead>\n",
       "  <tbody>\n",
       "    <tr>\n",
       "      <th>0</th>\n",
       "      <td>bruxelles</td>\n",
       "      <td>500,000</td>\n",
       "      <td>2</td>\n",
       "      <td>90</td>\n",
       "      <td>USA uninstalled</td>\n",
       "      <td>0</td>\n",
       "      <td>12</td>\n",
       "      <td>None</td>\n",
       "      <td>None</td>\n",
       "      <td>2</td>\n",
       "      <td>0</td>\n",
       "      <td>As new</td>\n",
       "      <td>apartment</td>\n",
       "    </tr>\n",
       "    <tr>\n",
       "      <th>1</th>\n",
       "      <td>oupeye</td>\n",
       "      <td>84,000</td>\n",
       "      <td>1</td>\n",
       "      <td>89</td>\n",
       "      <td>Not installed</td>\n",
       "      <td>1</td>\n",
       "      <td>None</td>\n",
       "      <td>125</td>\n",
       "      <td>167</td>\n",
       "      <td>2</td>\n",
       "      <td>None</td>\n",
       "      <td>To renovate</td>\n",
       "      <td>house</td>\n",
       "    </tr>\n",
       "    <tr>\n",
       "      <th>2</th>\n",
       "      <td>laeken</td>\n",
       "      <td>475,000</td>\n",
       "      <td>3</td>\n",
       "      <td>163</td>\n",
       "      <td>USA hyper equipped</td>\n",
       "      <td>0</td>\n",
       "      <td>8</td>\n",
       "      <td>None</td>\n",
       "      <td>None</td>\n",
       "      <td>3</td>\n",
       "      <td>None</td>\n",
       "      <td>As new</td>\n",
       "      <td>duplex</td>\n",
       "    </tr>\n",
       "    <tr>\n",
       "      <th>3</th>\n",
       "      <td>boutersem</td>\n",
       "      <td>425,000</td>\n",
       "      <td>5</td>\n",
       "      <td>190</td>\n",
       "      <td>Semi equipped</td>\n",
       "      <td>0</td>\n",
       "      <td>None</td>\n",
       "      <td>None</td>\n",
       "      <td>1520</td>\n",
       "      <td>4</td>\n",
       "      <td>0</td>\n",
       "      <td>To renovate</td>\n",
       "      <td>house</td>\n",
       "    </tr>\n",
       "    <tr>\n",
       "      <th>4</th>\n",
       "      <td>ixelles</td>\n",
       "      <td>2,700,000</td>\n",
       "      <td>5</td>\n",
       "      <td>557</td>\n",
       "      <td>Hyper equipped</td>\n",
       "      <td>None</td>\n",
       "      <td>50</td>\n",
       "      <td>60</td>\n",
       "      <td>None</td>\n",
       "      <td>2</td>\n",
       "      <td>None</td>\n",
       "      <td>As new</td>\n",
       "      <td>duplex</td>\n",
       "    </tr>\n",
       "    <tr>\n",
       "      <th>...</th>\n",
       "      <td>...</td>\n",
       "      <td>...</td>\n",
       "      <td>...</td>\n",
       "      <td>...</td>\n",
       "      <td>...</td>\n",
       "      <td>...</td>\n",
       "      <td>...</td>\n",
       "      <td>...</td>\n",
       "      <td>...</td>\n",
       "      <td>...</td>\n",
       "      <td>...</td>\n",
       "      <td>...</td>\n",
       "      <td>...</td>\n",
       "    </tr>\n",
       "    <tr>\n",
       "      <th>9998</th>\n",
       "      <td>familleureux</td>\n",
       "      <td>150,000</td>\n",
       "      <td>3</td>\n",
       "      <td>131</td>\n",
       "      <td>Installed</td>\n",
       "      <td>0</td>\n",
       "      <td>None</td>\n",
       "      <td>None</td>\n",
       "      <td>170</td>\n",
       "      <td>2</td>\n",
       "      <td>None</td>\n",
       "      <td>To be done up</td>\n",
       "      <td>house</td>\n",
       "    </tr>\n",
       "    <tr>\n",
       "      <th>9999</th>\n",
       "      <td>ternat</td>\n",
       "      <td>289,000</td>\n",
       "      <td>3</td>\n",
       "      <td>180</td>\n",
       "      <td>Installed</td>\n",
       "      <td>0</td>\n",
       "      <td>25</td>\n",
       "      <td>600</td>\n",
       "      <td>844</td>\n",
       "      <td>3</td>\n",
       "      <td>None</td>\n",
       "      <td>To be done up</td>\n",
       "      <td>house</td>\n",
       "    </tr>\n",
       "    <tr>\n",
       "      <th>10000</th>\n",
       "      <td>wondelgem</td>\n",
       "      <td>329,000</td>\n",
       "      <td>3</td>\n",
       "      <td>120</td>\n",
       "      <td>Installed</td>\n",
       "      <td>None</td>\n",
       "      <td>None</td>\n",
       "      <td>30</td>\n",
       "      <td>102</td>\n",
       "      <td>1</td>\n",
       "      <td>None</td>\n",
       "      <td>As new</td>\n",
       "      <td>house</td>\n",
       "    </tr>\n",
       "    <tr>\n",
       "      <th>10001</th>\n",
       "      <td>beyne-heusay</td>\n",
       "      <td>245,000</td>\n",
       "      <td>4</td>\n",
       "      <td>110</td>\n",
       "      <td>Semi equipped</td>\n",
       "      <td>0</td>\n",
       "      <td>20</td>\n",
       "      <td>60</td>\n",
       "      <td>140</td>\n",
       "      <td>3</td>\n",
       "      <td>0</td>\n",
       "      <td>As new</td>\n",
       "      <td>house</td>\n",
       "    </tr>\n",
       "    <tr>\n",
       "      <th>10002</th>\n",
       "      <td>anderlecht</td>\n",
       "      <td>260,000</td>\n",
       "      <td>2</td>\n",
       "      <td>100</td>\n",
       "      <td>Hyper equipped</td>\n",
       "      <td>0</td>\n",
       "      <td>2</td>\n",
       "      <td>None</td>\n",
       "      <td>None</td>\n",
       "      <td>None</td>\n",
       "      <td>0</td>\n",
       "      <td>As new</td>\n",
       "      <td>apartment</td>\n",
       "    </tr>\n",
       "  </tbody>\n",
       "</table>\n",
       "<p>10003 rows × 13 columns</p>\n",
       "</div>"
      ],
      "text/plain": [
       "           Locality      Price Bedrooms Living area        Kitchen type  \\\n",
       "0         bruxelles    500,000        2          90     USA uninstalled   \n",
       "1            oupeye     84,000        1          89       Not installed   \n",
       "2            laeken    475,000        3         163  USA hyper equipped   \n",
       "3         boutersem    425,000        5         190       Semi equipped   \n",
       "4           ixelles  2,700,000        5         557      Hyper equipped   \n",
       "...             ...        ...      ...         ...                 ...   \n",
       "9998   familleureux    150,000        3         131           Installed   \n",
       "9999         ternat    289,000        3         180           Installed   \n",
       "10000     wondelgem    329,000        3         120           Installed   \n",
       "10001  beyne-heusay    245,000        4         110       Semi equipped   \n",
       "10002    anderlecht    260,000        2         100      Hyper equipped   \n",
       "\n",
       "      Furnished Terrace surface Garden surface Surface of the plot  \\\n",
       "0             0              12           None                None   \n",
       "1             1            None            125                 167   \n",
       "2             0               8           None                None   \n",
       "3             0            None           None                1520   \n",
       "4          None              50             60                None   \n",
       "...         ...             ...            ...                 ...   \n",
       "9998          0            None           None                 170   \n",
       "9999          0              25            600                 844   \n",
       "10000      None            None             30                 102   \n",
       "10001         0              20             60                 140   \n",
       "10002         0               2           None                None   \n",
       "\n",
       "      Number of frontages Swimming pool Building condition Type of property  \n",
       "0                       2             0             As new        apartment  \n",
       "1                       2          None        To renovate            house  \n",
       "2                       3          None             As new           duplex  \n",
       "3                       4             0        To renovate            house  \n",
       "4                       2          None             As new           duplex  \n",
       "...                   ...           ...                ...              ...  \n",
       "9998                    2          None      To be done up            house  \n",
       "9999                    3          None      To be done up            house  \n",
       "10000                   1          None             As new            house  \n",
       "10001                   3             0             As new            house  \n",
       "10002                None             0             As new        apartment  \n",
       "\n",
       "[10003 rows x 13 columns]"
      ]
     },
     "execution_count": 3,
     "metadata": {},
     "output_type": "execute_result"
    }
   ],
   "source": [
    "df = pd.read_csv(\"C:/Users/vpala/Artificial Intelligence/BeCode/challenge-collecting-data/utils/properties.csv\")\n",
    "df"
   ]
  },
  {
   "cell_type": "code",
   "execution_count": 4,
   "metadata": {},
   "outputs": [
    {
     "data": {
      "text/plain": [
       "new-real-estate-project-apartments    552\n",
       "flat-studio                           135\n",
       "new-real-estate-project-houses        105\n",
       "mixed-use-building                     18\n",
       "apartment-block                        16\n",
       "house                                   8\n",
       "apartment                               8\n",
       "kot                                     2\n",
       "service-flat                            1\n",
       "mansion                                 1\n",
       "country-cottage                         1\n",
       "penthouse                               1\n",
       "villa                                   1\n",
       "Name: Type of property, dtype: int64"
      ]
     },
     "execution_count": 4,
     "metadata": {},
     "output_type": "execute_result"
    }
   ],
   "source": [
    "df[df[\"Bedrooms\"] == \"None\"][\"Type of property\"].value_counts()"
   ]
  },
  {
   "cell_type": "markdown",
   "metadata": {},
   "source": [
    "# Remove new real estate projects"
   ]
  },
  {
   "cell_type": "code",
   "execution_count": 5,
   "metadata": {},
   "outputs": [],
   "source": [
    "df.drop(df[df[\"Type of property\"] == \"new-real-estate-project-apartments\"].index, inplace=True)"
   ]
  },
  {
   "cell_type": "code",
   "execution_count": 6,
   "metadata": {},
   "outputs": [],
   "source": [
    "df.drop(df[df[\"Type of property\"] == \"new-real-estate-project-houses\"].index, inplace=True)"
   ]
  },
  {
   "cell_type": "markdown",
   "metadata": {},
   "source": [
    "# Clean column \"Bedrooms\""
   ]
  },
  {
   "cell_type": "markdown",
   "metadata": {},
   "source": [
    "### Subset dataframe for studios"
   ]
  },
  {
   "cell_type": "code",
   "execution_count": 7,
   "metadata": {},
   "outputs": [],
   "source": [
    "df_studio = df[df[\"Type of property\"] == \"flat-studio\"]"
   ]
  },
  {
   "cell_type": "markdown",
   "metadata": {},
   "source": [
    "### Set number of rooms in studios to zero"
   ]
  },
  {
   "cell_type": "code",
   "execution_count": 8,
   "metadata": {},
   "outputs": [
    {
     "name": "stderr",
     "output_type": "stream",
     "text": [
      "C:\\Users\\vpala\\AppData\\Local\\Programs\\Python\\Python310\\lib\\site-packages\\pandas\\core\\generic.py:6619: SettingWithCopyWarning: \n",
      "A value is trying to be set on a copy of a slice from a DataFrame\n",
      "\n",
      "See the caveats in the documentation: https://pandas.pydata.org/pandas-docs/stable/user_guide/indexing.html#returning-a-view-versus-a-copy\n",
      "  return self._update_inplace(result)\n"
     ]
    }
   ],
   "source": [
    "df_studio[\"Bedrooms\"].replace({\"None\":0, \"1\":0}, inplace=True)"
   ]
  },
  {
   "cell_type": "code",
   "execution_count": 9,
   "metadata": {},
   "outputs": [
    {
     "data": {
      "text/plain": [
       "Bedrooms\n",
       "0           179\n",
       "dtype: int64"
      ]
     },
     "execution_count": 9,
     "metadata": {},
     "output_type": "execute_result"
    }
   ],
   "source": [
    "df_studio[[\"Bedrooms\"]].value_counts()"
   ]
  },
  {
   "cell_type": "markdown",
   "metadata": {},
   "source": [
    "### Merge dataframes"
   ]
  },
  {
   "cell_type": "code",
   "execution_count": 10,
   "metadata": {},
   "outputs": [],
   "source": [
    "df.drop(df[df[\"Type of property\"] == \"flat-studio\"].index, inplace=True)"
   ]
  },
  {
   "cell_type": "code",
   "execution_count": 11,
   "metadata": {},
   "outputs": [],
   "source": [
    "df = pd.concat([df, df_studio])"
   ]
  },
  {
   "cell_type": "code",
   "execution_count": 12,
   "metadata": {},
   "outputs": [
    {
     "data": {
      "text/plain": [
       "Bedrooms\n",
       "0           179\n",
       "dtype: int64"
      ]
     },
     "execution_count": 12,
     "metadata": {},
     "output_type": "execute_result"
    }
   ],
   "source": [
    "df[df[\"Type of property\"] == \"flat-studio\"][[\"Bedrooms\"]].value_counts()"
   ]
  },
  {
   "cell_type": "markdown",
   "metadata": {},
   "source": [
    "### Remove remaining properties with \"Bedrooms\" equal to \"None\""
   ]
  },
  {
   "cell_type": "code",
   "execution_count": 13,
   "metadata": {},
   "outputs": [
    {
     "data": {
      "text/plain": [
       "57"
      ]
     },
     "execution_count": 13,
     "metadata": {},
     "output_type": "execute_result"
    }
   ],
   "source": [
    "df[df[\"Bedrooms\"] == \"None\"].value_counts().sum()"
   ]
  },
  {
   "cell_type": "code",
   "execution_count": 14,
   "metadata": {},
   "outputs": [],
   "source": [
    "df.drop(df[df[\"Bedrooms\"] == \"None\"].index, inplace=True)"
   ]
  },
  {
   "cell_type": "markdown",
   "metadata": {},
   "source": [
    "### Convert \"Bedrooms\" to integer"
   ]
  },
  {
   "cell_type": "code",
   "execution_count": 15,
   "metadata": {},
   "outputs": [],
   "source": [
    "df.Bedrooms = df.Bedrooms.apply(lambda x : int(x))"
   ]
  },
  {
   "cell_type": "code",
   "execution_count": 16,
   "metadata": {},
   "outputs": [
    {
     "data": {
      "text/plain": [
       "dtype('int64')"
      ]
     },
     "execution_count": 16,
     "metadata": {},
     "output_type": "execute_result"
    }
   ],
   "source": [
    "df.Bedrooms.dtype"
   ]
  },
  {
   "cell_type": "markdown",
   "metadata": {},
   "source": [
    "### Look for outliers"
   ]
  },
  {
   "cell_type": "code",
   "execution_count": 17,
   "metadata": {},
   "outputs": [
    {
     "data": {
      "text/plain": [
       "1282    94\n",
       "5248    27\n",
       "6071    26\n",
       "6565    23\n",
       "1181    22\n",
       "Name: Bedrooms, dtype: int64"
      ]
     },
     "execution_count": 17,
     "metadata": {},
     "output_type": "execute_result"
    }
   ],
   "source": [
    "df.Bedrooms.sort_values(ascending=False).head()"
   ]
  },
  {
   "cell_type": "code",
   "execution_count": 18,
   "metadata": {},
   "outputs": [
    {
     "data": {
      "text/plain": [
       "Locality                         dison\n",
       "Price                        3,699,000\n",
       "Bedrooms                            94\n",
       "Living area                       3189\n",
       "Kitchen type                 Installed\n",
       "Furnished                            0\n",
       "Terrace surface                    220\n",
       "Garden surface                     778\n",
       "Surface of the plot               3699\n",
       "Number of frontages                  4\n",
       "Swimming pool                        0\n",
       "Building condition                Good\n",
       "Type of property       apartment-block\n",
       "Name: 1282, dtype: object"
      ]
     },
     "execution_count": 18,
     "metadata": {},
     "output_type": "execute_result"
    }
   ],
   "source": [
    "df.loc[1282]"
   ]
  },
  {
   "cell_type": "markdown",
   "metadata": {},
   "source": [
    "### Remove the one outlier"
   ]
  },
  {
   "cell_type": "code",
   "execution_count": 19,
   "metadata": {},
   "outputs": [],
   "source": [
    "df.drop(1282, inplace=True)"
   ]
  },
  {
   "cell_type": "markdown",
   "metadata": {},
   "source": [
    "# Clean column \"Living area\""
   ]
  },
  {
   "cell_type": "markdown",
   "metadata": {},
   "source": [
    "### Remove properties with \"Living area\" equal to \"None\""
   ]
  },
  {
   "cell_type": "code",
   "execution_count": 20,
   "metadata": {},
   "outputs": [
    {
     "data": {
      "text/plain": [
       "273"
      ]
     },
     "execution_count": 20,
     "metadata": {},
     "output_type": "execute_result"
    }
   ],
   "source": [
    "df[df[\"Living area\"] == \"None\"].value_counts().sum()"
   ]
  },
  {
   "cell_type": "code",
   "execution_count": 21,
   "metadata": {},
   "outputs": [],
   "source": [
    "df.drop(df[df[\"Living area\"] == \"None\"].index, inplace=True)"
   ]
  },
  {
   "cell_type": "markdown",
   "metadata": {},
   "source": [
    "### Convert \"Living area\" to integer"
   ]
  },
  {
   "cell_type": "code",
   "execution_count": 22,
   "metadata": {},
   "outputs": [],
   "source": [
    "df[\"Living area\"] = df[\"Living area\"].apply(lambda x: int(x))"
   ]
  },
  {
   "cell_type": "code",
   "execution_count": 23,
   "metadata": {},
   "outputs": [
    {
     "data": {
      "text/plain": [
       "0        90\n",
       "1        89\n",
       "2       163\n",
       "3       190\n",
       "4       557\n",
       "       ... \n",
       "9862     24\n",
       "9945     21\n",
       "9969     24\n",
       "9976     53\n",
       "9990     30\n",
       "Name: Living area, Length: 9015, dtype: int64"
      ]
     },
     "execution_count": 23,
     "metadata": {},
     "output_type": "execute_result"
    }
   ],
   "source": [
    "df[\"Living area\"]"
   ]
  },
  {
   "cell_type": "code",
   "execution_count": 24,
   "metadata": {},
   "outputs": [
    {
     "data": {
      "text/plain": [
       "15"
      ]
     },
     "execution_count": 24,
     "metadata": {},
     "output_type": "execute_result"
    }
   ],
   "source": [
    "# Smallest living area\n",
    "df[\"Living area\"].min()"
   ]
  },
  {
   "cell_type": "markdown",
   "metadata": {},
   "source": [
    "# Clean column \"Price\""
   ]
  },
  {
   "cell_type": "code",
   "execution_count": 25,
   "metadata": {},
   "outputs": [
    {
     "data": {
      "text/html": [
       "<div>\n",
       "<style scoped>\n",
       "    .dataframe tbody tr th:only-of-type {\n",
       "        vertical-align: middle;\n",
       "    }\n",
       "\n",
       "    .dataframe tbody tr th {\n",
       "        vertical-align: top;\n",
       "    }\n",
       "\n",
       "    .dataframe thead th {\n",
       "        text-align: right;\n",
       "    }\n",
       "</style>\n",
       "<table border=\"1\" class=\"dataframe\">\n",
       "  <thead>\n",
       "    <tr style=\"text-align: right;\">\n",
       "      <th></th>\n",
       "      <th>Locality</th>\n",
       "      <th>Price</th>\n",
       "      <th>Bedrooms</th>\n",
       "      <th>Living area</th>\n",
       "      <th>Kitchen type</th>\n",
       "      <th>Furnished</th>\n",
       "      <th>Terrace surface</th>\n",
       "      <th>Garden surface</th>\n",
       "      <th>Surface of the plot</th>\n",
       "      <th>Number of frontages</th>\n",
       "      <th>Swimming pool</th>\n",
       "      <th>Building condition</th>\n",
       "      <th>Type of property</th>\n",
       "    </tr>\n",
       "  </thead>\n",
       "  <tbody>\n",
       "    <tr>\n",
       "      <th>293</th>\n",
       "      <td>sint-eloois-vijve</td>\n",
       "      <td>None</td>\n",
       "      <td>4</td>\n",
       "      <td>184</td>\n",
       "      <td>Installed</td>\n",
       "      <td>None</td>\n",
       "      <td>None</td>\n",
       "      <td>None</td>\n",
       "      <td>358</td>\n",
       "      <td>2</td>\n",
       "      <td>None</td>\n",
       "      <td>Good</td>\n",
       "      <td>house</td>\n",
       "    </tr>\n",
       "    <tr>\n",
       "      <th>544</th>\n",
       "      <td>sint-niklaas</td>\n",
       "      <td>None</td>\n",
       "      <td>4</td>\n",
       "      <td>223</td>\n",
       "      <td>Installed</td>\n",
       "      <td>None</td>\n",
       "      <td>None</td>\n",
       "      <td>None</td>\n",
       "      <td>170</td>\n",
       "      <td>2</td>\n",
       "      <td>None</td>\n",
       "      <td>To renovate</td>\n",
       "      <td>house</td>\n",
       "    </tr>\n",
       "    <tr>\n",
       "      <th>565</th>\n",
       "      <td>seraing</td>\n",
       "      <td>None</td>\n",
       "      <td>1</td>\n",
       "      <td>70</td>\n",
       "      <td>Installed</td>\n",
       "      <td>None</td>\n",
       "      <td>None</td>\n",
       "      <td>None</td>\n",
       "      <td>None</td>\n",
       "      <td>None</td>\n",
       "      <td>None</td>\n",
       "      <td>Good</td>\n",
       "      <td>apartment</td>\n",
       "    </tr>\n",
       "    <tr>\n",
       "      <th>586</th>\n",
       "      <td>liezele</td>\n",
       "      <td>None</td>\n",
       "      <td>3</td>\n",
       "      <td>206</td>\n",
       "      <td>Installed</td>\n",
       "      <td>0</td>\n",
       "      <td>None</td>\n",
       "      <td>None</td>\n",
       "      <td>820</td>\n",
       "      <td>4</td>\n",
       "      <td>None</td>\n",
       "      <td>None</td>\n",
       "      <td>house</td>\n",
       "    </tr>\n",
       "    <tr>\n",
       "      <th>730</th>\n",
       "      <td>ombret</td>\n",
       "      <td>None</td>\n",
       "      <td>3</td>\n",
       "      <td>95</td>\n",
       "      <td>Installed</td>\n",
       "      <td>None</td>\n",
       "      <td>None</td>\n",
       "      <td>None</td>\n",
       "      <td>476</td>\n",
       "      <td>2</td>\n",
       "      <td>None</td>\n",
       "      <td>As new</td>\n",
       "      <td>house</td>\n",
       "    </tr>\n",
       "    <tr>\n",
       "      <th>...</th>\n",
       "      <td>...</td>\n",
       "      <td>...</td>\n",
       "      <td>...</td>\n",
       "      <td>...</td>\n",
       "      <td>...</td>\n",
       "      <td>...</td>\n",
       "      <td>...</td>\n",
       "      <td>...</td>\n",
       "      <td>...</td>\n",
       "      <td>...</td>\n",
       "      <td>...</td>\n",
       "      <td>...</td>\n",
       "      <td>...</td>\n",
       "    </tr>\n",
       "    <tr>\n",
       "      <th>9625</th>\n",
       "      <td>heldergem</td>\n",
       "      <td>None</td>\n",
       "      <td>2</td>\n",
       "      <td>131</td>\n",
       "      <td>None</td>\n",
       "      <td>None</td>\n",
       "      <td>None</td>\n",
       "      <td>None</td>\n",
       "      <td>390</td>\n",
       "      <td>2</td>\n",
       "      <td>None</td>\n",
       "      <td>Good</td>\n",
       "      <td>house</td>\n",
       "    </tr>\n",
       "    <tr>\n",
       "      <th>9814</th>\n",
       "      <td>andenne</td>\n",
       "      <td>None</td>\n",
       "      <td>3</td>\n",
       "      <td>98</td>\n",
       "      <td>Installed</td>\n",
       "      <td>0</td>\n",
       "      <td>None</td>\n",
       "      <td>None</td>\n",
       "      <td>None</td>\n",
       "      <td>3</td>\n",
       "      <td>0</td>\n",
       "      <td>Good</td>\n",
       "      <td>apartment</td>\n",
       "    </tr>\n",
       "    <tr>\n",
       "      <th>9826</th>\n",
       "      <td>bornem</td>\n",
       "      <td>None</td>\n",
       "      <td>3</td>\n",
       "      <td>216</td>\n",
       "      <td>Installed</td>\n",
       "      <td>0</td>\n",
       "      <td>None</td>\n",
       "      <td>None</td>\n",
       "      <td>820</td>\n",
       "      <td>4</td>\n",
       "      <td>None</td>\n",
       "      <td>None</td>\n",
       "      <td>villa</td>\n",
       "    </tr>\n",
       "    <tr>\n",
       "      <th>9880</th>\n",
       "      <td>heusy</td>\n",
       "      <td>None</td>\n",
       "      <td>8</td>\n",
       "      <td>351</td>\n",
       "      <td>Installed</td>\n",
       "      <td>None</td>\n",
       "      <td>None</td>\n",
       "      <td>None</td>\n",
       "      <td>965</td>\n",
       "      <td>4</td>\n",
       "      <td>None</td>\n",
       "      <td>To be done up</td>\n",
       "      <td>villa</td>\n",
       "    </tr>\n",
       "    <tr>\n",
       "      <th>9966</th>\n",
       "      <td>woluwe-saint-lambert</td>\n",
       "      <td>None</td>\n",
       "      <td>3</td>\n",
       "      <td>236</td>\n",
       "      <td>Installed</td>\n",
       "      <td>None</td>\n",
       "      <td>None</td>\n",
       "      <td>None</td>\n",
       "      <td>None</td>\n",
       "      <td>None</td>\n",
       "      <td>None</td>\n",
       "      <td>Good</td>\n",
       "      <td>penthouse</td>\n",
       "    </tr>\n",
       "  </tbody>\n",
       "</table>\n",
       "<p>84 rows × 13 columns</p>\n",
       "</div>"
      ],
      "text/plain": [
       "                  Locality Price  Bedrooms  Living area Kitchen type  \\\n",
       "293      sint-eloois-vijve  None         4          184    Installed   \n",
       "544           sint-niklaas  None         4          223    Installed   \n",
       "565                seraing  None         1           70    Installed   \n",
       "586                liezele  None         3          206    Installed   \n",
       "730                 ombret  None         3           95    Installed   \n",
       "...                    ...   ...       ...          ...          ...   \n",
       "9625             heldergem  None         2          131         None   \n",
       "9814               andenne  None         3           98    Installed   \n",
       "9826                bornem  None         3          216    Installed   \n",
       "9880                 heusy  None         8          351    Installed   \n",
       "9966  woluwe-saint-lambert  None         3          236    Installed   \n",
       "\n",
       "     Furnished Terrace surface Garden surface Surface of the plot  \\\n",
       "293       None            None           None                 358   \n",
       "544       None            None           None                 170   \n",
       "565       None            None           None                None   \n",
       "586          0            None           None                 820   \n",
       "730       None            None           None                 476   \n",
       "...        ...             ...            ...                 ...   \n",
       "9625      None            None           None                 390   \n",
       "9814         0            None           None                None   \n",
       "9826         0            None           None                 820   \n",
       "9880      None            None           None                 965   \n",
       "9966      None            None           None                None   \n",
       "\n",
       "     Number of frontages Swimming pool Building condition Type of property  \n",
       "293                    2          None               Good            house  \n",
       "544                    2          None        To renovate            house  \n",
       "565                 None          None               Good        apartment  \n",
       "586                    4          None               None            house  \n",
       "730                    2          None             As new            house  \n",
       "...                  ...           ...                ...              ...  \n",
       "9625                   2          None               Good            house  \n",
       "9814                   3             0               Good        apartment  \n",
       "9826                   4          None               None            villa  \n",
       "9880                   4          None      To be done up            villa  \n",
       "9966                None          None               Good        penthouse  \n",
       "\n",
       "[84 rows x 13 columns]"
      ]
     },
     "execution_count": 25,
     "metadata": {},
     "output_type": "execute_result"
    }
   ],
   "source": [
    "df[df[\"Price\"] == \"None\"]"
   ]
  },
  {
   "cell_type": "markdown",
   "metadata": {},
   "source": [
    "### Remove properties with \"Price\" equal to \"None\""
   ]
  },
  {
   "cell_type": "code",
   "execution_count": 26,
   "metadata": {},
   "outputs": [],
   "source": [
    "df.drop(df[df[\"Price\"] == \"None\"].index, inplace=True)"
   ]
  },
  {
   "cell_type": "markdown",
   "metadata": {},
   "source": [
    "### Convert \"Price\" to integer"
   ]
  },
  {
   "cell_type": "code",
   "execution_count": 27,
   "metadata": {},
   "outputs": [],
   "source": [
    "df.Price = df.Price.apply(lambda x: int(x.replace(\",\", \"\")))"
   ]
  },
  {
   "cell_type": "code",
   "execution_count": 28,
   "metadata": {},
   "outputs": [
    {
     "data": {
      "text/plain": [
       "dtype('int64')"
      ]
     },
     "execution_count": 28,
     "metadata": {},
     "output_type": "execute_result"
    }
   ],
   "source": [
    "df.Price.dtype"
   ]
  },
  {
   "cell_type": "markdown",
   "metadata": {},
   "source": [
    "# Remove useless columns"
   ]
  },
  {
   "cell_type": "code",
   "execution_count": 29,
   "metadata": {},
   "outputs": [
    {
     "data": {
      "text/plain": [
       "Index(['Locality', 'Price', 'Bedrooms', 'Living area', 'Kitchen type',\n",
       "       'Furnished', 'Terrace surface', 'Garden surface', 'Surface of the plot',\n",
       "       'Number of frontages', 'Swimming pool', 'Building condition',\n",
       "       'Type of property'],\n",
       "      dtype='object')"
      ]
     },
     "execution_count": 29,
     "metadata": {},
     "output_type": "execute_result"
    }
   ],
   "source": [
    "df.columns"
   ]
  },
  {
   "cell_type": "code",
   "execution_count": 30,
   "metadata": {},
   "outputs": [],
   "source": [
    "df.drop([\"Surface of the plot\", \"Number of frontages\", \"Building condition\"], axis=1, inplace=True)"
   ]
  },
  {
   "cell_type": "code",
   "execution_count": 31,
   "metadata": {},
   "outputs": [
    {
     "data": {
      "text/html": [
       "<div>\n",
       "<style scoped>\n",
       "    .dataframe tbody tr th:only-of-type {\n",
       "        vertical-align: middle;\n",
       "    }\n",
       "\n",
       "    .dataframe tbody tr th {\n",
       "        vertical-align: top;\n",
       "    }\n",
       "\n",
       "    .dataframe thead th {\n",
       "        text-align: right;\n",
       "    }\n",
       "</style>\n",
       "<table border=\"1\" class=\"dataframe\">\n",
       "  <thead>\n",
       "    <tr style=\"text-align: right;\">\n",
       "      <th></th>\n",
       "      <th>Locality</th>\n",
       "      <th>Price</th>\n",
       "      <th>Bedrooms</th>\n",
       "      <th>Living area</th>\n",
       "      <th>Kitchen type</th>\n",
       "      <th>Furnished</th>\n",
       "      <th>Terrace surface</th>\n",
       "      <th>Garden surface</th>\n",
       "      <th>Swimming pool</th>\n",
       "      <th>Type of property</th>\n",
       "    </tr>\n",
       "  </thead>\n",
       "  <tbody>\n",
       "    <tr>\n",
       "      <th>0</th>\n",
       "      <td>bruxelles</td>\n",
       "      <td>500000</td>\n",
       "      <td>2</td>\n",
       "      <td>90</td>\n",
       "      <td>USA uninstalled</td>\n",
       "      <td>0</td>\n",
       "      <td>12</td>\n",
       "      <td>None</td>\n",
       "      <td>0</td>\n",
       "      <td>apartment</td>\n",
       "    </tr>\n",
       "    <tr>\n",
       "      <th>1</th>\n",
       "      <td>oupeye</td>\n",
       "      <td>84000</td>\n",
       "      <td>1</td>\n",
       "      <td>89</td>\n",
       "      <td>Not installed</td>\n",
       "      <td>1</td>\n",
       "      <td>None</td>\n",
       "      <td>125</td>\n",
       "      <td>None</td>\n",
       "      <td>house</td>\n",
       "    </tr>\n",
       "    <tr>\n",
       "      <th>2</th>\n",
       "      <td>laeken</td>\n",
       "      <td>475000</td>\n",
       "      <td>3</td>\n",
       "      <td>163</td>\n",
       "      <td>USA hyper equipped</td>\n",
       "      <td>0</td>\n",
       "      <td>8</td>\n",
       "      <td>None</td>\n",
       "      <td>None</td>\n",
       "      <td>duplex</td>\n",
       "    </tr>\n",
       "    <tr>\n",
       "      <th>3</th>\n",
       "      <td>boutersem</td>\n",
       "      <td>425000</td>\n",
       "      <td>5</td>\n",
       "      <td>190</td>\n",
       "      <td>Semi equipped</td>\n",
       "      <td>0</td>\n",
       "      <td>None</td>\n",
       "      <td>None</td>\n",
       "      <td>0</td>\n",
       "      <td>house</td>\n",
       "    </tr>\n",
       "    <tr>\n",
       "      <th>4</th>\n",
       "      <td>ixelles</td>\n",
       "      <td>2700000</td>\n",
       "      <td>5</td>\n",
       "      <td>557</td>\n",
       "      <td>Hyper equipped</td>\n",
       "      <td>None</td>\n",
       "      <td>50</td>\n",
       "      <td>60</td>\n",
       "      <td>None</td>\n",
       "      <td>duplex</td>\n",
       "    </tr>\n",
       "  </tbody>\n",
       "</table>\n",
       "</div>"
      ],
      "text/plain": [
       "    Locality    Price  Bedrooms  Living area        Kitchen type Furnished  \\\n",
       "0  bruxelles   500000         2           90     USA uninstalled         0   \n",
       "1     oupeye    84000         1           89       Not installed         1   \n",
       "2     laeken   475000         3          163  USA hyper equipped         0   \n",
       "3  boutersem   425000         5          190       Semi equipped         0   \n",
       "4    ixelles  2700000         5          557      Hyper equipped      None   \n",
       "\n",
       "  Terrace surface Garden surface Swimming pool Type of property  \n",
       "0              12           None             0        apartment  \n",
       "1            None            125          None            house  \n",
       "2               8           None          None           duplex  \n",
       "3            None           None             0            house  \n",
       "4              50             60          None           duplex  "
      ]
     },
     "execution_count": 31,
     "metadata": {},
     "output_type": "execute_result"
    }
   ],
   "source": [
    "df.head()"
   ]
  },
  {
   "cell_type": "markdown",
   "metadata": {},
   "source": [
    "# Clean \"Kitchen type\""
   ]
  },
  {
   "cell_type": "code",
   "execution_count": 32,
   "metadata": {},
   "outputs": [],
   "source": [
    "# not equipped, semi-equipped, equipped or super-equipped\n",
    "df[\"Kitchen type\"].replace({\n",
    "    \"Installed\":\"equipped\",\n",
    "    \"Hyper equipped\":\"super-equipped\",\n",
    "    \"None\":\"not equipped\",\n",
    "    \"Semi equipped\":\"semi-equipped\",\n",
    "    \"USA hyper equipped\":\"super-equipped\",\n",
    "    \"Not installed\":\"not equipped\",\n",
    "    \"USA installed\":\"equipped\",\n",
    "    \"USA semi equipped\":\"semi-equipped\",\n",
    "    \"USA uninstalled\":\"not equipped\",\n",
    "    }, inplace=True)"
   ]
  },
  {
   "cell_type": "code",
   "execution_count": 33,
   "metadata": {},
   "outputs": [
    {
     "data": {
      "text/plain": [
       "equipped          3569\n",
       "super-equipped    2571\n",
       "not equipped      1659\n",
       "semi-equipped     1132\n",
       "Name: Kitchen type, dtype: int64"
      ]
     },
     "execution_count": 33,
     "metadata": {},
     "output_type": "execute_result"
    }
   ],
   "source": [
    "df[\"Kitchen type\"].value_counts()"
   ]
  },
  {
   "cell_type": "markdown",
   "metadata": {},
   "source": [
    "# Convert remaining \"None\" to zeros"
   ]
  },
  {
   "cell_type": "code",
   "execution_count": 34,
   "metadata": {},
   "outputs": [],
   "source": [
    "df.replace(\"None\", 0, inplace=True)"
   ]
  },
  {
   "cell_type": "code",
   "execution_count": 35,
   "metadata": {},
   "outputs": [
    {
     "data": {
      "text/html": [
       "<div>\n",
       "<style scoped>\n",
       "    .dataframe tbody tr th:only-of-type {\n",
       "        vertical-align: middle;\n",
       "    }\n",
       "\n",
       "    .dataframe tbody tr th {\n",
       "        vertical-align: top;\n",
       "    }\n",
       "\n",
       "    .dataframe thead th {\n",
       "        text-align: right;\n",
       "    }\n",
       "</style>\n",
       "<table border=\"1\" class=\"dataframe\">\n",
       "  <thead>\n",
       "    <tr style=\"text-align: right;\">\n",
       "      <th></th>\n",
       "      <th>Locality</th>\n",
       "      <th>Price</th>\n",
       "      <th>Bedrooms</th>\n",
       "      <th>Living area</th>\n",
       "      <th>Kitchen type</th>\n",
       "      <th>Furnished</th>\n",
       "      <th>Terrace surface</th>\n",
       "      <th>Garden surface</th>\n",
       "      <th>Swimming pool</th>\n",
       "      <th>Type of property</th>\n",
       "    </tr>\n",
       "  </thead>\n",
       "  <tbody>\n",
       "    <tr>\n",
       "      <th>0</th>\n",
       "      <td>bruxelles</td>\n",
       "      <td>500000</td>\n",
       "      <td>2</td>\n",
       "      <td>90</td>\n",
       "      <td>not equipped</td>\n",
       "      <td>0</td>\n",
       "      <td>12</td>\n",
       "      <td>0</td>\n",
       "      <td>0</td>\n",
       "      <td>apartment</td>\n",
       "    </tr>\n",
       "    <tr>\n",
       "      <th>1</th>\n",
       "      <td>oupeye</td>\n",
       "      <td>84000</td>\n",
       "      <td>1</td>\n",
       "      <td>89</td>\n",
       "      <td>not equipped</td>\n",
       "      <td>1</td>\n",
       "      <td>0</td>\n",
       "      <td>125</td>\n",
       "      <td>0</td>\n",
       "      <td>house</td>\n",
       "    </tr>\n",
       "    <tr>\n",
       "      <th>2</th>\n",
       "      <td>laeken</td>\n",
       "      <td>475000</td>\n",
       "      <td>3</td>\n",
       "      <td>163</td>\n",
       "      <td>super-equipped</td>\n",
       "      <td>0</td>\n",
       "      <td>8</td>\n",
       "      <td>0</td>\n",
       "      <td>0</td>\n",
       "      <td>duplex</td>\n",
       "    </tr>\n",
       "    <tr>\n",
       "      <th>3</th>\n",
       "      <td>boutersem</td>\n",
       "      <td>425000</td>\n",
       "      <td>5</td>\n",
       "      <td>190</td>\n",
       "      <td>semi-equipped</td>\n",
       "      <td>0</td>\n",
       "      <td>0</td>\n",
       "      <td>0</td>\n",
       "      <td>0</td>\n",
       "      <td>house</td>\n",
       "    </tr>\n",
       "    <tr>\n",
       "      <th>4</th>\n",
       "      <td>ixelles</td>\n",
       "      <td>2700000</td>\n",
       "      <td>5</td>\n",
       "      <td>557</td>\n",
       "      <td>super-equipped</td>\n",
       "      <td>0</td>\n",
       "      <td>50</td>\n",
       "      <td>60</td>\n",
       "      <td>0</td>\n",
       "      <td>duplex</td>\n",
       "    </tr>\n",
       "  </tbody>\n",
       "</table>\n",
       "</div>"
      ],
      "text/plain": [
       "    Locality    Price  Bedrooms  Living area    Kitchen type Furnished  \\\n",
       "0  bruxelles   500000         2           90    not equipped         0   \n",
       "1     oupeye    84000         1           89    not equipped         1   \n",
       "2     laeken   475000         3          163  super-equipped         0   \n",
       "3  boutersem   425000         5          190   semi-equipped         0   \n",
       "4    ixelles  2700000         5          557  super-equipped         0   \n",
       "\n",
       "  Terrace surface Garden surface Swimming pool Type of property  \n",
       "0              12              0             0        apartment  \n",
       "1               0            125             0            house  \n",
       "2               8              0             0           duplex  \n",
       "3               0              0             0            house  \n",
       "4              50             60             0           duplex  "
      ]
     },
     "execution_count": 35,
     "metadata": {},
     "output_type": "execute_result"
    }
   ],
   "source": [
    "df.head()"
   ]
  },
  {
   "cell_type": "markdown",
   "metadata": {},
   "source": [
    "### Convert \"Furnished\", \"Terrace surface\", Garden surface\" and \"Swimming pool\" to integer"
   ]
  },
  {
   "cell_type": "code",
   "execution_count": 36,
   "metadata": {},
   "outputs": [],
   "source": [
    "df[\"Furnished\"] = df[\"Furnished\"].apply(lambda x: int(x))\n",
    "df[\"Terrace surface\"] = df[\"Terrace surface\"].apply(lambda x: int(x))\n",
    "df[\"Garden surface\"] = df[\"Garden surface\"].apply(lambda x: int(x))\n",
    "df[\"Swimming pool\"] = df[\"Swimming pool\"].apply(lambda x: int(x))"
   ]
  },
  {
   "cell_type": "markdown",
   "metadata": {},
   "source": [
    "# Simple linear regression"
   ]
  },
  {
   "cell_type": "code",
   "execution_count": 37,
   "metadata": {},
   "outputs": [
    {
     "data": {
      "text/html": [
       "<div>\n",
       "<style scoped>\n",
       "    .dataframe tbody tr th:only-of-type {\n",
       "        vertical-align: middle;\n",
       "    }\n",
       "\n",
       "    .dataframe tbody tr th {\n",
       "        vertical-align: top;\n",
       "    }\n",
       "\n",
       "    .dataframe thead th {\n",
       "        text-align: right;\n",
       "    }\n",
       "</style>\n",
       "<table border=\"1\" class=\"dataframe\">\n",
       "  <thead>\n",
       "    <tr style=\"text-align: right;\">\n",
       "      <th></th>\n",
       "      <th>Price</th>\n",
       "      <th>Bedrooms</th>\n",
       "      <th>Living area</th>\n",
       "      <th>Furnished</th>\n",
       "      <th>Terrace surface</th>\n",
       "      <th>Garden surface</th>\n",
       "      <th>Swimming pool</th>\n",
       "    </tr>\n",
       "  </thead>\n",
       "  <tbody>\n",
       "    <tr>\n",
       "      <th>Price</th>\n",
       "      <td>1.000000</td>\n",
       "      <td>0.416134</td>\n",
       "      <td>0.593956</td>\n",
       "      <td>-0.000367</td>\n",
       "      <td>0.137697</td>\n",
       "      <td>0.128988</td>\n",
       "      <td>0.285778</td>\n",
       "    </tr>\n",
       "    <tr>\n",
       "      <th>Bedrooms</th>\n",
       "      <td>0.416134</td>\n",
       "      <td>1.000000</td>\n",
       "      <td>0.690171</td>\n",
       "      <td>-0.050975</td>\n",
       "      <td>0.082894</td>\n",
       "      <td>0.099653</td>\n",
       "      <td>0.117941</td>\n",
       "    </tr>\n",
       "    <tr>\n",
       "      <th>Living area</th>\n",
       "      <td>0.593956</td>\n",
       "      <td>0.690171</td>\n",
       "      <td>1.000000</td>\n",
       "      <td>-0.044846</td>\n",
       "      <td>0.098867</td>\n",
       "      <td>0.177388</td>\n",
       "      <td>0.220232</td>\n",
       "    </tr>\n",
       "    <tr>\n",
       "      <th>Furnished</th>\n",
       "      <td>-0.000367</td>\n",
       "      <td>-0.050975</td>\n",
       "      <td>-0.044846</td>\n",
       "      <td>1.000000</td>\n",
       "      <td>-0.022864</td>\n",
       "      <td>-0.008018</td>\n",
       "      <td>-0.002550</td>\n",
       "    </tr>\n",
       "    <tr>\n",
       "      <th>Terrace surface</th>\n",
       "      <td>0.137697</td>\n",
       "      <td>0.082894</td>\n",
       "      <td>0.098867</td>\n",
       "      <td>-0.022864</td>\n",
       "      <td>1.000000</td>\n",
       "      <td>0.029728</td>\n",
       "      <td>0.072398</td>\n",
       "    </tr>\n",
       "    <tr>\n",
       "      <th>Garden surface</th>\n",
       "      <td>0.128988</td>\n",
       "      <td>0.099653</td>\n",
       "      <td>0.177388</td>\n",
       "      <td>-0.008018</td>\n",
       "      <td>0.029728</td>\n",
       "      <td>1.000000</td>\n",
       "      <td>0.040767</td>\n",
       "    </tr>\n",
       "    <tr>\n",
       "      <th>Swimming pool</th>\n",
       "      <td>0.285778</td>\n",
       "      <td>0.117941</td>\n",
       "      <td>0.220232</td>\n",
       "      <td>-0.002550</td>\n",
       "      <td>0.072398</td>\n",
       "      <td>0.040767</td>\n",
       "      <td>1.000000</td>\n",
       "    </tr>\n",
       "  </tbody>\n",
       "</table>\n",
       "</div>"
      ],
      "text/plain": [
       "                    Price  Bedrooms  Living area  Furnished  Terrace surface  \\\n",
       "Price            1.000000  0.416134     0.593956  -0.000367         0.137697   \n",
       "Bedrooms         0.416134  1.000000     0.690171  -0.050975         0.082894   \n",
       "Living area      0.593956  0.690171     1.000000  -0.044846         0.098867   \n",
       "Furnished       -0.000367 -0.050975    -0.044846   1.000000        -0.022864   \n",
       "Terrace surface  0.137697  0.082894     0.098867  -0.022864         1.000000   \n",
       "Garden surface   0.128988  0.099653     0.177388  -0.008018         0.029728   \n",
       "Swimming pool    0.285778  0.117941     0.220232  -0.002550         0.072398   \n",
       "\n",
       "                 Garden surface  Swimming pool  \n",
       "Price                  0.128988       0.285778  \n",
       "Bedrooms               0.099653       0.117941  \n",
       "Living area            0.177388       0.220232  \n",
       "Furnished             -0.008018      -0.002550  \n",
       "Terrace surface        0.029728       0.072398  \n",
       "Garden surface         1.000000       0.040767  \n",
       "Swimming pool          0.040767       1.000000  "
      ]
     },
     "execution_count": 37,
     "metadata": {},
     "output_type": "execute_result"
    }
   ],
   "source": [
    "df.corr()"
   ]
  },
  {
   "cell_type": "markdown",
   "metadata": {},
   "source": [
    "### Define target variable"
   ]
  },
  {
   "cell_type": "code",
   "execution_count": 38,
   "metadata": {},
   "outputs": [
    {
     "name": "stdout",
     "output_type": "stream",
     "text": [
      "<class 'numpy.ndarray'>\n"
     ]
    }
   ],
   "source": [
    "y = df[\"Price\"]\n",
    "y = np.array(y)\n",
    "print(type(y))"
   ]
  },
  {
   "cell_type": "markdown",
   "metadata": {},
   "source": [
    "### Define feature"
   ]
  },
  {
   "cell_type": "code",
   "execution_count": 39,
   "metadata": {},
   "outputs": [
    {
     "data": {
      "text/plain": [
       "numpy.ndarray"
      ]
     },
     "execution_count": 39,
     "metadata": {},
     "output_type": "execute_result"
    }
   ],
   "source": [
    "x = np.array(df[\"Living area\"])\n",
    "type(x)"
   ]
  },
  {
   "cell_type": "markdown",
   "metadata": {},
   "source": [
    "### Visualize data"
   ]
  },
  {
   "cell_type": "code",
   "execution_count": 40,
   "metadata": {},
   "outputs": [
    {
     "data": {
      "image/png": "[encoded data removed]",
      "text/plain": [
       "<Figure size 432x288 with 1 Axes>"
      ]
     },
     "metadata": {
      "needs_background": "light"
     },
     "output_type": "display_data"
    }
   ],
   "source": [
    "import matplotlib.pyplot as plt\n",
    "\n",
    "plt.scatter(x=x, y=y, marker=\".\")\n",
    "plt.xlabel(\"Living area\")\n",
    "plt.ylabel(\"Price\")\n",
    "plt.show()"
   ]
  },
  {
   "cell_type": "markdown",
   "metadata": {},
   "source": [
    "### Train model"
   ]
  },
  {
   "cell_type": "code",
   "execution_count": 41,
   "metadata": {},
   "outputs": [
    {
     "data": {
      "text/plain": [
       "0.37090850946704346"
      ]
     },
     "execution_count": 41,
     "metadata": {},
     "output_type": "execute_result"
    }
   ],
   "source": [
    "from sklearn.model_selection import train_test_split\n",
    "from sklearn.linear_model import LinearRegression\n",
    "\n",
    "X_train, X_test, y_train, y_test = train_test_split(x, y, test_size=0.30, random_state=1)\n",
    "X_train = X_train.reshape(-1, 1)\n",
    "y_train = y_train.reshape(-1, 1)\n",
    "regressor = LinearRegression().fit(X_train, y_train)\n",
    "regressor.score(X_train, y_train)"
   ]
  },
  {
   "cell_type": "code",
   "execution_count": 42,
   "metadata": {},
   "outputs": [
    {
     "data": {
      "image/png": "[encoded data removed]",
      "text/plain": [
       "<Figure size 432x288 with 1 Axes>"
      ]
     },
     "metadata": {
      "needs_background": "light"
     },
     "output_type": "display_data"
    }
   ],
   "source": [
    "plt.scatter(X_train, y_train, marker=\".\")\n",
    "plt.plot(X_train, regressor.predict(X_train), color=\"r\")\n",
    "plt.title(\"Price vs living area (Training set)\")\n",
    "plt.xlabel(\"Living area\")\n",
    "plt.ylabel(\"Price\")\n",
    "plt.show()"
   ]
  },
  {
   "cell_type": "markdown",
   "metadata": {},
   "source": [
    "### Test model"
   ]
  },
  {
   "cell_type": "code",
   "execution_count": 43,
   "metadata": {},
   "outputs": [
    {
     "data": {
      "text/plain": [
       "0.31223999924897383"
      ]
     },
     "execution_count": 43,
     "metadata": {},
     "output_type": "execute_result"
    }
   ],
   "source": [
    "X_test = X_test.reshape(-1, 1)\n",
    "regressor.predict(X_test)\n",
    "regressor.score(X_test, y_test)"
   ]
  },
  {
   "cell_type": "code",
   "execution_count": 44,
   "metadata": {},
   "outputs": [
    {
     "data": {
      "image/png": "[encoded data removed]",
      "text/plain": [
       "<Figure size 432x288 with 1 Axes>"
      ]
     },
     "metadata": {
      "needs_background": "light"
     },
     "output_type": "display_data"
    }
   ],
   "source": [
    "plt.scatter(X_test, y_test, marker=\".\")\n",
    "plt.plot(X_test, regressor.predict(X_test), color=\"r\")\n",
    "plt.title(\"Price vs living area (Test set)\")\n",
    "plt.xlabel(\"Living area\")\n",
    "plt.ylabel(\"Price\")\n",
    "plt.show()"
   ]
  },
  {
   "cell_type": "markdown",
   "metadata": {},
   "source": [
    "# Multiple linear regression"
   ]
  },
  {
   "cell_type": "code",
   "execution_count": 45,
   "metadata": {},
   "outputs": [],
   "source": [
    "import matplotlib.pyplot as plt\n",
    "from mpl_toolkits.mplot3d import Axes3D"
   ]
  },
  {
   "cell_type": "code",
   "execution_count": 46,
   "metadata": {},
   "outputs": [
    {
     "data": {
      "text/html": [
       "<div>\n",
       "<style scoped>\n",
       "    .dataframe tbody tr th:only-of-type {\n",
       "        vertical-align: middle;\n",
       "    }\n",
       "\n",
       "    .dataframe tbody tr th {\n",
       "        vertical-align: top;\n",
       "    }\n",
       "\n",
       "    .dataframe thead th {\n",
       "        text-align: right;\n",
       "    }\n",
       "</style>\n",
       "<table border=\"1\" class=\"dataframe\">\n",
       "  <thead>\n",
       "    <tr style=\"text-align: right;\">\n",
       "      <th></th>\n",
       "      <th>Locality</th>\n",
       "      <th>Price</th>\n",
       "      <th>Bedrooms</th>\n",
       "      <th>Living area</th>\n",
       "      <th>Kitchen type</th>\n",
       "      <th>Furnished</th>\n",
       "      <th>Terrace surface</th>\n",
       "      <th>Garden surface</th>\n",
       "      <th>Swimming pool</th>\n",
       "      <th>Type of property</th>\n",
       "    </tr>\n",
       "  </thead>\n",
       "  <tbody>\n",
       "    <tr>\n",
       "      <th>0</th>\n",
       "      <td>bruxelles</td>\n",
       "      <td>500000</td>\n",
       "      <td>2</td>\n",
       "      <td>90</td>\n",
       "      <td>not equipped</td>\n",
       "      <td>0</td>\n",
       "      <td>12</td>\n",
       "      <td>0</td>\n",
       "      <td>0</td>\n",
       "      <td>apartment</td>\n",
       "    </tr>\n",
       "    <tr>\n",
       "      <th>1</th>\n",
       "      <td>oupeye</td>\n",
       "      <td>84000</td>\n",
       "      <td>1</td>\n",
       "      <td>89</td>\n",
       "      <td>not equipped</td>\n",
       "      <td>1</td>\n",
       "      <td>0</td>\n",
       "      <td>125</td>\n",
       "      <td>0</td>\n",
       "      <td>house</td>\n",
       "    </tr>\n",
       "    <tr>\n",
       "      <th>2</th>\n",
       "      <td>laeken</td>\n",
       "      <td>475000</td>\n",
       "      <td>3</td>\n",
       "      <td>163</td>\n",
       "      <td>super-equipped</td>\n",
       "      <td>0</td>\n",
       "      <td>8</td>\n",
       "      <td>0</td>\n",
       "      <td>0</td>\n",
       "      <td>duplex</td>\n",
       "    </tr>\n",
       "    <tr>\n",
       "      <th>3</th>\n",
       "      <td>boutersem</td>\n",
       "      <td>425000</td>\n",
       "      <td>5</td>\n",
       "      <td>190</td>\n",
       "      <td>semi-equipped</td>\n",
       "      <td>0</td>\n",
       "      <td>0</td>\n",
       "      <td>0</td>\n",
       "      <td>0</td>\n",
       "      <td>house</td>\n",
       "    </tr>\n",
       "    <tr>\n",
       "      <th>4</th>\n",
       "      <td>ixelles</td>\n",
       "      <td>2700000</td>\n",
       "      <td>5</td>\n",
       "      <td>557</td>\n",
       "      <td>super-equipped</td>\n",
       "      <td>0</td>\n",
       "      <td>50</td>\n",
       "      <td>60</td>\n",
       "      <td>0</td>\n",
       "      <td>duplex</td>\n",
       "    </tr>\n",
       "    <tr>\n",
       "      <th>...</th>\n",
       "      <td>...</td>\n",
       "      <td>...</td>\n",
       "      <td>...</td>\n",
       "      <td>...</td>\n",
       "      <td>...</td>\n",
       "      <td>...</td>\n",
       "      <td>...</td>\n",
       "      <td>...</td>\n",
       "      <td>...</td>\n",
       "      <td>...</td>\n",
       "    </tr>\n",
       "    <tr>\n",
       "      <th>9862</th>\n",
       "      <td>westende</td>\n",
       "      <td>77500</td>\n",
       "      <td>0</td>\n",
       "      <td>24</td>\n",
       "      <td>not equipped</td>\n",
       "      <td>0</td>\n",
       "      <td>0</td>\n",
       "      <td>0</td>\n",
       "      <td>0</td>\n",
       "      <td>flat-studio</td>\n",
       "    </tr>\n",
       "    <tr>\n",
       "      <th>9945</th>\n",
       "      <td>leuven</td>\n",
       "      <td>147000</td>\n",
       "      <td>0</td>\n",
       "      <td>21</td>\n",
       "      <td>semi-equipped</td>\n",
       "      <td>0</td>\n",
       "      <td>0</td>\n",
       "      <td>0</td>\n",
       "      <td>0</td>\n",
       "      <td>flat-studio</td>\n",
       "    </tr>\n",
       "    <tr>\n",
       "      <th>9969</th>\n",
       "      <td>nivelles</td>\n",
       "      <td>90000</td>\n",
       "      <td>0</td>\n",
       "      <td>24</td>\n",
       "      <td>semi-equipped</td>\n",
       "      <td>0</td>\n",
       "      <td>0</td>\n",
       "      <td>0</td>\n",
       "      <td>0</td>\n",
       "      <td>flat-studio</td>\n",
       "    </tr>\n",
       "    <tr>\n",
       "      <th>9976</th>\n",
       "      <td>schaerbeek</td>\n",
       "      <td>185000</td>\n",
       "      <td>0</td>\n",
       "      <td>53</td>\n",
       "      <td>super-equipped</td>\n",
       "      <td>0</td>\n",
       "      <td>4</td>\n",
       "      <td>0</td>\n",
       "      <td>0</td>\n",
       "      <td>flat-studio</td>\n",
       "    </tr>\n",
       "    <tr>\n",
       "      <th>9990</th>\n",
       "      <td>middelkerke</td>\n",
       "      <td>135000</td>\n",
       "      <td>0</td>\n",
       "      <td>30</td>\n",
       "      <td>equipped</td>\n",
       "      <td>0</td>\n",
       "      <td>28</td>\n",
       "      <td>0</td>\n",
       "      <td>0</td>\n",
       "      <td>flat-studio</td>\n",
       "    </tr>\n",
       "  </tbody>\n",
       "</table>\n",
       "<p>8931 rows × 10 columns</p>\n",
       "</div>"
      ],
      "text/plain": [
       "         Locality    Price  Bedrooms  Living area    Kitchen type  Furnished  \\\n",
       "0       bruxelles   500000         2           90    not equipped          0   \n",
       "1          oupeye    84000         1           89    not equipped          1   \n",
       "2          laeken   475000         3          163  super-equipped          0   \n",
       "3       boutersem   425000         5          190   semi-equipped          0   \n",
       "4         ixelles  2700000         5          557  super-equipped          0   \n",
       "...           ...      ...       ...          ...             ...        ...   \n",
       "9862     westende    77500         0           24    not equipped          0   \n",
       "9945       leuven   147000         0           21   semi-equipped          0   \n",
       "9969     nivelles    90000         0           24   semi-equipped          0   \n",
       "9976   schaerbeek   185000         0           53  super-equipped          0   \n",
       "9990  middelkerke   135000         0           30        equipped          0   \n",
       "\n",
       "      Terrace surface  Garden surface  Swimming pool Type of property  \n",
       "0                  12               0              0        apartment  \n",
       "1                   0             125              0            house  \n",
       "2                   8               0              0           duplex  \n",
       "3                   0               0              0            house  \n",
       "4                  50              60              0           duplex  \n",
       "...               ...             ...            ...              ...  \n",
       "9862                0               0              0      flat-studio  \n",
       "9945                0               0              0      flat-studio  \n",
       "9969                0               0              0      flat-studio  \n",
       "9976                4               0              0      flat-studio  \n",
       "9990               28               0              0      flat-studio  \n",
       "\n",
       "[8931 rows x 10 columns]"
      ]
     },
     "execution_count": 46,
     "metadata": {},
     "output_type": "execute_result"
    }
   ],
   "source": [
    "df"
   ]
  },
  {
   "cell_type": "markdown",
   "metadata": {},
   "source": [
    "### Define target and features"
   ]
  },
  {
   "cell_type": "code",
   "execution_count": 47,
   "metadata": {},
   "outputs": [],
   "source": [
    "y = np.array(df[\"Price\"]).reshape(-1, 1)\n",
    "X = np.array(df[[\"Bedrooms\", \"Living area\"]])"
   ]
  },
  {
   "cell_type": "code",
   "execution_count": 48,
   "metadata": {},
   "outputs": [
    {
     "data": {
      "text/plain": [
       "(8931, 1)"
      ]
     },
     "execution_count": 48,
     "metadata": {},
     "output_type": "execute_result"
    }
   ],
   "source": [
    "y.shape"
   ]
  },
  {
   "cell_type": "code",
   "execution_count": 49,
   "metadata": {},
   "outputs": [
    {
     "data": {
      "text/plain": [
       "(8931, 2)"
      ]
     },
     "execution_count": 49,
     "metadata": {},
     "output_type": "execute_result"
    }
   ],
   "source": [
    "X.shape"
   ]
  },
  {
   "cell_type": "markdown",
   "metadata": {},
   "source": [
    "### Visualize data"
   ]
  },
  {
   "cell_type": "code",
   "execution_count": 50,
   "metadata": {},
   "outputs": [
    {
     "data": {
      "image/png": "[encoded data removed]",
      "text/plain": [
       "<Figure size 720x720 with 1 Axes>"
      ]
     },
     "metadata": {
      "needs_background": "light"
     },
     "output_type": "display_data"
    }
   ],
   "source": [
    "fig = plt.figure()\n",
    "ax = fig.add_subplot(111, projection=\"3d\")\n",
    "fig.set_size_inches(10, 10)\n",
    "ax.view_init(5, 5)\n",
    "\n",
    "ax.scatter(df[\"Bedrooms\"], df[\"Living area\"], df[\"Price\"], marker=\".\")\n",
    "# ax.ticklabel_format(style='plain')\n",
    "ax.set_title(\"Price vs Living area vs Number of bedrooms\")\n",
    "ax.set_xlabel(\"Bedrooms\", c='gray')\n",
    "ax.set_ylabel(\"Living area\")\n",
    "ax.set_zlabel(\"Price\");"
   ]
  },
  {
   "cell_type": "code",
   "execution_count": 51,
   "metadata": {},
   "outputs": [
    {
     "data": {
      "image/png": "[encoded data removed]",
      "text/plain": [
       "<Figure size 720x720 with 1 Axes>"
      ]
     },
     "metadata": {
      "needs_background": "light"
     },
     "output_type": "display_data"
    }
   ],
   "source": [
    "fig = plt.figure()\n",
    "ax = fig.add_subplot(111, projection=\"3d\")\n",
    "fig.set_size_inches(10, 10)\n",
    "ax.view_init(5, 275)\n",
    "\n",
    "ax.scatter(df[\"Bedrooms\"], df[\"Living area\"], df[\"Price\"])\n",
    "# ax.ticklabel_format(style='plain')\n",
    "ax.set_title(\"Price vs Number of bedrooms vs Living area\")\n",
    "ax.set_xlabel(\"Bedrooms\")\n",
    "ax.set_ylabel(\"Living area\", color='gray')\n",
    "ax.set_zlabel(\"Price\");"
   ]
  },
  {
   "cell_type": "code",
   "execution_count": 52,
   "metadata": {},
   "outputs": [
    {
     "data": {
      "image/png": "[encoded data removed]",
      "text/plain": [
       "<Figure size 432x288 with 2 Axes>"
      ]
     },
     "metadata": {
      "needs_background": "light"
     },
     "output_type": "display_data"
    }
   ],
   "source": [
    "fig, axes = plt.subplots(nrows=1, ncols=2)\n",
    "# plt.tight_layout()\n",
    "axes[0].scatter(df[\"Bedrooms\"],df[\"Price\"], marker=\".\")\n",
    "axes[1].scatter(df[\"Living area\"],df[\"Price\"], marker=\".\")\n",
    "plt.ylabel(\"Price\")\n",
    "plt.show()"
   ]
  },
  {
   "cell_type": "markdown",
   "metadata": {},
   "source": [
    "### Train model"
   ]
  },
  {
   "cell_type": "code",
   "execution_count": 53,
   "metadata": {},
   "outputs": [
    {
     "data": {
      "text/html": [
       "<div>\n",
       "<style scoped>\n",
       "    .dataframe tbody tr th:only-of-type {\n",
       "        vertical-align: middle;\n",
       "    }\n",
       "\n",
       "    .dataframe tbody tr th {\n",
       "        vertical-align: top;\n",
       "    }\n",
       "\n",
       "    .dataframe thead th {\n",
       "        text-align: right;\n",
       "    }\n",
       "</style>\n",
       "<table border=\"1\" class=\"dataframe\">\n",
       "  <thead>\n",
       "    <tr style=\"text-align: right;\">\n",
       "      <th></th>\n",
       "      <th>Price</th>\n",
       "      <th>Bedrooms</th>\n",
       "      <th>Living area</th>\n",
       "      <th>Furnished</th>\n",
       "      <th>Terrace surface</th>\n",
       "      <th>Garden surface</th>\n",
       "      <th>Swimming pool</th>\n",
       "    </tr>\n",
       "  </thead>\n",
       "  <tbody>\n",
       "    <tr>\n",
       "      <th>Price</th>\n",
       "      <td>1.000000</td>\n",
       "      <td>0.416134</td>\n",
       "      <td>0.593956</td>\n",
       "      <td>-0.000367</td>\n",
       "      <td>0.137697</td>\n",
       "      <td>0.128988</td>\n",
       "      <td>0.285778</td>\n",
       "    </tr>\n",
       "    <tr>\n",
       "      <th>Bedrooms</th>\n",
       "      <td>0.416134</td>\n",
       "      <td>1.000000</td>\n",
       "      <td>0.690171</td>\n",
       "      <td>-0.050975</td>\n",
       "      <td>0.082894</td>\n",
       "      <td>0.099653</td>\n",
       "      <td>0.117941</td>\n",
       "    </tr>\n",
       "    <tr>\n",
       "      <th>Living area</th>\n",
       "      <td>0.593956</td>\n",
       "      <td>0.690171</td>\n",
       "      <td>1.000000</td>\n",
       "      <td>-0.044846</td>\n",
       "      <td>0.098867</td>\n",
       "      <td>0.177388</td>\n",
       "      <td>0.220232</td>\n",
       "    </tr>\n",
       "    <tr>\n",
       "      <th>Furnished</th>\n",
       "      <td>-0.000367</td>\n",
       "      <td>-0.050975</td>\n",
       "      <td>-0.044846</td>\n",
       "      <td>1.000000</td>\n",
       "      <td>-0.022864</td>\n",
       "      <td>-0.008018</td>\n",
       "      <td>-0.002550</td>\n",
       "    </tr>\n",
       "    <tr>\n",
       "      <th>Terrace surface</th>\n",
       "      <td>0.137697</td>\n",
       "      <td>0.082894</td>\n",
       "      <td>0.098867</td>\n",
       "      <td>-0.022864</td>\n",
       "      <td>1.000000</td>\n",
       "      <td>0.029728</td>\n",
       "      <td>0.072398</td>\n",
       "    </tr>\n",
       "    <tr>\n",
       "      <th>Garden surface</th>\n",
       "      <td>0.128988</td>\n",
       "      <td>0.099653</td>\n",
       "      <td>0.177388</td>\n",
       "      <td>-0.008018</td>\n",
       "      <td>0.029728</td>\n",
       "      <td>1.000000</td>\n",
       "      <td>0.040767</td>\n",
       "    </tr>\n",
       "    <tr>\n",
       "      <th>Swimming pool</th>\n",
       "      <td>0.285778</td>\n",
       "      <td>0.117941</td>\n",
       "      <td>0.220232</td>\n",
       "      <td>-0.002550</td>\n",
       "      <td>0.072398</td>\n",
       "      <td>0.040767</td>\n",
       "      <td>1.000000</td>\n",
       "    </tr>\n",
       "  </tbody>\n",
       "</table>\n",
       "</div>"
      ],
      "text/plain": [
       "                    Price  Bedrooms  Living area  Furnished  Terrace surface  \\\n",
       "Price            1.000000  0.416134     0.593956  -0.000367         0.137697   \n",
       "Bedrooms         0.416134  1.000000     0.690171  -0.050975         0.082894   \n",
       "Living area      0.593956  0.690171     1.000000  -0.044846         0.098867   \n",
       "Furnished       -0.000367 -0.050975    -0.044846   1.000000        -0.022864   \n",
       "Terrace surface  0.137697  0.082894     0.098867  -0.022864         1.000000   \n",
       "Garden surface   0.128988  0.099653     0.177388  -0.008018         0.029728   \n",
       "Swimming pool    0.285778  0.117941     0.220232  -0.002550         0.072398   \n",
       "\n",
       "                 Garden surface  Swimming pool  \n",
       "Price                  0.128988       0.285778  \n",
       "Bedrooms               0.099653       0.117941  \n",
       "Living area            0.177388       0.220232  \n",
       "Furnished             -0.008018      -0.002550  \n",
       "Terrace surface        0.029728       0.072398  \n",
       "Garden surface         1.000000       0.040767  \n",
       "Swimming pool          0.040767       1.000000  "
      ]
     },
     "execution_count": 53,
     "metadata": {},
     "output_type": "execute_result"
    }
   ],
   "source": [
    "df.corr()"
   ]
  },
  {
   "cell_type": "code",
   "execution_count": 54,
   "metadata": {},
   "outputs": [],
   "source": [
    "from sklearn.model_selection import train_test_split\n",
    "\n",
    "X_train, X_test, y_train, y_test = train_test_split(X, y , test_size=0.2, random_state=0)"
   ]
  },
  {
   "cell_type": "code",
   "execution_count": 55,
   "metadata": {},
   "outputs": [
    {
     "name": "stdout",
     "output_type": "stream",
     "text": [
      "Shape of X_train      (7144, 2)\n",
      "Shape of X_test       (1787, 2)\n",
      "Shape of y_train      (7144, 1)\n",
      "Shape of y_test       (1787, 1)\n"
     ]
    }
   ],
   "source": [
    "print(\"Shape of X_train     \", X_train.shape)\n",
    "print(\"Shape of X_test      \", X_test.shape)\n",
    "print(\"Shape of y_train     \", y_train.shape)\n",
    "print(\"Shape of y_test      \", y_test.shape)"
   ]
  },
  {
   "cell_type": "code",
   "execution_count": 56,
   "metadata": {},
   "outputs": [
    {
     "data": {
      "text/plain": [
       "0.36573196295749544"
      ]
     },
     "execution_count": 56,
     "metadata": {},
     "output_type": "execute_result"
    }
   ],
   "source": [
    "from sklearn.linear_model import LinearRegression\n",
    "\n",
    "regressor = LinearRegression()\n",
    "regressor.fit(X_train, y_train)\n",
    "regressor.score(X_train, y_train)"
   ]
  },
  {
   "cell_type": "code",
   "execution_count": 57,
   "metadata": {},
   "outputs": [
    {
     "data": {
      "text/plain": [
       "<mpl_toolkits.mplot3d.art3d.Poly3DCollection at 0x21fccccde70>"
      ]
     },
     "execution_count": 57,
     "metadata": {},
     "output_type": "execute_result"
    },
    {
     "data": {
      "image/png": "[encoded data removed]",
      "text/plain": [
       "<Figure size 720x720 with 1 Axes>"
      ]
     },
     "metadata": {
      "needs_background": "light"
     },
     "output_type": "display_data"
    }
   ],
   "source": [
    "fig = plt.figure()\n",
    "ax = fig.add_subplot(111, projection=\"3d\")\n",
    "fig.set_size_inches(10, 10)\n",
    "ax.view_init(20, 10)\n",
    "\n",
    "ax.scatter(X_train[:,0], X_train[:,1], y_train)\n",
    "ax.set_title(\"PRICE vs LIVING AREA vs NUMBER OF BEDROOMS (Training set)\")\n",
    "ax.set_xlabel(\"Bedrooms\")\n",
    "ax.set_ylabel(\"Living area\")\n",
    "ax.set_zlabel(\"Price\")\n",
    "\n",
    "ax.plot_surface(X_train[:,0], X_train[:,1], regressor.predict(X_train), color='r')"
   ]
  },
  {
   "cell_type": "markdown",
   "metadata": {},
   "source": [
    "### Test model"
   ]
  },
  {
   "cell_type": "code",
   "execution_count": 58,
   "metadata": {},
   "outputs": [
    {
     "data": {
      "text/plain": [
       "0.30894428408220476"
      ]
     },
     "execution_count": 58,
     "metadata": {},
     "output_type": "execute_result"
    }
   ],
   "source": [
    "regressor.predict(X_test)\n",
    "regressor.score(X_test, y_test)"
   ]
  },
  {
   "cell_type": "code",
   "execution_count": 59,
   "metadata": {},
   "outputs": [
    {
     "data": {
      "text/plain": [
       "<mpl_toolkits.mplot3d.art3d.Poly3DCollection at 0x21fccd84e80>"
      ]
     },
     "execution_count": 59,
     "metadata": {},
     "output_type": "execute_result"
    },
    {
     "data": {
      "image/png": "[encoded data removed]",
      "text/plain": [
       "<Figure size 720x720 with 1 Axes>"
      ]
     },
     "metadata": {
      "needs_background": "light"
     },
     "output_type": "display_data"
    }
   ],
   "source": [
    "fig = plt.figure()\n",
    "ax = fig.add_subplot(111, projection=\"3d\")\n",
    "fig.set_size_inches(10, 10)\n",
    "ax.view_init(20, 10)\n",
    "\n",
    "ax.scatter(X_test[:,0], X_test[:,1], y_test)\n",
    "ax.set_title(\"PRICE vs LIVING AREA vs NUMBER OF BEDROOMS (Test set)\")\n",
    "ax.set_xlabel(\"Bedrooms\")\n",
    "ax.set_ylabel(\"Living area\")\n",
    "ax.set_zlabel(\"Price\")\n",
    "\n",
    "ax.plot_surface(X_test[:,0], X_test[:,1], regressor.predict(X_test), color='r')"
   ]
  },
  {
   "cell_type": "markdown",
   "metadata": {},
   "source": [
    "# Improve model"
   ]
  },
  {
   "cell_type": "code",
   "execution_count": 60,
   "metadata": {},
   "outputs": [
    {
     "data": {
      "text/html": [
       "<div>\n",
       "<style scoped>\n",
       "    .dataframe tbody tr th:only-of-type {\n",
       "        vertical-align: middle;\n",
       "    }\n",
       "\n",
       "    .dataframe tbody tr th {\n",
       "        vertical-align: top;\n",
       "    }\n",
       "\n",
       "    .dataframe thead th {\n",
       "        text-align: right;\n",
       "    }\n",
       "</style>\n",
       "<table border=\"1\" class=\"dataframe\">\n",
       "  <thead>\n",
       "    <tr style=\"text-align: right;\">\n",
       "      <th></th>\n",
       "      <th>Locality</th>\n",
       "      <th>Price</th>\n",
       "      <th>Bedrooms</th>\n",
       "      <th>Living area</th>\n",
       "      <th>Kitchen type</th>\n",
       "      <th>Furnished</th>\n",
       "      <th>Terrace surface</th>\n",
       "      <th>Garden surface</th>\n",
       "      <th>Swimming pool</th>\n",
       "      <th>Type of property</th>\n",
       "    </tr>\n",
       "  </thead>\n",
       "  <tbody>\n",
       "    <tr>\n",
       "      <th>0</th>\n",
       "      <td>bruxelles</td>\n",
       "      <td>500000</td>\n",
       "      <td>2</td>\n",
       "      <td>90</td>\n",
       "      <td>not equipped</td>\n",
       "      <td>0</td>\n",
       "      <td>12</td>\n",
       "      <td>0</td>\n",
       "      <td>0</td>\n",
       "      <td>apartment</td>\n",
       "    </tr>\n",
       "    <tr>\n",
       "      <th>1</th>\n",
       "      <td>oupeye</td>\n",
       "      <td>84000</td>\n",
       "      <td>1</td>\n",
       "      <td>89</td>\n",
       "      <td>not equipped</td>\n",
       "      <td>1</td>\n",
       "      <td>0</td>\n",
       "      <td>125</td>\n",
       "      <td>0</td>\n",
       "      <td>house</td>\n",
       "    </tr>\n",
       "    <tr>\n",
       "      <th>2</th>\n",
       "      <td>laeken</td>\n",
       "      <td>475000</td>\n",
       "      <td>3</td>\n",
       "      <td>163</td>\n",
       "      <td>super-equipped</td>\n",
       "      <td>0</td>\n",
       "      <td>8</td>\n",
       "      <td>0</td>\n",
       "      <td>0</td>\n",
       "      <td>duplex</td>\n",
       "    </tr>\n",
       "    <tr>\n",
       "      <th>3</th>\n",
       "      <td>boutersem</td>\n",
       "      <td>425000</td>\n",
       "      <td>5</td>\n",
       "      <td>190</td>\n",
       "      <td>semi-equipped</td>\n",
       "      <td>0</td>\n",
       "      <td>0</td>\n",
       "      <td>0</td>\n",
       "      <td>0</td>\n",
       "      <td>house</td>\n",
       "    </tr>\n",
       "    <tr>\n",
       "      <th>4</th>\n",
       "      <td>ixelles</td>\n",
       "      <td>2700000</td>\n",
       "      <td>5</td>\n",
       "      <td>557</td>\n",
       "      <td>super-equipped</td>\n",
       "      <td>0</td>\n",
       "      <td>50</td>\n",
       "      <td>60</td>\n",
       "      <td>0</td>\n",
       "      <td>duplex</td>\n",
       "    </tr>\n",
       "    <tr>\n",
       "      <th>...</th>\n",
       "      <td>...</td>\n",
       "      <td>...</td>\n",
       "      <td>...</td>\n",
       "      <td>...</td>\n",
       "      <td>...</td>\n",
       "      <td>...</td>\n",
       "      <td>...</td>\n",
       "      <td>...</td>\n",
       "      <td>...</td>\n",
       "      <td>...</td>\n",
       "    </tr>\n",
       "    <tr>\n",
       "      <th>9862</th>\n",
       "      <td>westende</td>\n",
       "      <td>77500</td>\n",
       "      <td>0</td>\n",
       "      <td>24</td>\n",
       "      <td>not equipped</td>\n",
       "      <td>0</td>\n",
       "      <td>0</td>\n",
       "      <td>0</td>\n",
       "      <td>0</td>\n",
       "      <td>flat-studio</td>\n",
       "    </tr>\n",
       "    <tr>\n",
       "      <th>9945</th>\n",
       "      <td>leuven</td>\n",
       "      <td>147000</td>\n",
       "      <td>0</td>\n",
       "      <td>21</td>\n",
       "      <td>semi-equipped</td>\n",
       "      <td>0</td>\n",
       "      <td>0</td>\n",
       "      <td>0</td>\n",
       "      <td>0</td>\n",
       "      <td>flat-studio</td>\n",
       "    </tr>\n",
       "    <tr>\n",
       "      <th>9969</th>\n",
       "      <td>nivelles</td>\n",
       "      <td>90000</td>\n",
       "      <td>0</td>\n",
       "      <td>24</td>\n",
       "      <td>semi-equipped</td>\n",
       "      <td>0</td>\n",
       "      <td>0</td>\n",
       "      <td>0</td>\n",
       "      <td>0</td>\n",
       "      <td>flat-studio</td>\n",
       "    </tr>\n",
       "    <tr>\n",
       "      <th>9976</th>\n",
       "      <td>schaerbeek</td>\n",
       "      <td>185000</td>\n",
       "      <td>0</td>\n",
       "      <td>53</td>\n",
       "      <td>super-equipped</td>\n",
       "      <td>0</td>\n",
       "      <td>4</td>\n",
       "      <td>0</td>\n",
       "      <td>0</td>\n",
       "      <td>flat-studio</td>\n",
       "    </tr>\n",
       "    <tr>\n",
       "      <th>9990</th>\n",
       "      <td>middelkerke</td>\n",
       "      <td>135000</td>\n",
       "      <td>0</td>\n",
       "      <td>30</td>\n",
       "      <td>equipped</td>\n",
       "      <td>0</td>\n",
       "      <td>28</td>\n",
       "      <td>0</td>\n",
       "      <td>0</td>\n",
       "      <td>flat-studio</td>\n",
       "    </tr>\n",
       "  </tbody>\n",
       "</table>\n",
       "<p>8931 rows × 10 columns</p>\n",
       "</div>"
      ],
      "text/plain": [
       "         Locality    Price  Bedrooms  Living area    Kitchen type  Furnished  \\\n",
       "0       bruxelles   500000         2           90    not equipped          0   \n",
       "1          oupeye    84000         1           89    not equipped          1   \n",
       "2          laeken   475000         3          163  super-equipped          0   \n",
       "3       boutersem   425000         5          190   semi-equipped          0   \n",
       "4         ixelles  2700000         5          557  super-equipped          0   \n",
       "...           ...      ...       ...          ...             ...        ...   \n",
       "9862     westende    77500         0           24    not equipped          0   \n",
       "9945       leuven   147000         0           21   semi-equipped          0   \n",
       "9969     nivelles    90000         0           24   semi-equipped          0   \n",
       "9976   schaerbeek   185000         0           53  super-equipped          0   \n",
       "9990  middelkerke   135000         0           30        equipped          0   \n",
       "\n",
       "      Terrace surface  Garden surface  Swimming pool Type of property  \n",
       "0                  12               0              0        apartment  \n",
       "1                   0             125              0            house  \n",
       "2                   8               0              0           duplex  \n",
       "3                   0               0              0            house  \n",
       "4                  50              60              0           duplex  \n",
       "...               ...             ...            ...              ...  \n",
       "9862                0               0              0      flat-studio  \n",
       "9945                0               0              0      flat-studio  \n",
       "9969                0               0              0      flat-studio  \n",
       "9976                4               0              0      flat-studio  \n",
       "9990               28               0              0      flat-studio  \n",
       "\n",
       "[8931 rows x 10 columns]"
      ]
     },
     "execution_count": 60,
     "metadata": {},
     "output_type": "execute_result"
    }
   ],
   "source": [
    "df"
   ]
  },
  {
   "cell_type": "markdown",
   "metadata": {},
   "source": [
    "### Create \"other\" in \"Locality\""
   ]
  },
  {
   "cell_type": "code",
   "execution_count": 61,
   "metadata": {},
   "outputs": [],
   "source": [
    "df_large = df.groupby(\"Locality\").filter(lambda x: len(x)>=10)\n",
    "df_small = df.groupby(\"Locality\").filter(lambda x: len(x)<10)\n",
    "df_small[\"Locality\"] = \"other\"\n",
    "df_localities = pd.concat([df_large, df_small])"
   ]
  },
  {
   "cell_type": "code",
   "execution_count": 62,
   "metadata": {},
   "outputs": [
    {
     "data": {
      "text/html": [
       "<div>\n",
       "<style scoped>\n",
       "    .dataframe tbody tr th:only-of-type {\n",
       "        vertical-align: middle;\n",
       "    }\n",
       "\n",
       "    .dataframe tbody tr th {\n",
       "        vertical-align: top;\n",
       "    }\n",
       "\n",
       "    .dataframe thead th {\n",
       "        text-align: right;\n",
       "    }\n",
       "</style>\n",
       "<table border=\"1\" class=\"dataframe\">\n",
       "  <thead>\n",
       "    <tr style=\"text-align: right;\">\n",
       "      <th></th>\n",
       "      <th>Locality</th>\n",
       "      <th>Price</th>\n",
       "      <th>Bedrooms</th>\n",
       "      <th>Living area</th>\n",
       "      <th>Kitchen type</th>\n",
       "      <th>Furnished</th>\n",
       "      <th>Terrace surface</th>\n",
       "      <th>Garden surface</th>\n",
       "      <th>Swimming pool</th>\n",
       "      <th>Type of property</th>\n",
       "    </tr>\n",
       "  </thead>\n",
       "  <tbody>\n",
       "    <tr>\n",
       "      <th>0</th>\n",
       "      <td>bruxelles</td>\n",
       "      <td>500000</td>\n",
       "      <td>2</td>\n",
       "      <td>90</td>\n",
       "      <td>not equipped</td>\n",
       "      <td>0</td>\n",
       "      <td>12</td>\n",
       "      <td>0</td>\n",
       "      <td>0</td>\n",
       "      <td>apartment</td>\n",
       "    </tr>\n",
       "    <tr>\n",
       "      <th>1</th>\n",
       "      <td>oupeye</td>\n",
       "      <td>84000</td>\n",
       "      <td>1</td>\n",
       "      <td>89</td>\n",
       "      <td>not equipped</td>\n",
       "      <td>1</td>\n",
       "      <td>0</td>\n",
       "      <td>125</td>\n",
       "      <td>0</td>\n",
       "      <td>house</td>\n",
       "    </tr>\n",
       "    <tr>\n",
       "      <th>2</th>\n",
       "      <td>laeken</td>\n",
       "      <td>475000</td>\n",
       "      <td>3</td>\n",
       "      <td>163</td>\n",
       "      <td>super-equipped</td>\n",
       "      <td>0</td>\n",
       "      <td>8</td>\n",
       "      <td>0</td>\n",
       "      <td>0</td>\n",
       "      <td>duplex</td>\n",
       "    </tr>\n",
       "    <tr>\n",
       "      <th>4</th>\n",
       "      <td>ixelles</td>\n",
       "      <td>2700000</td>\n",
       "      <td>5</td>\n",
       "      <td>557</td>\n",
       "      <td>super-equipped</td>\n",
       "      <td>0</td>\n",
       "      <td>50</td>\n",
       "      <td>60</td>\n",
       "      <td>0</td>\n",
       "      <td>duplex</td>\n",
       "    </tr>\n",
       "    <tr>\n",
       "      <th>6</th>\n",
       "      <td>bruxelles</td>\n",
       "      <td>450000</td>\n",
       "      <td>2</td>\n",
       "      <td>125</td>\n",
       "      <td>super-equipped</td>\n",
       "      <td>0</td>\n",
       "      <td>10</td>\n",
       "      <td>0</td>\n",
       "      <td>0</td>\n",
       "      <td>apartment</td>\n",
       "    </tr>\n",
       "    <tr>\n",
       "      <th>...</th>\n",
       "      <td>...</td>\n",
       "      <td>...</td>\n",
       "      <td>...</td>\n",
       "      <td>...</td>\n",
       "      <td>...</td>\n",
       "      <td>...</td>\n",
       "      <td>...</td>\n",
       "      <td>...</td>\n",
       "      <td>...</td>\n",
       "      <td>...</td>\n",
       "    </tr>\n",
       "    <tr>\n",
       "      <th>4824</th>\n",
       "      <td>other</td>\n",
       "      <td>123000</td>\n",
       "      <td>0</td>\n",
       "      <td>38</td>\n",
       "      <td>not equipped</td>\n",
       "      <td>1</td>\n",
       "      <td>0</td>\n",
       "      <td>0</td>\n",
       "      <td>0</td>\n",
       "      <td>flat-studio</td>\n",
       "    </tr>\n",
       "    <tr>\n",
       "      <th>6762</th>\n",
       "      <td>other</td>\n",
       "      <td>122000</td>\n",
       "      <td>0</td>\n",
       "      <td>35</td>\n",
       "      <td>equipped</td>\n",
       "      <td>0</td>\n",
       "      <td>6</td>\n",
       "      <td>0</td>\n",
       "      <td>0</td>\n",
       "      <td>flat-studio</td>\n",
       "    </tr>\n",
       "    <tr>\n",
       "      <th>8694</th>\n",
       "      <td>other</td>\n",
       "      <td>249000</td>\n",
       "      <td>0</td>\n",
       "      <td>31</td>\n",
       "      <td>equipped</td>\n",
       "      <td>1</td>\n",
       "      <td>70</td>\n",
       "      <td>0</td>\n",
       "      <td>0</td>\n",
       "      <td>flat-studio</td>\n",
       "    </tr>\n",
       "    <tr>\n",
       "      <th>8932</th>\n",
       "      <td>other</td>\n",
       "      <td>155000</td>\n",
       "      <td>0</td>\n",
       "      <td>32</td>\n",
       "      <td>equipped</td>\n",
       "      <td>0</td>\n",
       "      <td>0</td>\n",
       "      <td>0</td>\n",
       "      <td>0</td>\n",
       "      <td>flat-studio</td>\n",
       "    </tr>\n",
       "    <tr>\n",
       "      <th>9799</th>\n",
       "      <td>other</td>\n",
       "      <td>125000</td>\n",
       "      <td>0</td>\n",
       "      <td>30</td>\n",
       "      <td>semi-equipped</td>\n",
       "      <td>0</td>\n",
       "      <td>10</td>\n",
       "      <td>0</td>\n",
       "      <td>0</td>\n",
       "      <td>flat-studio</td>\n",
       "    </tr>\n",
       "  </tbody>\n",
       "</table>\n",
       "<p>8931 rows × 10 columns</p>\n",
       "</div>"
      ],
      "text/plain": [
       "       Locality    Price  Bedrooms  Living area    Kitchen type  Furnished  \\\n",
       "0     bruxelles   500000         2           90    not equipped          0   \n",
       "1        oupeye    84000         1           89    not equipped          1   \n",
       "2        laeken   475000         3          163  super-equipped          0   \n",
       "4       ixelles  2700000         5          557  super-equipped          0   \n",
       "6     bruxelles   450000         2          125  super-equipped          0   \n",
       "...         ...      ...       ...          ...             ...        ...   \n",
       "4824      other   123000         0           38    not equipped          1   \n",
       "6762      other   122000         0           35        equipped          0   \n",
       "8694      other   249000         0           31        equipped          1   \n",
       "8932      other   155000         0           32        equipped          0   \n",
       "9799      other   125000         0           30   semi-equipped          0   \n",
       "\n",
       "      Terrace surface  Garden surface  Swimming pool Type of property  \n",
       "0                  12               0              0        apartment  \n",
       "1                   0             125              0            house  \n",
       "2                   8               0              0           duplex  \n",
       "4                  50              60              0           duplex  \n",
       "6                  10               0              0        apartment  \n",
       "...               ...             ...            ...              ...  \n",
       "4824                0               0              0      flat-studio  \n",
       "6762                6               0              0      flat-studio  \n",
       "8694               70               0              0      flat-studio  \n",
       "8932                0               0              0      flat-studio  \n",
       "9799               10               0              0      flat-studio  \n",
       "\n",
       "[8931 rows x 10 columns]"
      ]
     },
     "execution_count": 62,
     "metadata": {},
     "output_type": "execute_result"
    }
   ],
   "source": [
    "df_localities"
   ]
  },
  {
   "cell_type": "markdown",
   "metadata": {},
   "source": [
    "### Convert \"Locality\" and \"Kitchen type\" to numerical values"
   ]
  },
  {
   "cell_type": "code",
   "execution_count": 63,
   "metadata": {},
   "outputs": [],
   "source": [
    "locality = pd.get_dummies(df_localities[\"Locality\"])\n",
    "kitchen = pd.get_dummies(df_localities[\"Kitchen type\"])\n",
    "df_dummies = pd.concat([df_localities, kitchen, locality], axis=1)"
   ]
  },
  {
   "cell_type": "code",
   "execution_count": 64,
   "metadata": {},
   "outputs": [
    {
     "data": {
      "text/html": [
       "<div>\n",
       "<style scoped>\n",
       "    .dataframe tbody tr th:only-of-type {\n",
       "        vertical-align: middle;\n",
       "    }\n",
       "\n",
       "    .dataframe tbody tr th {\n",
       "        vertical-align: top;\n",
       "    }\n",
       "\n",
       "    .dataframe thead th {\n",
       "        text-align: right;\n",
       "    }\n",
       "</style>\n",
       "<table border=\"1\" class=\"dataframe\">\n",
       "  <thead>\n",
       "    <tr style=\"text-align: right;\">\n",
       "      <th></th>\n",
       "      <th>Locality</th>\n",
       "      <th>Price</th>\n",
       "      <th>Bedrooms</th>\n",
       "      <th>Living area</th>\n",
       "      <th>Kitchen type</th>\n",
       "      <th>Furnished</th>\n",
       "      <th>Terrace surface</th>\n",
       "      <th>Garden surface</th>\n",
       "      <th>Swimming pool</th>\n",
       "      <th>Type of property</th>\n",
       "      <th>...</th>\n",
       "      <th>wezembeek-oppem</th>\n",
       "      <th>wielsbeke</th>\n",
       "      <th>willebroek</th>\n",
       "      <th>woluwe-saint-lambert</th>\n",
       "      <th>woluwe-saint-pierre</th>\n",
       "      <th>wondelgem</th>\n",
       "      <th>zaventem</th>\n",
       "      <th>zele</th>\n",
       "      <th>zottegem</th>\n",
       "      <th>zwijnaarde</th>\n",
       "    </tr>\n",
       "  </thead>\n",
       "  <tbody>\n",
       "    <tr>\n",
       "      <th>0</th>\n",
       "      <td>bruxelles</td>\n",
       "      <td>500000</td>\n",
       "      <td>2</td>\n",
       "      <td>90</td>\n",
       "      <td>not equipped</td>\n",
       "      <td>0</td>\n",
       "      <td>12</td>\n",
       "      <td>0</td>\n",
       "      <td>0</td>\n",
       "      <td>apartment</td>\n",
       "      <td>...</td>\n",
       "      <td>0</td>\n",
       "      <td>0</td>\n",
       "      <td>0</td>\n",
       "      <td>0</td>\n",
       "      <td>0</td>\n",
       "      <td>0</td>\n",
       "      <td>0</td>\n",
       "      <td>0</td>\n",
       "      <td>0</td>\n",
       "      <td>0</td>\n",
       "    </tr>\n",
       "    <tr>\n",
       "      <th>1</th>\n",
       "      <td>oupeye</td>\n",
       "      <td>84000</td>\n",
       "      <td>1</td>\n",
       "      <td>89</td>\n",
       "      <td>not equipped</td>\n",
       "      <td>1</td>\n",
       "      <td>0</td>\n",
       "      <td>125</td>\n",
       "      <td>0</td>\n",
       "      <td>house</td>\n",
       "      <td>...</td>\n",
       "      <td>0</td>\n",
       "      <td>0</td>\n",
       "      <td>0</td>\n",
       "      <td>0</td>\n",
       "      <td>0</td>\n",
       "      <td>0</td>\n",
       "      <td>0</td>\n",
       "      <td>0</td>\n",
       "      <td>0</td>\n",
       "      <td>0</td>\n",
       "    </tr>\n",
       "    <tr>\n",
       "      <th>2</th>\n",
       "      <td>laeken</td>\n",
       "      <td>475000</td>\n",
       "      <td>3</td>\n",
       "      <td>163</td>\n",
       "      <td>super-equipped</td>\n",
       "      <td>0</td>\n",
       "      <td>8</td>\n",
       "      <td>0</td>\n",
       "      <td>0</td>\n",
       "      <td>duplex</td>\n",
       "      <td>...</td>\n",
       "      <td>0</td>\n",
       "      <td>0</td>\n",
       "      <td>0</td>\n",
       "      <td>0</td>\n",
       "      <td>0</td>\n",
       "      <td>0</td>\n",
       "      <td>0</td>\n",
       "      <td>0</td>\n",
       "      <td>0</td>\n",
       "      <td>0</td>\n",
       "    </tr>\n",
       "    <tr>\n",
       "      <th>4</th>\n",
       "      <td>ixelles</td>\n",
       "      <td>2700000</td>\n",
       "      <td>5</td>\n",
       "      <td>557</td>\n",
       "      <td>super-equipped</td>\n",
       "      <td>0</td>\n",
       "      <td>50</td>\n",
       "      <td>60</td>\n",
       "      <td>0</td>\n",
       "      <td>duplex</td>\n",
       "      <td>...</td>\n",
       "      <td>0</td>\n",
       "      <td>0</td>\n",
       "      <td>0</td>\n",
       "      <td>0</td>\n",
       "      <td>0</td>\n",
       "      <td>0</td>\n",
       "      <td>0</td>\n",
       "      <td>0</td>\n",
       "      <td>0</td>\n",
       "      <td>0</td>\n",
       "    </tr>\n",
       "    <tr>\n",
       "      <th>6</th>\n",
       "      <td>bruxelles</td>\n",
       "      <td>450000</td>\n",
       "      <td>2</td>\n",
       "      <td>125</td>\n",
       "      <td>super-equipped</td>\n",
       "      <td>0</td>\n",
       "      <td>10</td>\n",
       "      <td>0</td>\n",
       "      <td>0</td>\n",
       "      <td>apartment</td>\n",
       "      <td>...</td>\n",
       "      <td>0</td>\n",
       "      <td>0</td>\n",
       "      <td>0</td>\n",
       "      <td>0</td>\n",
       "      <td>0</td>\n",
       "      <td>0</td>\n",
       "      <td>0</td>\n",
       "      <td>0</td>\n",
       "      <td>0</td>\n",
       "      <td>0</td>\n",
       "    </tr>\n",
       "    <tr>\n",
       "      <th>...</th>\n",
       "      <td>...</td>\n",
       "      <td>...</td>\n",
       "      <td>...</td>\n",
       "      <td>...</td>\n",
       "      <td>...</td>\n",
       "      <td>...</td>\n",
       "      <td>...</td>\n",
       "      <td>...</td>\n",
       "      <td>...</td>\n",
       "      <td>...</td>\n",
       "      <td>...</td>\n",
       "      <td>...</td>\n",
       "      <td>...</td>\n",
       "      <td>...</td>\n",
       "      <td>...</td>\n",
       "      <td>...</td>\n",
       "      <td>...</td>\n",
       "      <td>...</td>\n",
       "      <td>...</td>\n",
       "      <td>...</td>\n",
       "      <td>...</td>\n",
       "    </tr>\n",
       "    <tr>\n",
       "      <th>4824</th>\n",
       "      <td>other</td>\n",
       "      <td>123000</td>\n",
       "      <td>0</td>\n",
       "      <td>38</td>\n",
       "      <td>not equipped</td>\n",
       "      <td>1</td>\n",
       "      <td>0</td>\n",
       "      <td>0</td>\n",
       "      <td>0</td>\n",
       "      <td>flat-studio</td>\n",
       "      <td>...</td>\n",
       "      <td>0</td>\n",
       "      <td>0</td>\n",
       "      <td>0</td>\n",
       "      <td>0</td>\n",
       "      <td>0</td>\n",
       "      <td>0</td>\n",
       "      <td>0</td>\n",
       "      <td>0</td>\n",
       "      <td>0</td>\n",
       "      <td>0</td>\n",
       "    </tr>\n",
       "    <tr>\n",
       "      <th>6762</th>\n",
       "      <td>other</td>\n",
       "      <td>122000</td>\n",
       "      <td>0</td>\n",
       "      <td>35</td>\n",
       "      <td>equipped</td>\n",
       "      <td>0</td>\n",
       "      <td>6</td>\n",
       "      <td>0</td>\n",
       "      <td>0</td>\n",
       "      <td>flat-studio</td>\n",
       "      <td>...</td>\n",
       "      <td>0</td>\n",
       "      <td>0</td>\n",
       "      <td>0</td>\n",
       "      <td>0</td>\n",
       "      <td>0</td>\n",
       "      <td>0</td>\n",
       "      <td>0</td>\n",
       "      <td>0</td>\n",
       "      <td>0</td>\n",
       "      <td>0</td>\n",
       "    </tr>\n",
       "    <tr>\n",
       "      <th>8694</th>\n",
       "      <td>other</td>\n",
       "      <td>249000</td>\n",
       "      <td>0</td>\n",
       "      <td>31</td>\n",
       "      <td>equipped</td>\n",
       "      <td>1</td>\n",
       "      <td>70</td>\n",
       "      <td>0</td>\n",
       "      <td>0</td>\n",
       "      <td>flat-studio</td>\n",
       "      <td>...</td>\n",
       "      <td>0</td>\n",
       "      <td>0</td>\n",
       "      <td>0</td>\n",
       "      <td>0</td>\n",
       "      <td>0</td>\n",
       "      <td>0</td>\n",
       "      <td>0</td>\n",
       "      <td>0</td>\n",
       "      <td>0</td>\n",
       "      <td>0</td>\n",
       "    </tr>\n",
       "    <tr>\n",
       "      <th>8932</th>\n",
       "      <td>other</td>\n",
       "      <td>155000</td>\n",
       "      <td>0</td>\n",
       "      <td>32</td>\n",
       "      <td>equipped</td>\n",
       "      <td>0</td>\n",
       "      <td>0</td>\n",
       "      <td>0</td>\n",
       "      <td>0</td>\n",
       "      <td>flat-studio</td>\n",
       "      <td>...</td>\n",
       "      <td>0</td>\n",
       "      <td>0</td>\n",
       "      <td>0</td>\n",
       "      <td>0</td>\n",
       "      <td>0</td>\n",
       "      <td>0</td>\n",
       "      <td>0</td>\n",
       "      <td>0</td>\n",
       "      <td>0</td>\n",
       "      <td>0</td>\n",
       "    </tr>\n",
       "    <tr>\n",
       "      <th>9799</th>\n",
       "      <td>other</td>\n",
       "      <td>125000</td>\n",
       "      <td>0</td>\n",
       "      <td>30</td>\n",
       "      <td>semi-equipped</td>\n",
       "      <td>0</td>\n",
       "      <td>10</td>\n",
       "      <td>0</td>\n",
       "      <td>0</td>\n",
       "      <td>flat-studio</td>\n",
       "      <td>...</td>\n",
       "      <td>0</td>\n",
       "      <td>0</td>\n",
       "      <td>0</td>\n",
       "      <td>0</td>\n",
       "      <td>0</td>\n",
       "      <td>0</td>\n",
       "      <td>0</td>\n",
       "      <td>0</td>\n",
       "      <td>0</td>\n",
       "      <td>0</td>\n",
       "    </tr>\n",
       "  </tbody>\n",
       "</table>\n",
       "<p>8931 rows × 192 columns</p>\n",
       "</div>"
      ],
      "text/plain": [
       "       Locality    Price  Bedrooms  Living area    Kitchen type  Furnished  \\\n",
       "0     bruxelles   500000         2           90    not equipped          0   \n",
       "1        oupeye    84000         1           89    not equipped          1   \n",
       "2        laeken   475000         3          163  super-equipped          0   \n",
       "4       ixelles  2700000         5          557  super-equipped          0   \n",
       "6     bruxelles   450000         2          125  super-equipped          0   \n",
       "...         ...      ...       ...          ...             ...        ...   \n",
       "4824      other   123000         0           38    not equipped          1   \n",
       "6762      other   122000         0           35        equipped          0   \n",
       "8694      other   249000         0           31        equipped          1   \n",
       "8932      other   155000         0           32        equipped          0   \n",
       "9799      other   125000         0           30   semi-equipped          0   \n",
       "\n",
       "      Terrace surface  Garden surface  Swimming pool Type of property  ...  \\\n",
       "0                  12               0              0        apartment  ...   \n",
       "1                   0             125              0            house  ...   \n",
       "2                   8               0              0           duplex  ...   \n",
       "4                  50              60              0           duplex  ...   \n",
       "6                  10               0              0        apartment  ...   \n",
       "...               ...             ...            ...              ...  ...   \n",
       "4824                0               0              0      flat-studio  ...   \n",
       "6762                6               0              0      flat-studio  ...   \n",
       "8694               70               0              0      flat-studio  ...   \n",
       "8932                0               0              0      flat-studio  ...   \n",
       "9799               10               0              0      flat-studio  ...   \n",
       "\n",
       "      wezembeek-oppem  wielsbeke  willebroek  woluwe-saint-lambert  \\\n",
       "0                   0          0           0                     0   \n",
       "1                   0          0           0                     0   \n",
       "2                   0          0           0                     0   \n",
       "4                   0          0           0                     0   \n",
       "6                   0          0           0                     0   \n",
       "...               ...        ...         ...                   ...   \n",
       "4824                0          0           0                     0   \n",
       "6762                0          0           0                     0   \n",
       "8694                0          0           0                     0   \n",
       "8932                0          0           0                     0   \n",
       "9799                0          0           0                     0   \n",
       "\n",
       "      woluwe-saint-pierre  wondelgem  zaventem  zele  zottegem  zwijnaarde  \n",
       "0                       0          0         0     0         0           0  \n",
       "1                       0          0         0     0         0           0  \n",
       "2                       0          0         0     0         0           0  \n",
       "4                       0          0         0     0         0           0  \n",
       "6                       0          0         0     0         0           0  \n",
       "...                   ...        ...       ...   ...       ...         ...  \n",
       "4824                    0          0         0     0         0           0  \n",
       "6762                    0          0         0     0         0           0  \n",
       "8694                    0          0         0     0         0           0  \n",
       "8932                    0          0         0     0         0           0  \n",
       "9799                    0          0         0     0         0           0  \n",
       "\n",
       "[8931 rows x 192 columns]"
      ]
     },
     "execution_count": 64,
     "metadata": {},
     "output_type": "execute_result"
    }
   ],
   "source": [
    "df_dummies"
   ]
  },
  {
   "cell_type": "code",
   "execution_count": 65,
   "metadata": {},
   "outputs": [
    {
     "data": {
      "text/html": [
       "<div>\n",
       "<style scoped>\n",
       "    .dataframe tbody tr th:only-of-type {\n",
       "        vertical-align: middle;\n",
       "    }\n",
       "\n",
       "    .dataframe tbody tr th {\n",
       "        vertical-align: top;\n",
       "    }\n",
       "\n",
       "    .dataframe thead th {\n",
       "        text-align: right;\n",
       "    }\n",
       "</style>\n",
       "<table border=\"1\" class=\"dataframe\">\n",
       "  <thead>\n",
       "    <tr style=\"text-align: right;\">\n",
       "      <th></th>\n",
       "      <th>Price</th>\n",
       "      <th>Bedrooms</th>\n",
       "      <th>Living area</th>\n",
       "      <th>Furnished</th>\n",
       "      <th>Terrace surface</th>\n",
       "      <th>Garden surface</th>\n",
       "      <th>Swimming pool</th>\n",
       "      <th>equipped</th>\n",
       "      <th>not equipped</th>\n",
       "      <th>semi-equipped</th>\n",
       "      <th>...</th>\n",
       "      <th>wezembeek-oppem</th>\n",
       "      <th>wielsbeke</th>\n",
       "      <th>willebroek</th>\n",
       "      <th>woluwe-saint-lambert</th>\n",
       "      <th>woluwe-saint-pierre</th>\n",
       "      <th>wondelgem</th>\n",
       "      <th>zaventem</th>\n",
       "      <th>zele</th>\n",
       "      <th>zottegem</th>\n",
       "      <th>zwijnaarde</th>\n",
       "    </tr>\n",
       "  </thead>\n",
       "  <tbody>\n",
       "    <tr>\n",
       "      <th>Price</th>\n",
       "      <td>1.000000</td>\n",
       "      <td>0.416134</td>\n",
       "      <td>0.593956</td>\n",
       "      <td>-0.000367</td>\n",
       "      <td>0.137697</td>\n",
       "      <td>0.128988</td>\n",
       "      <td>0.285778</td>\n",
       "      <td>-0.085724</td>\n",
       "      <td>-0.051716</td>\n",
       "      <td>-0.121347</td>\n",
       "      <td>...</td>\n",
       "      <td>0.037728</td>\n",
       "      <td>0.007906</td>\n",
       "      <td>-0.015614</td>\n",
       "      <td>0.006388</td>\n",
       "      <td>0.123757</td>\n",
       "      <td>-0.007758</td>\n",
       "      <td>0.004591</td>\n",
       "      <td>-0.003834</td>\n",
       "      <td>-0.014448</td>\n",
       "      <td>-0.008587</td>\n",
       "    </tr>\n",
       "    <tr>\n",
       "      <th>Bedrooms</th>\n",
       "      <td>0.416134</td>\n",
       "      <td>1.000000</td>\n",
       "      <td>0.690171</td>\n",
       "      <td>-0.050975</td>\n",
       "      <td>0.082894</td>\n",
       "      <td>0.099653</td>\n",
       "      <td>0.117941</td>\n",
       "      <td>-0.026691</td>\n",
       "      <td>0.038424</td>\n",
       "      <td>0.012551</td>\n",
       "      <td>...</td>\n",
       "      <td>0.016512</td>\n",
       "      <td>0.016129</td>\n",
       "      <td>-0.014446</td>\n",
       "      <td>-0.025670</td>\n",
       "      <td>0.038975</td>\n",
       "      <td>-0.009715</td>\n",
       "      <td>0.005488</td>\n",
       "      <td>0.008394</td>\n",
       "      <td>-0.015680</td>\n",
       "      <td>-0.037221</td>\n",
       "    </tr>\n",
       "    <tr>\n",
       "      <th>Living area</th>\n",
       "      <td>0.593956</td>\n",
       "      <td>0.690171</td>\n",
       "      <td>1.000000</td>\n",
       "      <td>-0.044846</td>\n",
       "      <td>0.098867</td>\n",
       "      <td>0.177388</td>\n",
       "      <td>0.220232</td>\n",
       "      <td>-0.032271</td>\n",
       "      <td>0.019984</td>\n",
       "      <td>-0.029471</td>\n",
       "      <td>...</td>\n",
       "      <td>0.009985</td>\n",
       "      <td>0.019230</td>\n",
       "      <td>-0.017349</td>\n",
       "      <td>-0.032013</td>\n",
       "      <td>0.042835</td>\n",
       "      <td>-0.011620</td>\n",
       "      <td>0.004053</td>\n",
       "      <td>0.010550</td>\n",
       "      <td>-0.008827</td>\n",
       "      <td>-0.024900</td>\n",
       "    </tr>\n",
       "    <tr>\n",
       "      <th>Furnished</th>\n",
       "      <td>-0.000367</td>\n",
       "      <td>-0.050975</td>\n",
       "      <td>-0.044846</td>\n",
       "      <td>1.000000</td>\n",
       "      <td>-0.022864</td>\n",
       "      <td>-0.008018</td>\n",
       "      <td>-0.002550</td>\n",
       "      <td>0.007540</td>\n",
       "      <td>-0.018797</td>\n",
       "      <td>-0.044455</td>\n",
       "      <td>...</td>\n",
       "      <td>-0.008185</td>\n",
       "      <td>-0.006681</td>\n",
       "      <td>0.000047</td>\n",
       "      <td>-0.001169</td>\n",
       "      <td>-0.021765</td>\n",
       "      <td>-0.006681</td>\n",
       "      <td>-0.007619</td>\n",
       "      <td>-0.008185</td>\n",
       "      <td>-0.010782</td>\n",
       "      <td>-0.009916</td>\n",
       "    </tr>\n",
       "    <tr>\n",
       "      <th>Terrace surface</th>\n",
       "      <td>0.137697</td>\n",
       "      <td>0.082894</td>\n",
       "      <td>0.098867</td>\n",
       "      <td>-0.022864</td>\n",
       "      <td>1.000000</td>\n",
       "      <td>0.029728</td>\n",
       "      <td>0.072398</td>\n",
       "      <td>-0.014917</td>\n",
       "      <td>-0.020145</td>\n",
       "      <td>-0.041716</td>\n",
       "      <td>...</td>\n",
       "      <td>0.006259</td>\n",
       "      <td>-0.010368</td>\n",
       "      <td>0.000560</td>\n",
       "      <td>-0.003937</td>\n",
       "      <td>0.021171</td>\n",
       "      <td>-0.008452</td>\n",
       "      <td>0.006990</td>\n",
       "      <td>0.000962</td>\n",
       "      <td>-0.001636</td>\n",
       "      <td>0.008776</td>\n",
       "    </tr>\n",
       "    <tr>\n",
       "      <th>...</th>\n",
       "      <td>...</td>\n",
       "      <td>...</td>\n",
       "      <td>...</td>\n",
       "      <td>...</td>\n",
       "      <td>...</td>\n",
       "      <td>...</td>\n",
       "      <td>...</td>\n",
       "      <td>...</td>\n",
       "      <td>...</td>\n",
       "      <td>...</td>\n",
       "      <td>...</td>\n",
       "      <td>...</td>\n",
       "      <td>...</td>\n",
       "      <td>...</td>\n",
       "      <td>...</td>\n",
       "      <td>...</td>\n",
       "      <td>...</td>\n",
       "      <td>...</td>\n",
       "      <td>...</td>\n",
       "      <td>...</td>\n",
       "      <td>...</td>\n",
       "    </tr>\n",
       "    <tr>\n",
       "      <th>wondelgem</th>\n",
       "      <td>-0.007758</td>\n",
       "      <td>-0.009715</td>\n",
       "      <td>-0.011620</td>\n",
       "      <td>-0.006681</td>\n",
       "      <td>-0.008452</td>\n",
       "      <td>-0.002563</td>\n",
       "      <td>-0.005728</td>\n",
       "      <td>0.027367</td>\n",
       "      <td>-0.015992</td>\n",
       "      <td>0.007372</td>\n",
       "      <td>...</td>\n",
       "      <td>-0.001373</td>\n",
       "      <td>-0.001121</td>\n",
       "      <td>-0.001809</td>\n",
       "      <td>-0.004179</td>\n",
       "      <td>-0.003652</td>\n",
       "      <td>1.000000</td>\n",
       "      <td>-0.001278</td>\n",
       "      <td>-0.001373</td>\n",
       "      <td>-0.001809</td>\n",
       "      <td>-0.001664</td>\n",
       "    </tr>\n",
       "    <tr>\n",
       "      <th>zaventem</th>\n",
       "      <td>0.004591</td>\n",
       "      <td>0.005488</td>\n",
       "      <td>0.004053</td>\n",
       "      <td>-0.007619</td>\n",
       "      <td>0.006990</td>\n",
       "      <td>-0.000595</td>\n",
       "      <td>-0.006532</td>\n",
       "      <td>-0.025153</td>\n",
       "      <td>-0.010684</td>\n",
       "      <td>0.003110</td>\n",
       "      <td>...</td>\n",
       "      <td>-0.001566</td>\n",
       "      <td>-0.001278</td>\n",
       "      <td>-0.002063</td>\n",
       "      <td>-0.004765</td>\n",
       "      <td>-0.004164</td>\n",
       "      <td>-0.001278</td>\n",
       "      <td>1.000000</td>\n",
       "      <td>-0.001566</td>\n",
       "      <td>-0.002063</td>\n",
       "      <td>-0.001897</td>\n",
       "    </tr>\n",
       "    <tr>\n",
       "      <th>zele</th>\n",
       "      <td>-0.003834</td>\n",
       "      <td>0.008394</td>\n",
       "      <td>0.010550</td>\n",
       "      <td>-0.008185</td>\n",
       "      <td>0.000962</td>\n",
       "      <td>-0.001488</td>\n",
       "      <td>0.009432</td>\n",
       "      <td>0.011197</td>\n",
       "      <td>0.001502</td>\n",
       "      <td>-0.015627</td>\n",
       "      <td>...</td>\n",
       "      <td>-0.001682</td>\n",
       "      <td>-0.001373</td>\n",
       "      <td>-0.002216</td>\n",
       "      <td>-0.005120</td>\n",
       "      <td>-0.004474</td>\n",
       "      <td>-0.001373</td>\n",
       "      <td>-0.001566</td>\n",
       "      <td>1.000000</td>\n",
       "      <td>-0.002216</td>\n",
       "      <td>-0.002038</td>\n",
       "    </tr>\n",
       "    <tr>\n",
       "      <th>zottegem</th>\n",
       "      <td>-0.014448</td>\n",
       "      <td>-0.015680</td>\n",
       "      <td>-0.008827</td>\n",
       "      <td>-0.010782</td>\n",
       "      <td>-0.001636</td>\n",
       "      <td>-0.004198</td>\n",
       "      <td>-0.009245</td>\n",
       "      <td>-0.018627</td>\n",
       "      <td>-0.015121</td>\n",
       "      <td>-0.001846</td>\n",
       "      <td>...</td>\n",
       "      <td>-0.002216</td>\n",
       "      <td>-0.001809</td>\n",
       "      <td>-0.002920</td>\n",
       "      <td>-0.006744</td>\n",
       "      <td>-0.005894</td>\n",
       "      <td>-0.001809</td>\n",
       "      <td>-0.002063</td>\n",
       "      <td>-0.002216</td>\n",
       "      <td>1.000000</td>\n",
       "      <td>-0.002685</td>\n",
       "    </tr>\n",
       "    <tr>\n",
       "      <th>zwijnaarde</th>\n",
       "      <td>-0.008587</td>\n",
       "      <td>-0.037221</td>\n",
       "      <td>-0.024900</td>\n",
       "      <td>-0.009916</td>\n",
       "      <td>0.008776</td>\n",
       "      <td>-0.003861</td>\n",
       "      <td>-0.008502</td>\n",
       "      <td>-0.035931</td>\n",
       "      <td>0.080808</td>\n",
       "      <td>-0.012143</td>\n",
       "      <td>...</td>\n",
       "      <td>-0.002038</td>\n",
       "      <td>-0.001664</td>\n",
       "      <td>-0.002685</td>\n",
       "      <td>-0.006202</td>\n",
       "      <td>-0.005420</td>\n",
       "      <td>-0.001664</td>\n",
       "      <td>-0.001897</td>\n",
       "      <td>-0.002038</td>\n",
       "      <td>-0.002685</td>\n",
       "      <td>1.000000</td>\n",
       "    </tr>\n",
       "  </tbody>\n",
       "</table>\n",
       "<p>189 rows × 189 columns</p>\n",
       "</div>"
      ],
      "text/plain": [
       "                    Price  Bedrooms  Living area  Furnished  Terrace surface  \\\n",
       "Price            1.000000  0.416134     0.593956  -0.000367         0.137697   \n",
       "Bedrooms         0.416134  1.000000     0.690171  -0.050975         0.082894   \n",
       "Living area      0.593956  0.690171     1.000000  -0.044846         0.098867   \n",
       "Furnished       -0.000367 -0.050975    -0.044846   1.000000        -0.022864   \n",
       "Terrace surface  0.137697  0.082894     0.098867  -0.022864         1.000000   \n",
       "...                   ...       ...          ...        ...              ...   \n",
       "wondelgem       -0.007758 -0.009715    -0.011620  -0.006681        -0.008452   \n",
       "zaventem         0.004591  0.005488     0.004053  -0.007619         0.006990   \n",
       "zele            -0.003834  0.008394     0.010550  -0.008185         0.000962   \n",
       "zottegem        -0.014448 -0.015680    -0.008827  -0.010782        -0.001636   \n",
       "zwijnaarde      -0.008587 -0.037221    -0.024900  -0.009916         0.008776   \n",
       "\n",
       "                 Garden surface  Swimming pool  equipped  not equipped  \\\n",
       "Price                  0.128988       0.285778 -0.085724     -0.051716   \n",
       "Bedrooms               0.099653       0.117941 -0.026691      0.038424   \n",
       "Living area            0.177388       0.220232 -0.032271      0.019984   \n",
       "Furnished             -0.008018      -0.002550  0.007540     -0.018797   \n",
       "Terrace surface        0.029728       0.072398 -0.014917     -0.020145   \n",
       "...                         ...            ...       ...           ...   \n",
       "wondelgem             -0.002563      -0.005728  0.027367     -0.015992   \n",
       "zaventem              -0.000595      -0.006532 -0.025153     -0.010684   \n",
       "zele                  -0.001488       0.009432  0.011197      0.001502   \n",
       "zottegem              -0.004198      -0.009245 -0.018627     -0.015121   \n",
       "zwijnaarde            -0.003861      -0.008502 -0.035931      0.080808   \n",
       "\n",
       "                 semi-equipped  ...  wezembeek-oppem  wielsbeke  willebroek  \\\n",
       "Price                -0.121347  ...         0.037728   0.007906   -0.015614   \n",
       "Bedrooms              0.012551  ...         0.016512   0.016129   -0.014446   \n",
       "Living area          -0.029471  ...         0.009985   0.019230   -0.017349   \n",
       "Furnished            -0.044455  ...        -0.008185  -0.006681    0.000047   \n",
       "Terrace surface      -0.041716  ...         0.006259  -0.010368    0.000560   \n",
       "...                        ...  ...              ...        ...         ...   \n",
       "wondelgem             0.007372  ...        -0.001373  -0.001121   -0.001809   \n",
       "zaventem              0.003110  ...        -0.001566  -0.001278   -0.002063   \n",
       "zele                 -0.015627  ...        -0.001682  -0.001373   -0.002216   \n",
       "zottegem             -0.001846  ...        -0.002216  -0.001809   -0.002920   \n",
       "zwijnaarde           -0.012143  ...        -0.002038  -0.001664   -0.002685   \n",
       "\n",
       "                 woluwe-saint-lambert  woluwe-saint-pierre  wondelgem  \\\n",
       "Price                        0.006388             0.123757  -0.007758   \n",
       "Bedrooms                    -0.025670             0.038975  -0.009715   \n",
       "Living area                 -0.032013             0.042835  -0.011620   \n",
       "Furnished                   -0.001169            -0.021765  -0.006681   \n",
       "Terrace surface             -0.003937             0.021171  -0.008452   \n",
       "...                               ...                  ...        ...   \n",
       "wondelgem                   -0.004179            -0.003652   1.000000   \n",
       "zaventem                    -0.004765            -0.004164  -0.001278   \n",
       "zele                        -0.005120            -0.004474  -0.001373   \n",
       "zottegem                    -0.006744            -0.005894  -0.001809   \n",
       "zwijnaarde                  -0.006202            -0.005420  -0.001664   \n",
       "\n",
       "                 zaventem      zele  zottegem  zwijnaarde  \n",
       "Price            0.004591 -0.003834 -0.014448   -0.008587  \n",
       "Bedrooms         0.005488  0.008394 -0.015680   -0.037221  \n",
       "Living area      0.004053  0.010550 -0.008827   -0.024900  \n",
       "Furnished       -0.007619 -0.008185 -0.010782   -0.009916  \n",
       "Terrace surface  0.006990  0.000962 -0.001636    0.008776  \n",
       "...                   ...       ...       ...         ...  \n",
       "wondelgem       -0.001278 -0.001373 -0.001809   -0.001664  \n",
       "zaventem         1.000000 -0.001566 -0.002063   -0.001897  \n",
       "zele            -0.001566  1.000000 -0.002216   -0.002038  \n",
       "zottegem        -0.002063 -0.002216  1.000000   -0.002685  \n",
       "zwijnaarde      -0.001897 -0.002038 -0.002685    1.000000  \n",
       "\n",
       "[189 rows x 189 columns]"
      ]
     },
     "execution_count": 65,
     "metadata": {},
     "output_type": "execute_result"
    }
   ],
   "source": [
    "df_dummies.corr()"
   ]
  },
  {
   "cell_type": "markdown",
   "metadata": {},
   "source": [
    "### Define target and features"
   ]
  },
  {
   "cell_type": "code",
   "execution_count": 66,
   "metadata": {},
   "outputs": [
    {
     "name": "stdout",
     "output_type": "stream",
     "text": [
      "(8931, 1)\n",
      "(8931, 184)\n"
     ]
    }
   ],
   "source": [
    "\"\"\"Train model with :\n",
    "- Municipalities,\n",
    "- Number of bedrooms,\n",
    "- Living area,\n",
    "- Presence of super-equipped kitchen,\n",
    "- Presence of a swimming pool.\n",
    "\"\"\"\n",
    "\n",
    "y = np.array(df_dummies[\"Price\"]).reshape(-1, 1)\n",
    "X = np.array(df_dummies.drop([\n",
    "    \"Locality\",\n",
    "    \"Price\",\n",
    "    \"Kitchen type\",\n",
    "    \"Furnished\",\n",
    "    # \"Terrace surface\",\n",
    "    # \"Garden surface\",\n",
    "    \"equipped\",\n",
    "    \"not equipped\",\n",
    "    \"semi-equipped\",\n",
    "    \"Type of property\"\n",
    "    ], axis=1))\n",
    "\n",
    "print(y.shape)\n",
    "print(X.shape)"
   ]
  },
  {
   "cell_type": "markdown",
   "metadata": {},
   "source": [
    "### Train model"
   ]
  },
  {
   "cell_type": "code",
   "execution_count": 67,
   "metadata": {},
   "outputs": [
    {
     "name": "stdout",
     "output_type": "stream",
     "text": [
      "(6698, 1)\n",
      "(2233, 1)\n",
      "(6698, 184)\n",
      "(2233, 184)\n"
     ]
    }
   ],
   "source": [
    "X_train, X_test, y_train, y_test = train_test_split(X, y , test_size=0.25, random_state=1)\n",
    "\n",
    "print(y_train.shape)\n",
    "print(y_test.shape)\n",
    "print(X_train.shape)\n",
    "print(X_test.shape)"
   ]
  },
  {
   "cell_type": "code",
   "execution_count": 68,
   "metadata": {},
   "outputs": [],
   "source": [
    "# from sklearn.preprocessing import StandardScaler\n",
    "\n",
    "# scaler = StandardScaler()\n",
    "# scaler.fit(X_train)\n",
    "# features_scal = scaler.transform(X_train)"
   ]
  },
  {
   "cell_type": "code",
   "execution_count": 69,
   "metadata": {},
   "outputs": [
    {
     "data": {
      "text/plain": [
       "0.591399621143124"
      ]
     },
     "execution_count": 69,
     "metadata": {},
     "output_type": "execute_result"
    }
   ],
   "source": [
    "regressor = LinearRegression()\n",
    "regressor.fit(X_train, y_train)\n",
    "regressor.score(X_train, y_train)"
   ]
  },
  {
   "cell_type": "markdown",
   "metadata": {},
   "source": [
    "### Test model"
   ]
  },
  {
   "cell_type": "code",
   "execution_count": 70,
   "metadata": {},
   "outputs": [
    {
     "data": {
      "text/plain": [
       "0.6080761526875264"
      ]
     },
     "execution_count": 70,
     "metadata": {},
     "output_type": "execute_result"
    }
   ],
   "source": [
    "regressor.predict(X_test)\n",
    "regressor.score(X_test, y_test)"
   ]
  }
 ],
 "metadata": {
  "interpreter": {
   "hash": "64ad74572713e1424aba17af2f2fec00dd5a333d38ecaeb2e72657fb56da8a81"
  },
  "kernelspec": {
   "display_name": "Python 3.10.0 64-bit",
   "language": "python",
   "name": "python3"
  },
  "language_info": {
   "codemirror_mode": {
    "name": "ipython",
    "version": 3
   },
   "file_extension": ".py",
   "mimetype": "text/x-python",
   "name": "python",
   "nbconvert_exporter": "python",
   "pygments_lexer": "ipython3",
   "version": "3.10.0"
  },
  "orig_nbformat": 4
 },
 "nbformat": 4,
 "nbformat_minor": 2
}
